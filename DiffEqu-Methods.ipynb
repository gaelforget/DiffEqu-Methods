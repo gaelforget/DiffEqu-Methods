{
 "cells": [
  {
   "cell_type": "markdown",
   "metadata": {},
   "source": [
    "# Manually solving a differential equation"
   ]
  },
  {
   "cell_type": "markdown",
   "metadata": {},
   "source": [
    "* For reference, the function file which implements this method is titled `diffequ-manual.jl`"
   ]
  },
  {
   "cell_type": "markdown",
   "metadata": {},
   "source": [
    "To begin, we run the following code so we can print our plots:"
   ]
  },
  {
   "cell_type": "code",
   "execution_count": 110,
   "metadata": {},
   "outputs": [],
   "source": [
    "using Plots; gr();"
   ]
  },
  {
   "cell_type": "markdown",
   "metadata": {},
   "source": [
    "Recalling that our differential equation is in the form of\n",
    "\n",
    "$$ \\dot{X} = f(t), X(0) = 0 $$\n",
    "\n",
    "where $f(t) = \\cos{2\\pi t} + C$ and $C$ is an random float value on the open interval $(0,1)$, we define our function $X(t)$ as follows:"
   ]
  },
  {
   "cell_type": "code",
   "execution_count": 111,
   "metadata": {},
   "outputs": [
    {
     "data": {
      "text/plain": [
       "X (generic function with 1 method)"
      ]
     },
     "execution_count": 111,
     "metadata": {},
     "output_type": "execute_result"
    }
   ],
   "source": [
    "C = randn(1)[1];\n",
    "function X(t)\n",
    "    X = 1/(2*pi)*sin(2*pi*t) + C*t;\n",
    "end"
   ]
  },
  {
   "cell_type": "markdown",
   "metadata": {},
   "source": [
    "This establishes the function\n",
    "\n",
    "$$ X(t) = \\dfrac{1}{2\\pi}\\sin{2\\pi t} + Ct $$\n",
    "\n",
    "within our `diffequ-manual.jl` file.\n",
    "\n",
    "$$ \\sim $$\n",
    "\n",
    "We're interested in the time interval between $t = 0$ and $t = 10$ with a stepsize of $\\Delta t = 0.1$ To a create an array of $t$-values we can run the following code:"
   ]
  },
  {
   "cell_type": "code",
   "execution_count": 112,
   "metadata": {},
   "outputs": [],
   "source": [
    "t_list = collect(range(0,stop=10,step=0.1));\n",
    "N = size(t_list)[1];"
   ]
  },
  {
   "cell_type": "markdown",
   "metadata": {},
   "source": [
    "We now have a $ 1 \\times N $ array of the necessary $t$-values. To create the an array of the values of $X(t)$, we can use the following `for` loop:"
   ]
  },
  {
   "cell_type": "code",
   "execution_count": 113,
   "metadata": {},
   "outputs": [],
   "source": [
    "X_list = zeros(1,N);\n",
    "for j = 1:N\n",
    "    X_list[j] = X(t_list[j]);\n",
    "end\n",
    "X_list = X_list';"
   ]
  },
  {
   "cell_type": "markdown",
   "metadata": {},
   "source": [
    "The final line `X_list = X_list'` vectorizes our `X_list` variable, which ensures it's the same dimensions as our `t_list` for plotting purposes. We can now go ahead and plot our function:"
   ]
  },
  {
   "cell_type": "code",
   "execution_count": 114,
   "metadata": {},
   "outputs": [
    {
     "data": {
      "image/svg+xml": [
       "<?xml version=\"1.0\" encoding=\"utf-8\"?>\n",
       "<svg xmlns=\"http://www.w3.org/2000/svg\" xmlns:xlink=\"http://www.w3.org/1999/xlink\" width=\"600\" height=\"400\" viewBox=\"0 0 2400 1600\">\n",
       "<defs>\n",
       "  <clipPath id=\"clip0500\">\n",
       "    <rect x=\"0\" y=\"0\" width=\"2000\" height=\"2000\"/>\n",
       "  </clipPath>\n",
       "</defs>\n",
       "<defs>\n",
       "  <clipPath id=\"clip0501\">\n",
       "    <rect x=\"0\" y=\"0\" width=\"2400\" height=\"1600\"/>\n",
       "  </clipPath>\n",
       "</defs>\n",
       "<polygon clip-path=\"url(#clip0501)\" points=\"\n",
       "0,1600 2400,1600 2400,0 0,0 \n",
       "  \" fill=\"#ffffff\" fill-rule=\"evenodd\" fill-opacity=\"1\"/>\n",
       "<defs>\n",
       "  <clipPath id=\"clip0502\">\n",
       "    <rect x=\"480\" y=\"0\" width=\"1681\" height=\"1600\"/>\n",
       "  </clipPath>\n",
       "</defs>\n",
       "<polygon clip-path=\"url(#clip0501)\" points=\"\n",
       "149.361,1503.47 2321.26,1503.47 2321.26,47.2441 149.361,47.2441 \n",
       "  \" fill=\"#ffffff\" fill-rule=\"evenodd\" fill-opacity=\"1\"/>\n",
       "<defs>\n",
       "  <clipPath id=\"clip0503\">\n",
       "    <rect x=\"149\" y=\"47\" width=\"2173\" height=\"1457\"/>\n",
       "  </clipPath>\n",
       "</defs>\n",
       "<polyline clip-path=\"url(#clip0503)\" style=\"stroke:#000000; stroke-width:2; stroke-opacity:0.1; fill:none\" points=\"\n",
       "  210.829,1503.47 210.829,47.2441 \n",
       "  \"/>\n",
       "<polyline clip-path=\"url(#clip0503)\" style=\"stroke:#000000; stroke-width:2; stroke-opacity:0.1; fill:none\" points=\"\n",
       "  723.07,1503.47 723.07,47.2441 \n",
       "  \"/>\n",
       "<polyline clip-path=\"url(#clip0503)\" style=\"stroke:#000000; stroke-width:2; stroke-opacity:0.1; fill:none\" points=\"\n",
       "  1235.31,1503.47 1235.31,47.2441 \n",
       "  \"/>\n",
       "<polyline clip-path=\"url(#clip0503)\" style=\"stroke:#000000; stroke-width:2; stroke-opacity:0.1; fill:none\" points=\"\n",
       "  1747.55,1503.47 1747.55,47.2441 \n",
       "  \"/>\n",
       "<polyline clip-path=\"url(#clip0503)\" style=\"stroke:#000000; stroke-width:2; stroke-opacity:0.1; fill:none\" points=\"\n",
       "  2259.79,1503.47 2259.79,47.2441 \n",
       "  \"/>\n",
       "<polyline clip-path=\"url(#clip0503)\" style=\"stroke:#000000; stroke-width:2; stroke-opacity:0.1; fill:none\" points=\"\n",
       "  149.361,1231.67 2321.26,1231.67 \n",
       "  \"/>\n",
       "<polyline clip-path=\"url(#clip0503)\" style=\"stroke:#000000; stroke-width:2; stroke-opacity:0.1; fill:none\" points=\"\n",
       "  149.361,860.567 2321.26,860.567 \n",
       "  \"/>\n",
       "<polyline clip-path=\"url(#clip0503)\" style=\"stroke:#000000; stroke-width:2; stroke-opacity:0.1; fill:none\" points=\"\n",
       "  149.361,489.459 2321.26,489.459 \n",
       "  \"/>\n",
       "<polyline clip-path=\"url(#clip0503)\" style=\"stroke:#000000; stroke-width:2; stroke-opacity:0.1; fill:none\" points=\"\n",
       "  149.361,118.351 2321.26,118.351 \n",
       "  \"/>\n",
       "<polyline clip-path=\"url(#clip0501)\" style=\"stroke:#000000; stroke-width:4; stroke-opacity:1; fill:none\" points=\"\n",
       "  149.361,1503.47 2321.26,1503.47 \n",
       "  \"/>\n",
       "<polyline clip-path=\"url(#clip0501)\" style=\"stroke:#000000; stroke-width:4; stroke-opacity:1; fill:none\" points=\"\n",
       "  149.361,1503.47 149.361,47.2441 \n",
       "  \"/>\n",
       "<polyline clip-path=\"url(#clip0501)\" style=\"stroke:#000000; stroke-width:4; stroke-opacity:1; fill:none\" points=\"\n",
       "  210.829,1503.47 210.829,1481.63 \n",
       "  \"/>\n",
       "<polyline clip-path=\"url(#clip0501)\" style=\"stroke:#000000; stroke-width:4; stroke-opacity:1; fill:none\" points=\"\n",
       "  723.07,1503.47 723.07,1481.63 \n",
       "  \"/>\n",
       "<polyline clip-path=\"url(#clip0501)\" style=\"stroke:#000000; stroke-width:4; stroke-opacity:1; fill:none\" points=\"\n",
       "  1235.31,1503.47 1235.31,1481.63 \n",
       "  \"/>\n",
       "<polyline clip-path=\"url(#clip0501)\" style=\"stroke:#000000; stroke-width:4; stroke-opacity:1; fill:none\" points=\"\n",
       "  1747.55,1503.47 1747.55,1481.63 \n",
       "  \"/>\n",
       "<polyline clip-path=\"url(#clip0501)\" style=\"stroke:#000000; stroke-width:4; stroke-opacity:1; fill:none\" points=\"\n",
       "  2259.79,1503.47 2259.79,1481.63 \n",
       "  \"/>\n",
       "<polyline clip-path=\"url(#clip0501)\" style=\"stroke:#000000; stroke-width:4; stroke-opacity:1; fill:none\" points=\"\n",
       "  149.361,1231.67 181.939,1231.67 \n",
       "  \"/>\n",
       "<polyline clip-path=\"url(#clip0501)\" style=\"stroke:#000000; stroke-width:4; stroke-opacity:1; fill:none\" points=\"\n",
       "  149.361,860.567 181.939,860.567 \n",
       "  \"/>\n",
       "<polyline clip-path=\"url(#clip0501)\" style=\"stroke:#000000; stroke-width:4; stroke-opacity:1; fill:none\" points=\"\n",
       "  149.361,489.459 181.939,489.459 \n",
       "  \"/>\n",
       "<polyline clip-path=\"url(#clip0501)\" style=\"stroke:#000000; stroke-width:4; stroke-opacity:1; fill:none\" points=\"\n",
       "  149.361,118.351 181.939,118.351 \n",
       "  \"/>\n",
       "<g clip-path=\"url(#clip0501)\">\n",
       "<text style=\"fill:#000000; fill-opacity:1; font-family:Arial,Helvetica Neue,Helvetica,sans-serif; font-size:48px; text-anchor:middle;\" transform=\"rotate(0, 210.829, 1557.47)\" x=\"210.829\" y=\"1557.47\">0.0</text>\n",
       "</g>\n",
       "<g clip-path=\"url(#clip0501)\">\n",
       "<text style=\"fill:#000000; fill-opacity:1; font-family:Arial,Helvetica Neue,Helvetica,sans-serif; font-size:48px; text-anchor:middle;\" transform=\"rotate(0, 723.07, 1557.47)\" x=\"723.07\" y=\"1557.47\">2.5</text>\n",
       "</g>\n",
       "<g clip-path=\"url(#clip0501)\">\n",
       "<text style=\"fill:#000000; fill-opacity:1; font-family:Arial,Helvetica Neue,Helvetica,sans-serif; font-size:48px; text-anchor:middle;\" transform=\"rotate(0, 1235.31, 1557.47)\" x=\"1235.31\" y=\"1557.47\">5.0</text>\n",
       "</g>\n",
       "<g clip-path=\"url(#clip0501)\">\n",
       "<text style=\"fill:#000000; fill-opacity:1; font-family:Arial,Helvetica Neue,Helvetica,sans-serif; font-size:48px; text-anchor:middle;\" transform=\"rotate(0, 1747.55, 1557.47)\" x=\"1747.55\" y=\"1557.47\">7.5</text>\n",
       "</g>\n",
       "<g clip-path=\"url(#clip0501)\">\n",
       "<text style=\"fill:#000000; fill-opacity:1; font-family:Arial,Helvetica Neue,Helvetica,sans-serif; font-size:48px; text-anchor:middle;\" transform=\"rotate(0, 2259.79, 1557.47)\" x=\"2259.79\" y=\"1557.47\">10.0</text>\n",
       "</g>\n",
       "<g clip-path=\"url(#clip0501)\">\n",
       "<text style=\"fill:#000000; fill-opacity:1; font-family:Arial,Helvetica Neue,Helvetica,sans-serif; font-size:48px; text-anchor:end;\" transform=\"rotate(0, 125.361, 1249.17)\" x=\"125.361\" y=\"1249.17\">-3</text>\n",
       "</g>\n",
       "<g clip-path=\"url(#clip0501)\">\n",
       "<text style=\"fill:#000000; fill-opacity:1; font-family:Arial,Helvetica Neue,Helvetica,sans-serif; font-size:48px; text-anchor:end;\" transform=\"rotate(0, 125.361, 878.067)\" x=\"125.361\" y=\"878.067\">-2</text>\n",
       "</g>\n",
       "<g clip-path=\"url(#clip0501)\">\n",
       "<text style=\"fill:#000000; fill-opacity:1; font-family:Arial,Helvetica Neue,Helvetica,sans-serif; font-size:48px; text-anchor:end;\" transform=\"rotate(0, 125.361, 506.959)\" x=\"125.361\" y=\"506.959\">-1</text>\n",
       "</g>\n",
       "<g clip-path=\"url(#clip0501)\">\n",
       "<text style=\"fill:#000000; fill-opacity:1; font-family:Arial,Helvetica Neue,Helvetica,sans-serif; font-size:48px; text-anchor:end;\" transform=\"rotate(0, 125.361, 135.851)\" x=\"125.361\" y=\"135.851\">0</text>\n",
       "</g>\n",
       "<polyline clip-path=\"url(#clip0503)\" style=\"stroke:#009af9; stroke-width:8; stroke-opacity:1; fill:none\" points=\"\n",
       "  210.829,118.351 231.319,96.7741 251.809,88.4582 272.298,101.598 292.788,136.195 313.278,184.052 333.767,231.909 354.257,266.505 374.746,279.645 395.236,271.329 \n",
       "  415.726,249.752 436.215,228.176 456.705,219.86 477.194,233 497.684,267.596 518.174,315.453 538.663,363.31 559.153,397.907 579.643,411.047 600.132,402.731 \n",
       "  620.622,381.154 641.111,359.578 661.601,351.262 682.091,364.402 702.58,398.998 723.07,446.855 743.559,494.712 764.049,529.308 784.539,542.448 805.028,534.133 \n",
       "  825.518,512.556 846.008,490.979 866.497,482.663 886.987,495.804 907.476,530.4 927.966,578.257 948.456,626.114 968.945,660.71 989.435,673.85 1009.92,665.534 \n",
       "  1030.41,643.958 1050.9,622.381 1071.39,614.065 1091.88,627.205 1112.37,661.802 1132.86,709.659 1153.35,757.515 1173.84,792.112 1194.33,805.252 1214.82,796.936 \n",
       "  1235.31,775.359 1255.8,753.783 1276.29,745.467 1296.78,758.607 1317.27,793.203 1337.76,841.06 1358.25,888.917 1378.74,923.514 1399.23,936.654 1419.72,928.338 \n",
       "  1440.21,906.761 1460.7,885.185 1481.19,876.869 1501.68,890.009 1522.16,924.605 1542.65,972.462 1563.14,1020.32 1583.63,1054.92 1604.12,1068.06 1624.61,1059.74 \n",
       "  1645.1,1038.16 1665.59,1016.59 1686.08,1008.27 1706.57,1021.41 1727.06,1056.01 1747.55,1103.86 1768.04,1151.72 1788.53,1186.32 1809.02,1199.46 1829.51,1191.14 \n",
       "  1850,1169.56 1870.49,1147.99 1890.98,1139.67 1911.47,1152.81 1931.96,1187.41 1952.45,1235.27 1972.94,1283.12 1993.43,1317.72 2013.92,1330.86 2034.41,1322.54 \n",
       "  2054.89,1300.97 2075.38,1279.39 2095.87,1271.07 2116.36,1284.21 2136.85,1318.81 2157.34,1366.67 2177.83,1414.52 2198.32,1449.12 2218.81,1462.26 2239.3,1453.94 \n",
       "  2259.79,1432.37 \n",
       "  \"/>\n",
       "<polygon clip-path=\"url(#clip0501)\" points=\"\n",
       "1931.72,251.724 2249.26,251.724 2249.26,130.764 1931.72,130.764 \n",
       "  \" fill=\"#ffffff\" fill-rule=\"evenodd\" fill-opacity=\"1\"/>\n",
       "<polyline clip-path=\"url(#clip0501)\" style=\"stroke:#000000; stroke-width:4; stroke-opacity:1; fill:none\" points=\"\n",
       "  1931.72,251.724 2249.26,251.724 2249.26,130.764 1931.72,130.764 1931.72,251.724 \n",
       "  \"/>\n",
       "<polyline clip-path=\"url(#clip0501)\" style=\"stroke:#009af9; stroke-width:8; stroke-opacity:1; fill:none\" points=\"\n",
       "  1955.72,191.244 2099.72,191.244 \n",
       "  \"/>\n",
       "<g clip-path=\"url(#clip0501)\">\n",
       "<text style=\"fill:#000000; fill-opacity:1; font-family:Arial,Helvetica Neue,Helvetica,sans-serif; font-size:48px; text-anchor:start;\" transform=\"rotate(0, 2123.72, 208.744)\" x=\"2123.72\" y=\"208.744\">X(t)</text>\n",
       "</g>\n",
       "</svg>\n"
      ]
     },
     "execution_count": 114,
     "metadata": {},
     "output_type": "execute_result"
    }
   ],
   "source": [
    "plot(t_list,X_list,lw=2,label=\"X(t)\")"
   ]
  },
  {
   "cell_type": "markdown",
   "metadata": {},
   "source": [
    "$$\\sim$$"
   ]
  },
  {
   "cell_type": "markdown",
   "metadata": {},
   "source": [
    "# Using `DifferentialEquations.jl`"
   ]
  },
  {
   "cell_type": "markdown",
   "metadata": {},
   "source": [
    "* For reference, the function file which implements this method is titled `diffequ-pkg.jl`"
   ]
  },
  {
   "cell_type": "markdown",
   "metadata": {},
   "source": [
    "Although the solution we derived using separation of variables is correct, it becomes inconvenient to have to manually solve our differential equations. Luckily, we have the convenient alternative of using the `DifferentialEquations.jl` package. Let's go ahead an initialize it."
   ]
  },
  {
   "cell_type": "code",
   "execution_count": 117,
   "metadata": {},
   "outputs": [],
   "source": [
    "using DifferentialEquations"
   ]
  },
  {
   "cell_type": "markdown",
   "metadata": {},
   "source": [
    "In order to initialize our desired differential equation within Julia, we simply assign it to the \"variable\" `f(u,p,t)`:"
   ]
  },
  {
   "cell_type": "code",
   "execution_count": 118,
   "metadata": {},
   "outputs": [
    {
     "data": {
      "text/plain": [
       "f (generic function with 1 method)"
      ]
     },
     "execution_count": 118,
     "metadata": {},
     "output_type": "execute_result"
    }
   ],
   "source": [
    "f(u,p,t) = cos(2.0*pi*t)"
   ]
  },
  {
   "cell_type": "markdown",
   "metadata": {},
   "source": [
    "Here, we have no concerns regarding parameters (`p` variable), and we define our $t$-span (`t`) immediately after, so only `u` appears in our declaration. In addition to defining our time interval of interest, we must also provide an initial condition (we'll just use the one above again, i.e. $X(0) = 0$)."
   ]
  },
  {
   "cell_type": "code",
   "execution_count": 119,
   "metadata": {},
   "outputs": [],
   "source": [
    "u0 = 0.0;\n",
    "tspan = (0.0,10.0);"
   ]
  },
  {
   "cell_type": "markdown",
   "metadata": {},
   "source": [
    "The `DifferentialEquations` package allows us to define the type of differential equation we're solving. In this case, we have a *first order linear homogeneous differential equation*, so we define our \"problem\" as follows:"
   ]
  },
  {
   "cell_type": "code",
   "execution_count": 120,
   "metadata": {},
   "outputs": [
    {
     "data": {
      "text/plain": [
       "\u001b[36mODEProblem\u001b[0m with uType \u001b[36mFloat64\u001b[0m and tType \u001b[36mFloat64\u001b[0m. In-place: \u001b[36mfalse\u001b[0m\n",
       "timespan: (0.0, 10.0)\n",
       "u0: 0.0"
      ]
     },
     "execution_count": 120,
     "metadata": {},
     "output_type": "execute_result"
    }
   ],
   "source": [
    "prob = ODEProblem(f,u0,tspan);"
   ]
  },
  {
   "cell_type": "markdown",
   "metadata": {},
   "source": [
    "Here, all of our variables pop up, which makes since since we would need all three of *these* parameters if we were to solve by separation of varables, as we did previously. Moving on, our solution can be obtained as follows:"
   ]
  },
  {
   "cell_type": "code",
   "execution_count": 121,
   "metadata": {},
   "outputs": [],
   "source": [
    "solution = solve(prob,saveat=0.1);"
   ]
  },
  {
   "cell_type": "markdown",
   "metadata": {},
   "source": [
    "As we can note from our output (omitted for brevity), `sol` is a function containing arrays of our $t$ and $X(t)$ values. Important to note is the `saveat` parameter, which defines the stepsize at which the `DifferentialEquations` package 'saves' the $X(t)$ values. Since we wanted a stepsize of $\\Delta t = 0.1$, we assign a value of `0.1`. We can now plot our lovely graph:"
   ]
  },
  {
   "cell_type": "code",
   "execution_count": 122,
   "metadata": {},
   "outputs": [
    {
     "data": {
      "image/svg+xml": [
       "<?xml version=\"1.0\" encoding=\"utf-8\"?>\n",
       "<svg xmlns=\"http://www.w3.org/2000/svg\" xmlns:xlink=\"http://www.w3.org/1999/xlink\" width=\"600\" height=\"400\" viewBox=\"0 0 2400 1600\">\n",
       "<defs>\n",
       "  <clipPath id=\"clip0900\">\n",
       "    <rect x=\"0\" y=\"0\" width=\"2000\" height=\"2000\"/>\n",
       "  </clipPath>\n",
       "</defs>\n",
       "<defs>\n",
       "  <clipPath id=\"clip0901\">\n",
       "    <rect x=\"0\" y=\"0\" width=\"2400\" height=\"1600\"/>\n",
       "  </clipPath>\n",
       "</defs>\n",
       "<polygon clip-path=\"url(#clip0901)\" points=\"\n",
       "0,1600 2400,1600 2400,0 0,0 \n",
       "  \" fill=\"#ffffff\" fill-rule=\"evenodd\" fill-opacity=\"1\"/>\n",
       "<defs>\n",
       "  <clipPath id=\"clip0902\">\n",
       "    <rect x=\"480\" y=\"0\" width=\"1681\" height=\"1600\"/>\n",
       "  </clipPath>\n",
       "</defs>\n",
       "<polygon clip-path=\"url(#clip0901)\" points=\"\n",
       "216.266,1440.48 2321.26,1440.48 2321.26,47.2441 216.266,47.2441 \n",
       "  \" fill=\"#ffffff\" fill-rule=\"evenodd\" fill-opacity=\"1\"/>\n",
       "<defs>\n",
       "  <clipPath id=\"clip0903\">\n",
       "    <rect x=\"216\" y=\"47\" width=\"2106\" height=\"1394\"/>\n",
       "  </clipPath>\n",
       "</defs>\n",
       "<polyline clip-path=\"url(#clip0903)\" style=\"stroke:#000000; stroke-width:2; stroke-opacity:0.1; fill:none\" points=\"\n",
       "  216.266,1440.48 216.266,47.2441 \n",
       "  \"/>\n",
       "<polyline clip-path=\"url(#clip0903)\" style=\"stroke:#000000; stroke-width:2; stroke-opacity:0.1; fill:none\" points=\"\n",
       "  637.265,1440.48 637.265,47.2441 \n",
       "  \"/>\n",
       "<polyline clip-path=\"url(#clip0903)\" style=\"stroke:#000000; stroke-width:2; stroke-opacity:0.1; fill:none\" points=\"\n",
       "  1058.26,1440.48 1058.26,47.2441 \n",
       "  \"/>\n",
       "<polyline clip-path=\"url(#clip0903)\" style=\"stroke:#000000; stroke-width:2; stroke-opacity:0.1; fill:none\" points=\"\n",
       "  1479.26,1440.48 1479.26,47.2441 \n",
       "  \"/>\n",
       "<polyline clip-path=\"url(#clip0903)\" style=\"stroke:#000000; stroke-width:2; stroke-opacity:0.1; fill:none\" points=\"\n",
       "  1900.26,1440.48 1900.26,47.2441 \n",
       "  \"/>\n",
       "<polyline clip-path=\"url(#clip0903)\" style=\"stroke:#000000; stroke-width:2; stroke-opacity:0.1; fill:none\" points=\"\n",
       "  2321.26,1440.48 2321.26,47.2441 \n",
       "  \"/>\n",
       "<polyline clip-path=\"url(#clip0903)\" style=\"stroke:#000000; stroke-width:2; stroke-opacity:0.1; fill:none\" points=\"\n",
       "  216.266,1395.07 2321.26,1395.07 \n",
       "  \"/>\n",
       "<polyline clip-path=\"url(#clip0903)\" style=\"stroke:#000000; stroke-width:2; stroke-opacity:0.1; fill:none\" points=\"\n",
       "  216.266,1178 2321.26,1178 \n",
       "  \"/>\n",
       "<polyline clip-path=\"url(#clip0903)\" style=\"stroke:#000000; stroke-width:2; stroke-opacity:0.1; fill:none\" points=\"\n",
       "  216.266,960.926 2321.26,960.926 \n",
       "  \"/>\n",
       "<polyline clip-path=\"url(#clip0903)\" style=\"stroke:#000000; stroke-width:2; stroke-opacity:0.1; fill:none\" points=\"\n",
       "  216.266,743.853 2321.26,743.853 \n",
       "  \"/>\n",
       "<polyline clip-path=\"url(#clip0903)\" style=\"stroke:#000000; stroke-width:2; stroke-opacity:0.1; fill:none\" points=\"\n",
       "  216.266,526.78 2321.26,526.78 \n",
       "  \"/>\n",
       "<polyline clip-path=\"url(#clip0903)\" style=\"stroke:#000000; stroke-width:2; stroke-opacity:0.1; fill:none\" points=\"\n",
       "  216.266,309.707 2321.26,309.707 \n",
       "  \"/>\n",
       "<polyline clip-path=\"url(#clip0903)\" style=\"stroke:#000000; stroke-width:2; stroke-opacity:0.1; fill:none\" points=\"\n",
       "  216.266,92.6343 2321.26,92.6343 \n",
       "  \"/>\n",
       "<polyline clip-path=\"url(#clip0901)\" style=\"stroke:#000000; stroke-width:4; stroke-opacity:1; fill:none\" points=\"\n",
       "  216.266,1440.48 2321.26,1440.48 \n",
       "  \"/>\n",
       "<polyline clip-path=\"url(#clip0901)\" style=\"stroke:#000000; stroke-width:4; stroke-opacity:1; fill:none\" points=\"\n",
       "  216.266,1440.48 216.266,47.2441 \n",
       "  \"/>\n",
       "<polyline clip-path=\"url(#clip0901)\" style=\"stroke:#000000; stroke-width:4; stroke-opacity:1; fill:none\" points=\"\n",
       "  216.266,1440.48 216.266,1419.58 \n",
       "  \"/>\n",
       "<polyline clip-path=\"url(#clip0901)\" style=\"stroke:#000000; stroke-width:4; stroke-opacity:1; fill:none\" points=\"\n",
       "  637.265,1440.48 637.265,1419.58 \n",
       "  \"/>\n",
       "<polyline clip-path=\"url(#clip0901)\" style=\"stroke:#000000; stroke-width:4; stroke-opacity:1; fill:none\" points=\"\n",
       "  1058.26,1440.48 1058.26,1419.58 \n",
       "  \"/>\n",
       "<polyline clip-path=\"url(#clip0901)\" style=\"stroke:#000000; stroke-width:4; stroke-opacity:1; fill:none\" points=\"\n",
       "  1479.26,1440.48 1479.26,1419.58 \n",
       "  \"/>\n",
       "<polyline clip-path=\"url(#clip0901)\" style=\"stroke:#000000; stroke-width:4; stroke-opacity:1; fill:none\" points=\"\n",
       "  1900.26,1440.48 1900.26,1419.58 \n",
       "  \"/>\n",
       "<polyline clip-path=\"url(#clip0901)\" style=\"stroke:#000000; stroke-width:4; stroke-opacity:1; fill:none\" points=\"\n",
       "  2321.26,1440.48 2321.26,1419.58 \n",
       "  \"/>\n",
       "<polyline clip-path=\"url(#clip0901)\" style=\"stroke:#000000; stroke-width:4; stroke-opacity:1; fill:none\" points=\"\n",
       "  216.266,1395.07 247.841,1395.07 \n",
       "  \"/>\n",
       "<polyline clip-path=\"url(#clip0901)\" style=\"stroke:#000000; stroke-width:4; stroke-opacity:1; fill:none\" points=\"\n",
       "  216.266,1178 247.841,1178 \n",
       "  \"/>\n",
       "<polyline clip-path=\"url(#clip0901)\" style=\"stroke:#000000; stroke-width:4; stroke-opacity:1; fill:none\" points=\"\n",
       "  216.266,960.926 247.841,960.926 \n",
       "  \"/>\n",
       "<polyline clip-path=\"url(#clip0901)\" style=\"stroke:#000000; stroke-width:4; stroke-opacity:1; fill:none\" points=\"\n",
       "  216.266,743.853 247.841,743.853 \n",
       "  \"/>\n",
       "<polyline clip-path=\"url(#clip0901)\" style=\"stroke:#000000; stroke-width:4; stroke-opacity:1; fill:none\" points=\"\n",
       "  216.266,526.78 247.841,526.78 \n",
       "  \"/>\n",
       "<polyline clip-path=\"url(#clip0901)\" style=\"stroke:#000000; stroke-width:4; stroke-opacity:1; fill:none\" points=\"\n",
       "  216.266,309.707 247.841,309.707 \n",
       "  \"/>\n",
       "<polyline clip-path=\"url(#clip0901)\" style=\"stroke:#000000; stroke-width:4; stroke-opacity:1; fill:none\" points=\"\n",
       "  216.266,92.6343 247.841,92.6343 \n",
       "  \"/>\n",
       "<g clip-path=\"url(#clip0901)\">\n",
       "<text style=\"fill:#000000; fill-opacity:1; font-family:Arial,Helvetica Neue,Helvetica,sans-serif; font-size:48px; text-anchor:middle;\" transform=\"rotate(0, 216.266, 1494.48)\" x=\"216.266\" y=\"1494.48\">0</text>\n",
       "</g>\n",
       "<g clip-path=\"url(#clip0901)\">\n",
       "<text style=\"fill:#000000; fill-opacity:1; font-family:Arial,Helvetica Neue,Helvetica,sans-serif; font-size:48px; text-anchor:middle;\" transform=\"rotate(0, 637.265, 1494.48)\" x=\"637.265\" y=\"1494.48\">2</text>\n",
       "</g>\n",
       "<g clip-path=\"url(#clip0901)\">\n",
       "<text style=\"fill:#000000; fill-opacity:1; font-family:Arial,Helvetica Neue,Helvetica,sans-serif; font-size:48px; text-anchor:middle;\" transform=\"rotate(0, 1058.26, 1494.48)\" x=\"1058.26\" y=\"1494.48\">4</text>\n",
       "</g>\n",
       "<g clip-path=\"url(#clip0901)\">\n",
       "<text style=\"fill:#000000; fill-opacity:1; font-family:Arial,Helvetica Neue,Helvetica,sans-serif; font-size:48px; text-anchor:middle;\" transform=\"rotate(0, 1479.26, 1494.48)\" x=\"1479.26\" y=\"1494.48\">6</text>\n",
       "</g>\n",
       "<g clip-path=\"url(#clip0901)\">\n",
       "<text style=\"fill:#000000; fill-opacity:1; font-family:Arial,Helvetica Neue,Helvetica,sans-serif; font-size:48px; text-anchor:middle;\" transform=\"rotate(0, 1900.26, 1494.48)\" x=\"1900.26\" y=\"1494.48\">8</text>\n",
       "</g>\n",
       "<g clip-path=\"url(#clip0901)\">\n",
       "<text style=\"fill:#000000; fill-opacity:1; font-family:Arial,Helvetica Neue,Helvetica,sans-serif; font-size:48px; text-anchor:middle;\" transform=\"rotate(0, 2321.26, 1494.48)\" x=\"2321.26\" y=\"1494.48\">10</text>\n",
       "</g>\n",
       "<g clip-path=\"url(#clip0901)\">\n",
       "<text style=\"fill:#000000; fill-opacity:1; font-family:Arial,Helvetica Neue,Helvetica,sans-serif; font-size:48px; text-anchor:end;\" transform=\"rotate(0, 192.266, 1412.57)\" x=\"192.266\" y=\"1412.57\">-0.15</text>\n",
       "</g>\n",
       "<g clip-path=\"url(#clip0901)\">\n",
       "<text style=\"fill:#000000; fill-opacity:1; font-family:Arial,Helvetica Neue,Helvetica,sans-serif; font-size:48px; text-anchor:end;\" transform=\"rotate(0, 192.266, 1195.5)\" x=\"192.266\" y=\"1195.5\">-0.10</text>\n",
       "</g>\n",
       "<g clip-path=\"url(#clip0901)\">\n",
       "<text style=\"fill:#000000; fill-opacity:1; font-family:Arial,Helvetica Neue,Helvetica,sans-serif; font-size:48px; text-anchor:end;\" transform=\"rotate(0, 192.266, 978.426)\" x=\"192.266\" y=\"978.426\">-0.05</text>\n",
       "</g>\n",
       "<g clip-path=\"url(#clip0901)\">\n",
       "<text style=\"fill:#000000; fill-opacity:1; font-family:Arial,Helvetica Neue,Helvetica,sans-serif; font-size:48px; text-anchor:end;\" transform=\"rotate(0, 192.266, 761.353)\" x=\"192.266\" y=\"761.353\">0.00</text>\n",
       "</g>\n",
       "<g clip-path=\"url(#clip0901)\">\n",
       "<text style=\"fill:#000000; fill-opacity:1; font-family:Arial,Helvetica Neue,Helvetica,sans-serif; font-size:48px; text-anchor:end;\" transform=\"rotate(0, 192.266, 544.28)\" x=\"192.266\" y=\"544.28\">0.05</text>\n",
       "</g>\n",
       "<g clip-path=\"url(#clip0901)\">\n",
       "<text style=\"fill:#000000; fill-opacity:1; font-family:Arial,Helvetica Neue,Helvetica,sans-serif; font-size:48px; text-anchor:end;\" transform=\"rotate(0, 192.266, 327.207)\" x=\"192.266\" y=\"327.207\">0.10</text>\n",
       "</g>\n",
       "<g clip-path=\"url(#clip0901)\">\n",
       "<text style=\"fill:#000000; fill-opacity:1; font-family:Arial,Helvetica Neue,Helvetica,sans-serif; font-size:48px; text-anchor:end;\" transform=\"rotate(0, 192.266, 110.134)\" x=\"192.266\" y=\"110.134\">0.15</text>\n",
       "</g>\n",
       "<g clip-path=\"url(#clip0901)\">\n",
       "<text style=\"fill:#000000; fill-opacity:1; font-family:Arial,Helvetica Neue,Helvetica,sans-serif; font-size:66px; text-anchor:middle;\" transform=\"rotate(0, 1268.76, 1590.4)\" x=\"1268.76\" y=\"1590.4\">t</text>\n",
       "</g>\n",
       "<polyline clip-path=\"url(#clip0903)\" style=\"stroke:#009af9; stroke-width:12; stroke-opacity:1; fill:none\" points=\"\n",
       "  216.266,743.853 237.316,337.714 258.366,86.7065 279.416,86.7065 300.466,337.692 321.516,743.872 342.566,1149.99 363.616,1401 384.666,1400.91 405.716,1150.12 \n",
       "  426.766,743.789 447.816,337.791 468.866,86.6911 489.916,86.6754 510.966,338.092 532.015,743.687 553.065,1149.97 574.115,1401.02 595.165,1400.98 616.215,1148.73 \n",
       "  637.265,744.855 658.315,337.812 679.365,86.7415 700.415,86.7935 721.465,339.098 742.515,743.048 763.565,1149.92 784.615,1401.04 805.665,1400.99 826.715,1148.55 \n",
       "  847.764,744.657 868.814,337.978 889.864,86.753 910.914,86.8024 931.964,339.448 953.014,743.232 974.064,1149.57 995.114,1401.01 1016.16,1400.97 1037.21,1148.6 \n",
       "  1058.26,744.524 1079.31,337.963 1100.36,86.7606 1121.41,86.9227 1142.46,338.736 1163.51,742.761 1184.56,1149.96 1205.61,1400.97 1226.66,1400.77 1247.71,1149.21 \n",
       "  1268.76,744.894 1289.81,337.732 1310.86,86.7465 1331.91,86.8469 1352.96,338.899 1374.01,742.742 1395.06,1149.94 1416.11,1401.02 1437.16,1400.94 1458.21,1148.5 \n",
       "  1479.26,744.526 1500.31,338 1521.36,86.6974 1542.41,86.7585 1563.46,339.15 1584.51,743.496 1605.56,1149.53 1626.61,1400.98 1647.66,1400.95 1668.71,1148.64 \n",
       "  1689.76,744.8 1710.81,337.809 1731.86,86.7477 1752.91,86.8725 1773.96,338.932 1795.01,742.705 1816.06,1149.93 1837.11,1400.98 1858.16,1400.93 1879.21,1148.17 \n",
       "  1900.26,744.922 1921.31,338.096 1942.36,86.7338 1963.41,86.7997 1984.46,339.659 2005.51,744.2 2026.56,1148.69 2047.61,1400.96 2068.66,1400.97 2089.71,1148.95 \n",
       "  2110.76,743.214 2131.81,338.736 2152.86,86.7392 2173.91,86.6859 2194.96,338.168 2216.01,744.707 2237.06,1149.11 2258.11,1400.96 2279.16,1401.05 2300.21,1149.97 \n",
       "  2321.26,743.832 \n",
       "  \"/>\n",
       "<polygon clip-path=\"url(#clip0901)\" points=\"\n",
       "1931.72,251.724 2249.26,251.724 2249.26,130.764 1931.72,130.764 \n",
       "  \" fill=\"#ffffff\" fill-rule=\"evenodd\" fill-opacity=\"1\"/>\n",
       "<polyline clip-path=\"url(#clip0901)\" style=\"stroke:#000000; stroke-width:4; stroke-opacity:1; fill:none\" points=\"\n",
       "  1931.72,251.724 2249.26,251.724 2249.26,130.764 1931.72,130.764 1931.72,251.724 \n",
       "  \"/>\n",
       "<polyline clip-path=\"url(#clip0901)\" style=\"stroke:#009af9; stroke-width:12; stroke-opacity:1; fill:none\" points=\"\n",
       "  1955.72,191.244 2099.72,191.244 \n",
       "  \"/>\n",
       "<g clip-path=\"url(#clip0901)\">\n",
       "<text style=\"fill:#000000; fill-opacity:1; font-family:Arial,Helvetica Neue,Helvetica,sans-serif; font-size:48px; text-anchor:start;\" transform=\"rotate(0, 2123.72, 208.744)\" x=\"2123.72\" y=\"208.744\">X(t)</text>\n",
       "</g>\n",
       "</svg>\n"
      ]
     },
     "execution_count": 122,
     "metadata": {},
     "output_type": "execute_result"
    }
   ],
   "source": [
    "plot(solution,label=\"X(t)\")"
   ]
  },
  {
   "cell_type": "markdown",
   "metadata": {},
   "source": [
    "We can also compare our solutions to each other as follows:"
   ]
  },
  {
   "cell_type": "code",
   "execution_count": 125,
   "metadata": {},
   "outputs": [
    {
     "data": {
      "image/svg+xml": [
       "<?xml version=\"1.0\" encoding=\"utf-8\"?>\n",
       "<svg xmlns=\"http://www.w3.org/2000/svg\" xmlns:xlink=\"http://www.w3.org/1999/xlink\" width=\"600\" height=\"400\" viewBox=\"0 0 2400 1600\">\n",
       "<defs>\n",
       "  <clipPath id=\"clip1500\">\n",
       "    <rect x=\"0\" y=\"0\" width=\"2000\" height=\"2000\"/>\n",
       "  </clipPath>\n",
       "</defs>\n",
       "<defs>\n",
       "  <clipPath id=\"clip1501\">\n",
       "    <rect x=\"0\" y=\"0\" width=\"2400\" height=\"1600\"/>\n",
       "  </clipPath>\n",
       "</defs>\n",
       "<polygon clip-path=\"url(#clip1501)\" points=\"\n",
       "0,1600 2400,1600 2400,0 0,0 \n",
       "  \" fill=\"#ffffff\" fill-rule=\"evenodd\" fill-opacity=\"1\"/>\n",
       "<defs>\n",
       "  <clipPath id=\"clip1502\">\n",
       "    <rect x=\"480\" y=\"0\" width=\"1681\" height=\"1600\"/>\n",
       "  </clipPath>\n",
       "</defs>\n",
       "<polygon clip-path=\"url(#clip1501)\" points=\"\n",
       "149.361,1440.48 2321.26,1440.48 2321.26,47.2441 149.361,47.2441 \n",
       "  \" fill=\"#ffffff\" fill-rule=\"evenodd\" fill-opacity=\"1\"/>\n",
       "<defs>\n",
       "  <clipPath id=\"clip1503\">\n",
       "    <rect x=\"149\" y=\"47\" width=\"2173\" height=\"1394\"/>\n",
       "  </clipPath>\n",
       "</defs>\n",
       "<polyline clip-path=\"url(#clip1503)\" style=\"stroke:#000000; stroke-width:2; stroke-opacity:0.1; fill:none\" points=\"\n",
       "  149.361,1440.48 149.361,47.2441 \n",
       "  \"/>\n",
       "<polyline clip-path=\"url(#clip1503)\" style=\"stroke:#000000; stroke-width:2; stroke-opacity:0.1; fill:none\" points=\"\n",
       "  583.74,1440.48 583.74,47.2441 \n",
       "  \"/>\n",
       "<polyline clip-path=\"url(#clip1503)\" style=\"stroke:#000000; stroke-width:2; stroke-opacity:0.1; fill:none\" points=\"\n",
       "  1018.12,1440.48 1018.12,47.2441 \n",
       "  \"/>\n",
       "<polyline clip-path=\"url(#clip1503)\" style=\"stroke:#000000; stroke-width:2; stroke-opacity:0.1; fill:none\" points=\"\n",
       "  1452.5,1440.48 1452.5,47.2441 \n",
       "  \"/>\n",
       "<polyline clip-path=\"url(#clip1503)\" style=\"stroke:#000000; stroke-width:2; stroke-opacity:0.1; fill:none\" points=\"\n",
       "  1886.88,1440.48 1886.88,47.2441 \n",
       "  \"/>\n",
       "<polyline clip-path=\"url(#clip1503)\" style=\"stroke:#000000; stroke-width:2; stroke-opacity:0.1; fill:none\" points=\"\n",
       "  2321.26,1440.48 2321.26,47.2441 \n",
       "  \"/>\n",
       "<polyline clip-path=\"url(#clip1503)\" style=\"stroke:#000000; stroke-width:2; stroke-opacity:0.1; fill:none\" points=\"\n",
       "  149.361,1184.58 2321.26,1184.58 \n",
       "  \"/>\n",
       "<polyline clip-path=\"url(#clip1503)\" style=\"stroke:#000000; stroke-width:2; stroke-opacity:0.1; fill:none\" points=\"\n",
       "  149.361,836.192 2321.26,836.192 \n",
       "  \"/>\n",
       "<polyline clip-path=\"url(#clip1503)\" style=\"stroke:#000000; stroke-width:2; stroke-opacity:0.1; fill:none\" points=\"\n",
       "  149.361,487.802 2321.26,487.802 \n",
       "  \"/>\n",
       "<polyline clip-path=\"url(#clip1503)\" style=\"stroke:#000000; stroke-width:2; stroke-opacity:0.1; fill:none\" points=\"\n",
       "  149.361,139.412 2321.26,139.412 \n",
       "  \"/>\n",
       "<polyline clip-path=\"url(#clip1501)\" style=\"stroke:#000000; stroke-width:4; stroke-opacity:1; fill:none\" points=\"\n",
       "  149.361,1440.48 2321.26,1440.48 \n",
       "  \"/>\n",
       "<polyline clip-path=\"url(#clip1501)\" style=\"stroke:#000000; stroke-width:4; stroke-opacity:1; fill:none\" points=\"\n",
       "  149.361,1440.48 149.361,47.2441 \n",
       "  \"/>\n",
       "<polyline clip-path=\"url(#clip1501)\" style=\"stroke:#000000; stroke-width:4; stroke-opacity:1; fill:none\" points=\"\n",
       "  149.361,1440.48 149.361,1419.58 \n",
       "  \"/>\n",
       "<polyline clip-path=\"url(#clip1501)\" style=\"stroke:#000000; stroke-width:4; stroke-opacity:1; fill:none\" points=\"\n",
       "  583.74,1440.48 583.74,1419.58 \n",
       "  \"/>\n",
       "<polyline clip-path=\"url(#clip1501)\" style=\"stroke:#000000; stroke-width:4; stroke-opacity:1; fill:none\" points=\"\n",
       "  1018.12,1440.48 1018.12,1419.58 \n",
       "  \"/>\n",
       "<polyline clip-path=\"url(#clip1501)\" style=\"stroke:#000000; stroke-width:4; stroke-opacity:1; fill:none\" points=\"\n",
       "  1452.5,1440.48 1452.5,1419.58 \n",
       "  \"/>\n",
       "<polyline clip-path=\"url(#clip1501)\" style=\"stroke:#000000; stroke-width:4; stroke-opacity:1; fill:none\" points=\"\n",
       "  1886.88,1440.48 1886.88,1419.58 \n",
       "  \"/>\n",
       "<polyline clip-path=\"url(#clip1501)\" style=\"stroke:#000000; stroke-width:4; stroke-opacity:1; fill:none\" points=\"\n",
       "  2321.26,1440.48 2321.26,1419.58 \n",
       "  \"/>\n",
       "<polyline clip-path=\"url(#clip1501)\" style=\"stroke:#000000; stroke-width:4; stroke-opacity:1; fill:none\" points=\"\n",
       "  149.361,1184.58 181.939,1184.58 \n",
       "  \"/>\n",
       "<polyline clip-path=\"url(#clip1501)\" style=\"stroke:#000000; stroke-width:4; stroke-opacity:1; fill:none\" points=\"\n",
       "  149.361,836.192 181.939,836.192 \n",
       "  \"/>\n",
       "<polyline clip-path=\"url(#clip1501)\" style=\"stroke:#000000; stroke-width:4; stroke-opacity:1; fill:none\" points=\"\n",
       "  149.361,487.802 181.939,487.802 \n",
       "  \"/>\n",
       "<polyline clip-path=\"url(#clip1501)\" style=\"stroke:#000000; stroke-width:4; stroke-opacity:1; fill:none\" points=\"\n",
       "  149.361,139.412 181.939,139.412 \n",
       "  \"/>\n",
       "<g clip-path=\"url(#clip1501)\">\n",
       "<text style=\"fill:#000000; fill-opacity:1; font-family:Arial,Helvetica Neue,Helvetica,sans-serif; font-size:48px; text-anchor:middle;\" transform=\"rotate(0, 149.361, 1494.48)\" x=\"149.361\" y=\"1494.48\">0</text>\n",
       "</g>\n",
       "<g clip-path=\"url(#clip1501)\">\n",
       "<text style=\"fill:#000000; fill-opacity:1; font-family:Arial,Helvetica Neue,Helvetica,sans-serif; font-size:48px; text-anchor:middle;\" transform=\"rotate(0, 583.74, 1494.48)\" x=\"583.74\" y=\"1494.48\">2</text>\n",
       "</g>\n",
       "<g clip-path=\"url(#clip1501)\">\n",
       "<text style=\"fill:#000000; fill-opacity:1; font-family:Arial,Helvetica Neue,Helvetica,sans-serif; font-size:48px; text-anchor:middle;\" transform=\"rotate(0, 1018.12, 1494.48)\" x=\"1018.12\" y=\"1494.48\">4</text>\n",
       "</g>\n",
       "<g clip-path=\"url(#clip1501)\">\n",
       "<text style=\"fill:#000000; fill-opacity:1; font-family:Arial,Helvetica Neue,Helvetica,sans-serif; font-size:48px; text-anchor:middle;\" transform=\"rotate(0, 1452.5, 1494.48)\" x=\"1452.5\" y=\"1494.48\">6</text>\n",
       "</g>\n",
       "<g clip-path=\"url(#clip1501)\">\n",
       "<text style=\"fill:#000000; fill-opacity:1; font-family:Arial,Helvetica Neue,Helvetica,sans-serif; font-size:48px; text-anchor:middle;\" transform=\"rotate(0, 1886.88, 1494.48)\" x=\"1886.88\" y=\"1494.48\">8</text>\n",
       "</g>\n",
       "<g clip-path=\"url(#clip1501)\">\n",
       "<text style=\"fill:#000000; fill-opacity:1; font-family:Arial,Helvetica Neue,Helvetica,sans-serif; font-size:48px; text-anchor:middle;\" transform=\"rotate(0, 2321.26, 1494.48)\" x=\"2321.26\" y=\"1494.48\">10</text>\n",
       "</g>\n",
       "<g clip-path=\"url(#clip1501)\">\n",
       "<text style=\"fill:#000000; fill-opacity:1; font-family:Arial,Helvetica Neue,Helvetica,sans-serif; font-size:48px; text-anchor:end;\" transform=\"rotate(0, 125.361, 1202.08)\" x=\"125.361\" y=\"1202.08\">-3</text>\n",
       "</g>\n",
       "<g clip-path=\"url(#clip1501)\">\n",
       "<text style=\"fill:#000000; fill-opacity:1; font-family:Arial,Helvetica Neue,Helvetica,sans-serif; font-size:48px; text-anchor:end;\" transform=\"rotate(0, 125.361, 853.692)\" x=\"125.361\" y=\"853.692\">-2</text>\n",
       "</g>\n",
       "<g clip-path=\"url(#clip1501)\">\n",
       "<text style=\"fill:#000000; fill-opacity:1; font-family:Arial,Helvetica Neue,Helvetica,sans-serif; font-size:48px; text-anchor:end;\" transform=\"rotate(0, 125.361, 505.302)\" x=\"125.361\" y=\"505.302\">-1</text>\n",
       "</g>\n",
       "<g clip-path=\"url(#clip1501)\">\n",
       "<text style=\"fill:#000000; fill-opacity:1; font-family:Arial,Helvetica Neue,Helvetica,sans-serif; font-size:48px; text-anchor:end;\" transform=\"rotate(0, 125.361, 156.912)\" x=\"125.361\" y=\"156.912\">0</text>\n",
       "</g>\n",
       "<g clip-path=\"url(#clip1501)\">\n",
       "<text style=\"fill:#000000; fill-opacity:1; font-family:Arial,Helvetica Neue,Helvetica,sans-serif; font-size:66px; text-anchor:middle;\" transform=\"rotate(0, 1235.31, 1590.4)\" x=\"1235.31\" y=\"1590.4\">t</text>\n",
       "</g>\n",
       "<polyline clip-path=\"url(#clip1503)\" style=\"stroke:#009af9; stroke-width:4; stroke-opacity:1; fill:none\" stroke-dasharray=\"2, 4\" points=\"\n",
       "  149.361,139.412 171.08,119.156 192.799,111.349 214.518,123.685 236.237,156.164 257.956,201.091 279.675,246.018 301.394,278.497 323.113,290.832 344.832,283.025 \n",
       "  366.551,262.77 388.27,242.514 409.989,234.707 431.708,247.043 453.427,279.521 475.145,324.449 496.864,369.376 518.583,401.854 540.302,414.19 562.021,406.383 \n",
       "  583.74,386.127 605.459,365.872 627.178,358.065 648.897,370.401 670.616,402.879 692.335,447.806 714.054,492.733 735.773,525.212 757.492,537.548 779.211,529.741 \n",
       "  800.93,509.485 822.649,489.229 844.368,481.422 866.087,493.758 887.806,526.237 909.525,571.164 931.244,616.091 952.963,648.57 974.682,660.905 996.401,653.098 \n",
       "  1018.12,632.843 1039.84,612.587 1061.56,604.78 1083.28,617.116 1105,649.594 1126.72,694.522 1148.43,739.449 1170.15,771.927 1191.87,784.263 1213.59,776.456 \n",
       "  1235.31,756.2 1257.03,735.945 1278.75,728.138 1300.47,740.474 1322.19,772.952 1343.91,817.879 1365.62,862.806 1387.34,895.285 1409.06,907.621 1430.78,899.814 \n",
       "  1452.5,879.558 1474.22,859.302 1495.94,851.495 1517.66,863.831 1539.38,896.31 1561.1,941.237 1582.81,986.164 1604.53,1018.64 1626.25,1030.98 1647.97,1023.17 \n",
       "  1669.69,1002.92 1691.41,982.66 1713.13,974.853 1734.85,987.189 1756.57,1019.67 1778.29,1064.59 1800,1109.52 1821.72,1142 1843.44,1154.34 1865.16,1146.53 \n",
       "  1886.88,1126.27 1908.6,1106.02 1930.32,1098.21 1952.04,1110.55 1973.76,1143.02 1995.47,1187.95 2017.19,1232.88 2038.91,1265.36 2060.63,1277.69 2082.35,1269.89 \n",
       "  2104.07,1249.63 2125.79,1229.38 2147.51,1221.57 2169.23,1233.9 2190.95,1266.38 2212.66,1311.31 2234.38,1356.24 2256.1,1388.72 2277.82,1401.05 2299.54,1393.24 \n",
       "  2321.26,1372.99 \n",
       "  \"/>\n",
       "<polyline clip-path=\"url(#clip1503)\" style=\"stroke:#e26f46; stroke-width:4; stroke-opacity:1; fill:none\" stroke-dasharray=\"2, 4\" points=\"\n",
       "  149.361,139.412 171.08,106.821 192.799,86.6779 214.518,86.6779 236.237,106.819 257.956,139.414 279.675,172.003 301.394,192.146 323.113,192.139 344.832,172.013 \n",
       "  366.551,139.407 388.27,106.827 409.989,86.6766 431.708,86.6754 453.427,106.851 475.145,139.399 496.864,172.002 518.583,192.148 540.302,192.145 562.021,171.902 \n",
       "  583.74,139.492 605.459,106.828 627.178,86.6807 648.897,86.6848 670.616,106.932 692.335,139.347 714.054,171.998 735.773,192.149 757.492,192.145 779.211,171.888 \n",
       "  800.93,139.477 822.649,106.842 844.368,86.6816 866.087,86.6856 887.806,106.96 909.525,139.362 931.244,171.97 952.963,192.147 974.682,192.144 996.401,171.892 \n",
       "  1018.12,139.466 1039.84,106.841 1061.56,86.6822 1083.28,86.6952 1105,106.903 1126.72,139.324 1148.43,172.001 1170.15,192.144 1191.87,192.128 1213.59,171.94 \n",
       "  1235.31,139.496 1257.03,106.822 1278.75,86.6811 1300.47,86.6891 1322.19,106.916 1343.91,139.323 1365.62,171.999 1387.34,192.148 1409.06,192.142 1430.78,171.883 \n",
       "  1452.5,139.466 1474.22,106.843 1495.94,86.6771 1517.66,86.682 1539.38,106.936 1561.1,139.383 1582.81,171.966 1604.53,192.144 1626.25,192.142 1647.97,171.895 \n",
       "  1669.69,139.488 1691.41,106.828 1713.13,86.6812 1734.85,86.6912 1756.57,106.918 1778.29,139.32 1800,171.999 1821.72,192.145 1843.44,192.141 1865.16,171.857 \n",
       "  1886.88,139.498 1908.6,106.851 1930.32,86.6801 1952.04,86.6854 1973.76,106.977 1995.47,139.44 2017.19,171.899 2038.91,192.143 2060.63,192.144 2082.35,171.92 \n",
       "  2104.07,139.361 2125.79,106.903 2147.51,86.6805 2169.23,86.6762 2190.95,106.857 2212.66,139.481 2234.38,171.933 2256.1,192.143 2277.82,192.15 2299.54,172.002 \n",
       "  2321.26,139.41 \n",
       "  \"/>\n",
       "<polygon clip-path=\"url(#clip1501)\" points=\"\n",
       "1530.43,312.204 2249.26,312.204 2249.26,130.764 1530.43,130.764 \n",
       "  \" fill=\"#ffffff\" fill-rule=\"evenodd\" fill-opacity=\"1\"/>\n",
       "<polyline clip-path=\"url(#clip1501)\" style=\"stroke:#000000; stroke-width:4; stroke-opacity:1; fill:none\" points=\"\n",
       "  1530.43,312.204 2249.26,312.204 2249.26,130.764 1530.43,130.764 1530.43,312.204 \n",
       "  \"/>\n",
       "<polyline clip-path=\"url(#clip1501)\" style=\"stroke:#009af9; stroke-width:4; stroke-opacity:1; fill:none\" stroke-dasharray=\"2, 4\" points=\"\n",
       "  1554.43,191.244 1698.43,191.244 \n",
       "  \"/>\n",
       "<g clip-path=\"url(#clip1501)\">\n",
       "<text style=\"fill:#000000; fill-opacity:1; font-family:Arial,Helvetica Neue,Helvetica,sans-serif; font-size:48px; text-anchor:start;\" transform=\"rotate(0, 1722.43, 208.744)\" x=\"1722.43\" y=\"208.744\">Manual solution</text>\n",
       "</g>\n",
       "<polyline clip-path=\"url(#clip1501)\" style=\"stroke:#e26f46; stroke-width:4; stroke-opacity:1; fill:none\" stroke-dasharray=\"2, 4\" points=\"\n",
       "  1554.43,251.724 1698.43,251.724 \n",
       "  \"/>\n",
       "<g clip-path=\"url(#clip1501)\">\n",
       "<text style=\"fill:#000000; fill-opacity:1; font-family:Arial,Helvetica Neue,Helvetica,sans-serif; font-size:48px; text-anchor:start;\" transform=\"rotate(0, 1722.43, 269.224)\" x=\"1722.43\" y=\"269.224\">DifferentialEquations.jl</text>\n",
       "</g>\n",
       "</svg>\n"
      ]
     },
     "execution_count": 125,
     "metadata": {},
     "output_type": "execute_result"
    }
   ],
   "source": [
    "plot(t_list,X_list,lw=1,linestyle=:dot,label=\"Manual solution\")\n",
    "plot!(solution,lw=1,linestyle=:dot,label=\"DifferentialEquations.jl\")"
   ]
  }
 ],
 "metadata": {
  "kernelspec": {
   "display_name": "Julia 1.1.0",
   "language": "julia",
   "name": "julia-1.1"
  },
  "language_info": {
   "file_extension": ".jl",
   "mimetype": "application/julia",
   "name": "julia",
   "version": "1.1.0"
  }
 },
 "nbformat": 4,
 "nbformat_minor": 2
}
