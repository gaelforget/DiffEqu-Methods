{
 "cells": [
  {
   "cell_type": "markdown",
   "metadata": {},
   "source": [
    "# `diffequ-manual.jl`"
   ]
  },
  {
   "cell_type": "markdown",
   "metadata": {},
   "source": [
    "To begin, we run the following code so we can print our plots:"
   ]
  },
  {
   "cell_type": "code",
   "execution_count": 45,
   "metadata": {},
   "outputs": [],
   "source": [
    "using Plots; gr();"
   ]
  },
  {
   "cell_type": "markdown",
   "metadata": {},
   "source": [
    "Recalling that our differential equation is in the form of\n",
    "\n",
    "$$ \\dot{X} = f(t), X(0) = 0 $$\n",
    "\n",
    "where $f(t) = \\cos{2\\pi t} + C$ and $C$ is an random float value on the open interval $(0,1)$, we define our function $X(t)$ as follows:"
   ]
  },
  {
   "cell_type": "code",
   "execution_count": 46,
   "metadata": {},
   "outputs": [
    {
     "data": {
      "text/plain": [
       "X (generic function with 1 method)"
      ]
     },
     "execution_count": 46,
     "metadata": {},
     "output_type": "execute_result"
    }
   ],
   "source": [
    "C = randn(1)[1];\n",
    "function X(t)\n",
    "    X = 1/(2*pi)*sin(2*pi*t) + C*t;\n",
    "end"
   ]
  },
  {
   "cell_type": "markdown",
   "metadata": {},
   "source": [
    "This establishes the function\n",
    "\n",
    "$$ X(t) = \\dfrac{1}{2\\pi}\\sin{2\\pi t} + Ct $$\n",
    "\n",
    "within our `diffequ-manual.jl` file.\n",
    "\n",
    "$$ \\sim $$\n",
    "\n",
    "We're interested in the time interval between $t = 0$ and $t = 10$ with a stepsize of $\\Delta t = 0.1$ To a create an array of $t$-values we can run the following code:"
   ]
  },
  {
   "cell_type": "code",
   "execution_count": 47,
   "metadata": {},
   "outputs": [],
   "source": [
    "t_list = collect(range(0,stop=10,step=0.1));\n",
    "N = size(t_list)[1];"
   ]
  },
  {
   "cell_type": "markdown",
   "metadata": {},
   "source": [
    "We now have a $ 1 \\times N $ array of the necessary $t$-values. To create the an array of the values of $X(t)$, we can use the following `for` loop:"
   ]
  },
  {
   "cell_type": "code",
   "execution_count": 48,
   "metadata": {},
   "outputs": [],
   "source": [
    "X_list = zeros(1,N);\n",
    "for j = 1:N\n",
    "    X_list[j] = X(t_list[j]);\n",
    "end\n",
    "X_list = X_list';"
   ]
  },
  {
   "cell_type": "markdown",
   "metadata": {},
   "source": [
    "The final line `X_list = X_list'` vectorizes our `X_list` variable, which ensures it's the same dimensions as our `t_list` for plotting purposes. We can now go ahead and plot our function:"
   ]
  },
  {
   "cell_type": "code",
   "execution_count": 49,
   "metadata": {},
   "outputs": [
    {
     "data": {
      "image/svg+xml": [
       "<?xml version=\"1.0\" encoding=\"utf-8\"?>\n",
       "<svg xmlns=\"http://www.w3.org/2000/svg\" xmlns:xlink=\"http://www.w3.org/1999/xlink\" width=\"600\" height=\"400\" viewBox=\"0 0 2400 1600\">\n",
       "<defs>\n",
       "  <clipPath id=\"clip6100\">\n",
       "    <rect x=\"0\" y=\"0\" width=\"2000\" height=\"2000\"/>\n",
       "  </clipPath>\n",
       "</defs>\n",
       "<defs>\n",
       "  <clipPath id=\"clip6101\">\n",
       "    <rect x=\"0\" y=\"0\" width=\"2400\" height=\"1600\"/>\n",
       "  </clipPath>\n",
       "</defs>\n",
       "<polygon clip-path=\"url(#clip6101)\" points=\"\n",
       "0,1600 2400,1600 2400,0 0,0 \n",
       "  \" fill=\"#ffffff\" fill-rule=\"evenodd\" fill-opacity=\"1\"/>\n",
       "<defs>\n",
       "  <clipPath id=\"clip6102\">\n",
       "    <rect x=\"480\" y=\"0\" width=\"1681\" height=\"1600\"/>\n",
       "  </clipPath>\n",
       "</defs>\n",
       "<polygon clip-path=\"url(#clip6101)\" points=\"\n",
       "188.156,1503.47 2321.26,1503.47 2321.26,47.2441 188.156,47.2441 \n",
       "  \" fill=\"#ffffff\" fill-rule=\"evenodd\" fill-opacity=\"1\"/>\n",
       "<defs>\n",
       "  <clipPath id=\"clip6103\">\n",
       "    <rect x=\"188\" y=\"47\" width=\"2134\" height=\"1457\"/>\n",
       "  </clipPath>\n",
       "</defs>\n",
       "<polyline clip-path=\"url(#clip6103)\" style=\"stroke:#000000; stroke-width:2; stroke-opacity:0.1; fill:none\" points=\"\n",
       "  248.527,1503.47 248.527,47.2441 \n",
       "  \"/>\n",
       "<polyline clip-path=\"url(#clip6103)\" style=\"stroke:#000000; stroke-width:2; stroke-opacity:0.1; fill:none\" points=\"\n",
       "  751.618,1503.47 751.618,47.2441 \n",
       "  \"/>\n",
       "<polyline clip-path=\"url(#clip6103)\" style=\"stroke:#000000; stroke-width:2; stroke-opacity:0.1; fill:none\" points=\"\n",
       "  1254.71,1503.47 1254.71,47.2441 \n",
       "  \"/>\n",
       "<polyline clip-path=\"url(#clip6103)\" style=\"stroke:#000000; stroke-width:2; stroke-opacity:0.1; fill:none\" points=\"\n",
       "  1757.8,1503.47 1757.8,47.2441 \n",
       "  \"/>\n",
       "<polyline clip-path=\"url(#clip6103)\" style=\"stroke:#000000; stroke-width:2; stroke-opacity:0.1; fill:none\" points=\"\n",
       "  2260.89,1503.47 2260.89,47.2441 \n",
       "  \"/>\n",
       "<polyline clip-path=\"url(#clip6103)\" style=\"stroke:#000000; stroke-width:2; stroke-opacity:0.1; fill:none\" points=\"\n",
       "  188.156,1462.26 2321.26,1462.26 \n",
       "  \"/>\n",
       "<polyline clip-path=\"url(#clip6103)\" style=\"stroke:#000000; stroke-width:2; stroke-opacity:0.1; fill:none\" points=\"\n",
       "  188.156,1173.56 2321.26,1173.56 \n",
       "  \"/>\n",
       "<polyline clip-path=\"url(#clip6103)\" style=\"stroke:#000000; stroke-width:2; stroke-opacity:0.1; fill:none\" points=\"\n",
       "  188.156,884.866 2321.26,884.866 \n",
       "  \"/>\n",
       "<polyline clip-path=\"url(#clip6103)\" style=\"stroke:#000000; stroke-width:2; stroke-opacity:0.1; fill:none\" points=\"\n",
       "  188.156,596.169 2321.26,596.169 \n",
       "  \"/>\n",
       "<polyline clip-path=\"url(#clip6103)\" style=\"stroke:#000000; stroke-width:2; stroke-opacity:0.1; fill:none\" points=\"\n",
       "  188.156,307.472 2321.26,307.472 \n",
       "  \"/>\n",
       "<polyline clip-path=\"url(#clip6101)\" style=\"stroke:#000000; stroke-width:4; stroke-opacity:1; fill:none\" points=\"\n",
       "  188.156,1503.47 2321.26,1503.47 \n",
       "  \"/>\n",
       "<polyline clip-path=\"url(#clip6101)\" style=\"stroke:#000000; stroke-width:4; stroke-opacity:1; fill:none\" points=\"\n",
       "  188.156,1503.47 188.156,47.2441 \n",
       "  \"/>\n",
       "<polyline clip-path=\"url(#clip6101)\" style=\"stroke:#000000; stroke-width:4; stroke-opacity:1; fill:none\" points=\"\n",
       "  248.527,1503.47 248.527,1481.63 \n",
       "  \"/>\n",
       "<polyline clip-path=\"url(#clip6101)\" style=\"stroke:#000000; stroke-width:4; stroke-opacity:1; fill:none\" points=\"\n",
       "  751.618,1503.47 751.618,1481.63 \n",
       "  \"/>\n",
       "<polyline clip-path=\"url(#clip6101)\" style=\"stroke:#000000; stroke-width:4; stroke-opacity:1; fill:none\" points=\"\n",
       "  1254.71,1503.47 1254.71,1481.63 \n",
       "  \"/>\n",
       "<polyline clip-path=\"url(#clip6101)\" style=\"stroke:#000000; stroke-width:4; stroke-opacity:1; fill:none\" points=\"\n",
       "  1757.8,1503.47 1757.8,1481.63 \n",
       "  \"/>\n",
       "<polyline clip-path=\"url(#clip6101)\" style=\"stroke:#000000; stroke-width:4; stroke-opacity:1; fill:none\" points=\"\n",
       "  2260.89,1503.47 2260.89,1481.63 \n",
       "  \"/>\n",
       "<polyline clip-path=\"url(#clip6101)\" style=\"stroke:#000000; stroke-width:4; stroke-opacity:1; fill:none\" points=\"\n",
       "  188.156,1462.26 220.153,1462.26 \n",
       "  \"/>\n",
       "<polyline clip-path=\"url(#clip6101)\" style=\"stroke:#000000; stroke-width:4; stroke-opacity:1; fill:none\" points=\"\n",
       "  188.156,1173.56 220.153,1173.56 \n",
       "  \"/>\n",
       "<polyline clip-path=\"url(#clip6101)\" style=\"stroke:#000000; stroke-width:4; stroke-opacity:1; fill:none\" points=\"\n",
       "  188.156,884.866 220.153,884.866 \n",
       "  \"/>\n",
       "<polyline clip-path=\"url(#clip6101)\" style=\"stroke:#000000; stroke-width:4; stroke-opacity:1; fill:none\" points=\"\n",
       "  188.156,596.169 220.153,596.169 \n",
       "  \"/>\n",
       "<polyline clip-path=\"url(#clip6101)\" style=\"stroke:#000000; stroke-width:4; stroke-opacity:1; fill:none\" points=\"\n",
       "  188.156,307.472 220.153,307.472 \n",
       "  \"/>\n",
       "<g clip-path=\"url(#clip6101)\">\n",
       "<text style=\"fill:#000000; fill-opacity:1; font-family:Arial,Helvetica Neue,Helvetica,sans-serif; font-size:48px; text-anchor:middle;\" transform=\"rotate(0, 248.527, 1557.47)\" x=\"248.527\" y=\"1557.47\">0.0</text>\n",
       "</g>\n",
       "<g clip-path=\"url(#clip6101)\">\n",
       "<text style=\"fill:#000000; fill-opacity:1; font-family:Arial,Helvetica Neue,Helvetica,sans-serif; font-size:48px; text-anchor:middle;\" transform=\"rotate(0, 751.618, 1557.47)\" x=\"751.618\" y=\"1557.47\">2.5</text>\n",
       "</g>\n",
       "<g clip-path=\"url(#clip6101)\">\n",
       "<text style=\"fill:#000000; fill-opacity:1; font-family:Arial,Helvetica Neue,Helvetica,sans-serif; font-size:48px; text-anchor:middle;\" transform=\"rotate(0, 1254.71, 1557.47)\" x=\"1254.71\" y=\"1557.47\">5.0</text>\n",
       "</g>\n",
       "<g clip-path=\"url(#clip6101)\">\n",
       "<text style=\"fill:#000000; fill-opacity:1; font-family:Arial,Helvetica Neue,Helvetica,sans-serif; font-size:48px; text-anchor:middle;\" transform=\"rotate(0, 1757.8, 1557.47)\" x=\"1757.8\" y=\"1557.47\">7.5</text>\n",
       "</g>\n",
       "<g clip-path=\"url(#clip6101)\">\n",
       "<text style=\"fill:#000000; fill-opacity:1; font-family:Arial,Helvetica Neue,Helvetica,sans-serif; font-size:48px; text-anchor:middle;\" transform=\"rotate(0, 2260.89, 1557.47)\" x=\"2260.89\" y=\"1557.47\">10.0</text>\n",
       "</g>\n",
       "<g clip-path=\"url(#clip6101)\">\n",
       "<text style=\"fill:#000000; fill-opacity:1; font-family:Arial,Helvetica Neue,Helvetica,sans-serif; font-size:48px; text-anchor:end;\" transform=\"rotate(0, 164.156, 1479.76)\" x=\"164.156\" y=\"1479.76\">0.0</text>\n",
       "</g>\n",
       "<g clip-path=\"url(#clip6101)\">\n",
       "<text style=\"fill:#000000; fill-opacity:1; font-family:Arial,Helvetica Neue,Helvetica,sans-serif; font-size:48px; text-anchor:end;\" transform=\"rotate(0, 164.156, 1191.06)\" x=\"164.156\" y=\"1191.06\">2.5</text>\n",
       "</g>\n",
       "<g clip-path=\"url(#clip6101)\">\n",
       "<text style=\"fill:#000000; fill-opacity:1; font-family:Arial,Helvetica Neue,Helvetica,sans-serif; font-size:48px; text-anchor:end;\" transform=\"rotate(0, 164.156, 902.366)\" x=\"164.156\" y=\"902.366\">5.0</text>\n",
       "</g>\n",
       "<g clip-path=\"url(#clip6101)\">\n",
       "<text style=\"fill:#000000; fill-opacity:1; font-family:Arial,Helvetica Neue,Helvetica,sans-serif; font-size:48px; text-anchor:end;\" transform=\"rotate(0, 164.156, 613.669)\" x=\"164.156\" y=\"613.669\">7.5</text>\n",
       "</g>\n",
       "<g clip-path=\"url(#clip6101)\">\n",
       "<text style=\"fill:#000000; fill-opacity:1; font-family:Arial,Helvetica Neue,Helvetica,sans-serif; font-size:48px; text-anchor:end;\" transform=\"rotate(0, 164.156, 324.972)\" x=\"164.156\" y=\"324.972\">10.0</text>\n",
       "</g>\n",
       "<polyline clip-path=\"url(#clip6103)\" style=\"stroke:#009af9; stroke-width:8; stroke-opacity:1; fill:none\" points=\"\n",
       "  248.527,1462.26 268.651,1437.72 288.774,1417.31 308.898,1403.57 329.022,1396.51 349.145,1393.57 369.269,1390.64 389.393,1383.57 409.516,1369.84 429.64,1349.42 \n",
       "  449.763,1324.88 469.887,1300.34 490.011,1279.92 510.134,1266.19 530.258,1259.13 550.381,1256.19 570.505,1253.26 590.629,1246.19 610.752,1232.46 630.876,1212.04 \n",
       "  651,1187.5 671.123,1162.96 691.247,1142.54 711.37,1128.81 731.494,1121.75 751.618,1118.81 771.741,1115.87 791.865,1108.81 811.989,1095.08 832.112,1074.66 \n",
       "  852.236,1050.12 872.359,1025.58 892.483,1005.16 912.607,991.426 932.73,984.365 952.854,981.43 972.977,978.495 993.101,971.433 1013.22,957.695 1033.35,937.281 \n",
       "  1053.47,912.74 1073.6,888.199 1093.72,867.784 1113.84,854.046 1133.97,846.985 1154.09,844.05 1174.21,841.114 1194.34,834.053 1214.46,820.315 1234.58,799.9 \n",
       "  1254.71,775.359 1274.83,750.818 1294.96,730.404 1315.08,716.666 1335.2,709.604 1355.33,706.669 1375.45,703.734 1395.57,696.673 1415.7,682.935 1435.82,662.52 \n",
       "  1455.94,637.979 1476.07,613.438 1496.19,593.024 1516.32,579.286 1536.44,572.224 1556.56,569.289 1576.69,566.354 1596.81,559.292 1616.93,545.554 1637.06,525.14 \n",
       "  1657.18,500.599 1677.3,476.058 1697.43,455.643 1717.55,441.905 1737.67,434.844 1757.8,431.909 1777.92,428.974 1798.05,421.912 1818.17,408.174 1838.29,387.76 \n",
       "  1858.42,363.219 1878.54,338.678 1898.66,318.263 1918.79,304.525 1938.91,297.464 1959.03,294.529 1979.16,291.593 1999.28,284.532 2019.41,270.794 2039.53,250.379 \n",
       "  2059.65,225.838 2079.78,201.297 2099.9,180.883 2120.02,167.145 2140.15,160.083 2160.27,157.148 2180.39,154.213 2200.52,147.152 2220.64,133.414 2240.77,112.999 \n",
       "  2260.89,88.4582 \n",
       "  \"/>\n",
       "<polygon clip-path=\"url(#clip6101)\" points=\"\n",
       "1931.72,251.724 2249.26,251.724 2249.26,130.764 1931.72,130.764 \n",
       "  \" fill=\"#ffffff\" fill-rule=\"evenodd\" fill-opacity=\"1\"/>\n",
       "<polyline clip-path=\"url(#clip6101)\" style=\"stroke:#000000; stroke-width:4; stroke-opacity:1; fill:none\" points=\"\n",
       "  1931.72,251.724 2249.26,251.724 2249.26,130.764 1931.72,130.764 1931.72,251.724 \n",
       "  \"/>\n",
       "<polyline clip-path=\"url(#clip6101)\" style=\"stroke:#009af9; stroke-width:8; stroke-opacity:1; fill:none\" points=\"\n",
       "  1955.72,191.244 2099.72,191.244 \n",
       "  \"/>\n",
       "<g clip-path=\"url(#clip6101)\">\n",
       "<text style=\"fill:#000000; fill-opacity:1; font-family:Arial,Helvetica Neue,Helvetica,sans-serif; font-size:48px; text-anchor:start;\" transform=\"rotate(0, 2123.72, 208.744)\" x=\"2123.72\" y=\"208.744\">X(t)</text>\n",
       "</g>\n",
       "</svg>\n"
      ]
     },
     "execution_count": 49,
     "metadata": {},
     "output_type": "execute_result"
    }
   ],
   "source": [
    "plot(t_list,X_list,lw=2,label=\"X(t)\")"
   ]
  },
  {
   "cell_type": "markdown",
   "metadata": {},
   "source": [
    "$$\\sim$$"
   ]
  },
  {
   "cell_type": "markdown",
   "metadata": {},
   "source": [
    "# Interactive Plots"
   ]
  },
  {
   "cell_type": "markdown",
   "metadata": {},
   "source": [
    "Before we turn to using the `DifferentialEquations.jl` as an alternate method to solve a differential equation, let's make our previous plot more interactive! For this, we'll be creating a slider (using the `Interact` package) which alters the $t$ interval!"
   ]
  },
  {
   "cell_type": "code",
   "execution_count": 50,
   "metadata": {},
   "outputs": [
    {
     "data": {
      "text/html": [
       "<div class='tex2jax_ignore interactbulma'>\n",
       "<div class='display:none'></div><unsafe-script style='display:none'>\n",
       "WebIO.mount(this.previousSibling,{&quot;props&quot;:{},&quot;nodeType&quot;:&quot;DOM&quot;,&quot;type&quot;:&quot;node&quot;,&quot;instanceArgs&quot;:{&quot;namespace&quot;:&quot;html&quot;,&quot;tag&quot;:&quot;div&quot;},&quot;children&quot;:[{&quot;props&quot;:{&quot;className&quot;:&quot;field&quot;},&quot;nodeType&quot;:&quot;DOM&quot;,&quot;type&quot;:&quot;node&quot;,&quot;instanceArgs&quot;:{&quot;namespace&quot;:&quot;html&quot;,&quot;tag&quot;:&quot;div&quot;},&quot;children&quot;:[{&quot;props&quot;:{},&quot;nodeType&quot;:&quot;Scope&quot;,&quot;type&quot;:&quot;node&quot;,&quot;instanceArgs&quot;:{&quot;imports&quot;:{&quot;data&quot;:[{&quot;name&quot;:&quot;knockout&quot;,&quot;type&quot;:&quot;js&quot;,&quot;url&quot;:&quot;/assetserver/c0b0bb4b262b2682c3e83134a600ba80ff6e90cd-knockout.js&quot;},{&quot;name&quot;:&quot;knockout_punches&quot;,&quot;type&quot;:&quot;js&quot;,&quot;url&quot;:&quot;/assetserver/f474571ce48fc9f02d0ede58aa93af11609c2e35-knockout_punches.js&quot;},{&quot;name&quot;:null,&quot;type&quot;:&quot;js&quot;,&quot;url&quot;:&quot;/assetserver/38afe1ec129e102401f323db3c50f064b683bdf7-all.js&quot;},{&quot;name&quot;:null,&quot;type&quot;:&quot;css&quot;,&quot;url&quot;:&quot;/assetserver/dc64db41ebe351a95daaf47a6277d4f5210ba291-style.css&quot;},{&quot;name&quot;:null,&quot;type&quot;:&quot;css&quot;,&quot;url&quot;:&quot;/assetserver/fe9e8f6276e7206c8358847144ad1c94a24c7a48-main.css&quot;}],&quot;type&quot;:&quot;async_block&quot;},&quot;id&quot;:&quot;knockout-component-a53c4e5f-f087-4387-9a24-3bb6f65f6b96&quot;,&quot;handlers&quot;:{&quot;formatted_vals&quot;:[(function (val){return (val!=this.model[&quot;formatted_vals&quot;]()) ? (this.valueFromJulia[&quot;formatted_vals&quot;]=true, this.model[&quot;formatted_vals&quot;](val)) : undefined})],&quot;_promises&quot;:{&quot;importsLoaded&quot;:[function (ko, koPunches) {\n",
       "    ko.punches.enableAll();\n",
       "    ko.bindingHandlers.numericValue = {\n",
       "        init : function(element, valueAccessor, allBindings, data, context) {\n",
       "            var stringified = ko.observable(ko.unwrap(valueAccessor()));\n",
       "            stringified.subscribe(function(value) {\n",
       "                var val = parseFloat(value);\n",
       "                if (!isNaN(val)) {\n",
       "                    valueAccessor()(val);\n",
       "                }\n",
       "            })\n",
       "            valueAccessor().subscribe(function(value) {\n",
       "                var str = JSON.stringify(value);\n",
       "                if ((str == &quot;0&quot;) &amp;&amp; ([&quot;-0&quot;, &quot;-0.&quot;].indexOf(stringified()) &gt;= 0))\n",
       "                     return;\n",
       "                 if ([&quot;null&quot;, &quot;&quot;].indexOf(str) &gt;= 0)\n",
       "                     return;\n",
       "                stringified(str);\n",
       "            })\n",
       "            ko.applyBindingsToNode(element, { value: stringified, valueUpdate: allBindings.get(&#39;valueUpdate&#39;)}, context);\n",
       "        }\n",
       "    };\n",
       "    var json_data = JSON.parse(&quot;{\\&quot;formatted_vals\\&quot;:[\\&quot;0.0\\&quot;,\\&quot;0.1\\&quot;,\\&quot;0.2\\&quot;,\\&quot;0.3\\&quot;,\\&quot;0.4\\&quot;,\\&quot;0.5\\&quot;,\\&quot;0.6\\&quot;,\\&quot;0.7\\&quot;,\\&quot;0.8\\&quot;,\\&quot;0.9\\&quot;,\\&quot;1.0\\&quot;,\\&quot;1.1\\&quot;,\\&quot;1.2\\&quot;,\\&quot;1.3\\&quot;,\\&quot;1.4\\&quot;,\\&quot;1.5\\&quot;,\\&quot;1.6\\&quot;,\\&quot;1.7\\&quot;,\\&quot;1.8\\&quot;,\\&quot;1.9\\&quot;,\\&quot;2.0\\&quot;,\\&quot;2.1\\&quot;,\\&quot;2.2\\&quot;,\\&quot;2.3\\&quot;,\\&quot;2.4\\&quot;,\\&quot;2.5\\&quot;,\\&quot;2.6\\&quot;,\\&quot;2.7\\&quot;,\\&quot;2.8\\&quot;,\\&quot;2.9\\&quot;,\\&quot;3.0\\&quot;,\\&quot;3.1\\&quot;,\\&quot;3.2\\&quot;,\\&quot;3.3\\&quot;,\\&quot;3.4\\&quot;,\\&quot;3.5\\&quot;,\\&quot;3.6\\&quot;,\\&quot;3.7\\&quot;,\\&quot;3.8\\&quot;,\\&quot;3.9\\&quot;,\\&quot;4.0\\&quot;,\\&quot;4.1\\&quot;,\\&quot;4.2\\&quot;,\\&quot;4.3\\&quot;,\\&quot;4.4\\&quot;,\\&quot;4.5\\&quot;,\\&quot;4.6\\&quot;,\\&quot;4.7\\&quot;,\\&quot;4.8\\&quot;,\\&quot;4.9\\&quot;,\\&quot;5.0\\&quot;,\\&quot;5.1\\&quot;,\\&quot;5.2\\&quot;,\\&quot;5.3\\&quot;,\\&quot;5.4\\&quot;,\\&quot;5.5\\&quot;,\\&quot;5.6\\&quot;,\\&quot;5.7\\&quot;,\\&quot;5.8\\&quot;,\\&quot;5.9\\&quot;,\\&quot;6.0\\&quot;,\\&quot;6.1\\&quot;,\\&quot;6.2\\&quot;,\\&quot;6.3\\&quot;,\\&quot;6.4\\&quot;,\\&quot;6.5\\&quot;,\\&quot;6.6\\&quot;,\\&quot;6.7\\&quot;,\\&quot;6.8\\&quot;,\\&quot;6.9\\&quot;,\\&quot;7.0\\&quot;,\\&quot;7.1\\&quot;,\\&quot;7.2\\&quot;,\\&quot;7.3\\&quot;,\\&quot;7.4\\&quot;,\\&quot;7.5\\&quot;,\\&quot;7.6\\&quot;,\\&quot;7.7\\&quot;,\\&quot;7.8\\&quot;,\\&quot;7.9\\&quot;,\\&quot;8.0\\&quot;,\\&quot;8.1\\&quot;,\\&quot;8.2\\&quot;,\\&quot;8.3\\&quot;,\\&quot;8.4\\&quot;,\\&quot;8.5\\&quot;,\\&quot;8.6\\&quot;,\\&quot;8.7\\&quot;,\\&quot;8.8\\&quot;,\\&quot;8.9\\&quot;,\\&quot;9.0\\&quot;,\\&quot;9.1\\&quot;,\\&quot;9.2\\&quot;,\\&quot;9.3\\&quot;,\\&quot;9.4\\&quot;,\\&quot;9.5\\&quot;,\\&quot;9.6\\&quot;,\\&quot;9.7\\&quot;,\\&quot;9.8\\&quot;,\\&quot;9.9\\&quot;,\\&quot;10.0\\&quot;],\\&quot;changes\\&quot;:0,\\&quot;formatted_value\\&quot;:\\&quot;5.0\\&quot;,\\&quot;index\\&quot;:51}&quot;);\n",
       "    var self = this;\n",
       "    function AppViewModel() {\n",
       "        for (var key in json_data) {\n",
       "            var el = json_data[key];\n",
       "            this[key] = Array.isArray(el) ? ko.observableArray(el) : ko.observable(el);\n",
       "        }\n",
       "        \n",
       "        \n",
       "        [this[&quot;formatted_vals&quot;].subscribe((function (val){!(this.valueFromJulia[&quot;formatted_vals&quot;]) ? (WebIO.setval({&quot;name&quot;:&quot;formatted_vals&quot;,&quot;scope&quot;:&quot;knockout-component-a53c4e5f-f087-4387-9a24-3bb6f65f6b96&quot;,&quot;id&quot;:&quot;ob_19&quot;,&quot;type&quot;:&quot;observable&quot;},val)) : undefined; return this.valueFromJulia[&quot;formatted_vals&quot;]=false}),self),this[&quot;changes&quot;].subscribe((function (val){!(this.valueFromJulia[&quot;changes&quot;]) ? (WebIO.setval({&quot;name&quot;:&quot;changes&quot;,&quot;scope&quot;:&quot;knockout-component-a53c4e5f-f087-4387-9a24-3bb6f65f6b96&quot;,&quot;id&quot;:&quot;ob_21&quot;,&quot;type&quot;:&quot;observable&quot;},val)) : undefined; return this.valueFromJulia[&quot;changes&quot;]=false}),self),this[&quot;formatted_value&quot;].subscribe((function (val){!(this.valueFromJulia[&quot;formatted_value&quot;]) ? (WebIO.setval({&quot;name&quot;:&quot;formatted_value&quot;,&quot;scope&quot;:&quot;knockout-component-a53c4e5f-f087-4387-9a24-3bb6f65f6b96&quot;,&quot;id&quot;:&quot;ob_20&quot;,&quot;type&quot;:&quot;observable&quot;},val)) : undefined; return this.valueFromJulia[&quot;formatted_value&quot;]=false}),self),this[&quot;index&quot;].subscribe((function (val){!(this.valueFromJulia[&quot;index&quot;]) ? (WebIO.setval({&quot;name&quot;:&quot;index&quot;,&quot;scope&quot;:&quot;knockout-component-a53c4e5f-f087-4387-9a24-3bb6f65f6b96&quot;,&quot;id&quot;:&quot;ob_18&quot;,&quot;type&quot;:&quot;observable&quot;},val)) : undefined; return this.valueFromJulia[&quot;index&quot;]=false}),self)]\n",
       "        \n",
       "    }\n",
       "    self.model = new AppViewModel();\n",
       "    self.valueFromJulia = {};\n",
       "    for (var key in json_data) {\n",
       "        self.valueFromJulia[key] = false;\n",
       "    }\n",
       "    ko.applyBindings(self.model, self.dom);\n",
       "}\n",
       "]},&quot;changes&quot;:[(function (val){return (val!=this.model[&quot;changes&quot;]()) ? (this.valueFromJulia[&quot;changes&quot;]=true, this.model[&quot;changes&quot;](val)) : undefined})],&quot;formatted_value&quot;:[(function (val){return (val!=this.model[&quot;formatted_value&quot;]()) ? (this.valueFromJulia[&quot;formatted_value&quot;]=true, this.model[&quot;formatted_value&quot;](val)) : undefined})],&quot;index&quot;:[(function (val){return (val!=this.model[&quot;index&quot;]()) ? (this.valueFromJulia[&quot;index&quot;]=true, this.model[&quot;index&quot;](val)) : undefined}),(function (val){return WebIO.setval({&quot;name&quot;:&quot;formatted_value&quot;,&quot;scope&quot;:&quot;knockout-component-a53c4e5f-f087-4387-9a24-3bb6f65f6b96&quot;,&quot;id&quot;:&quot;ob_20&quot;,&quot;type&quot;:&quot;observable&quot;},WebIO.getval({&quot;name&quot;:&quot;formatted_vals&quot;,&quot;scope&quot;:&quot;knockout-component-a53c4e5f-f087-4387-9a24-3bb6f65f6b96&quot;,&quot;id&quot;:&quot;ob_19&quot;,&quot;type&quot;:&quot;observable&quot;})[(WebIO.getval({&quot;name&quot;:&quot;index&quot;,&quot;scope&quot;:&quot;knockout-component-a53c4e5f-f087-4387-9a24-3bb6f65f6b96&quot;,&quot;id&quot;:&quot;ob_18&quot;,&quot;type&quot;:&quot;observable&quot;})-1)])})]},&quot;systemjs_options&quot;:null,&quot;observables&quot;:{&quot;formatted_vals&quot;:{&quot;sync&quot;:false,&quot;id&quot;:&quot;ob_19&quot;,&quot;value&quot;:[&quot;0.0&quot;,&quot;0.1&quot;,&quot;0.2&quot;,&quot;0.3&quot;,&quot;0.4&quot;,&quot;0.5&quot;,&quot;0.6&quot;,&quot;0.7&quot;,&quot;0.8&quot;,&quot;0.9&quot;,&quot;1.0&quot;,&quot;1.1&quot;,&quot;1.2&quot;,&quot;1.3&quot;,&quot;1.4&quot;,&quot;1.5&quot;,&quot;1.6&quot;,&quot;1.7&quot;,&quot;1.8&quot;,&quot;1.9&quot;,&quot;2.0&quot;,&quot;2.1&quot;,&quot;2.2&quot;,&quot;2.3&quot;,&quot;2.4&quot;,&quot;2.5&quot;,&quot;2.6&quot;,&quot;2.7&quot;,&quot;2.8&quot;,&quot;2.9&quot;,&quot;3.0&quot;,&quot;3.1&quot;,&quot;3.2&quot;,&quot;3.3&quot;,&quot;3.4&quot;,&quot;3.5&quot;,&quot;3.6&quot;,&quot;3.7&quot;,&quot;3.8&quot;,&quot;3.9&quot;,&quot;4.0&quot;,&quot;4.1&quot;,&quot;4.2&quot;,&quot;4.3&quot;,&quot;4.4&quot;,&quot;4.5&quot;,&quot;4.6&quot;,&quot;4.7&quot;,&quot;4.8&quot;,&quot;4.9&quot;,&quot;5.0&quot;,&quot;5.1&quot;,&quot;5.2&quot;,&quot;5.3&quot;,&quot;5.4&quot;,&quot;5.5&quot;,&quot;5.6&quot;,&quot;5.7&quot;,&quot;5.8&quot;,&quot;5.9&quot;,&quot;6.0&quot;,&quot;6.1&quot;,&quot;6.2&quot;,&quot;6.3&quot;,&quot;6.4&quot;,&quot;6.5&quot;,&quot;6.6&quot;,&quot;6.7&quot;,&quot;6.8&quot;,&quot;6.9&quot;,&quot;7.0&quot;,&quot;7.1&quot;,&quot;7.2&quot;,&quot;7.3&quot;,&quot;7.4&quot;,&quot;7.5&quot;,&quot;7.6&quot;,&quot;7.7&quot;,&quot;7.8&quot;,&quot;7.9&quot;,&quot;8.0&quot;,&quot;8.1&quot;,&quot;8.2&quot;,&quot;8.3&quot;,&quot;8.4&quot;,&quot;8.5&quot;,&quot;8.6&quot;,&quot;8.7&quot;,&quot;8.8&quot;,&quot;8.9&quot;,&quot;9.0&quot;,&quot;9.1&quot;,&quot;9.2&quot;,&quot;9.3&quot;,&quot;9.4&quot;,&quot;9.5&quot;,&quot;9.6&quot;,&quot;9.7&quot;,&quot;9.8&quot;,&quot;9.9&quot;,&quot;10.0&quot;]},&quot;changes&quot;:{&quot;sync&quot;:false,&quot;id&quot;:&quot;ob_21&quot;,&quot;value&quot;:0},&quot;formatted_value&quot;:{&quot;sync&quot;:false,&quot;id&quot;:&quot;ob_20&quot;,&quot;value&quot;:&quot;5.0&quot;},&quot;index&quot;:{&quot;sync&quot;:true,&quot;id&quot;:&quot;ob_18&quot;,&quot;value&quot;:51}}},&quot;children&quot;:[{&quot;props&quot;:{&quot;attributes&quot;:{&quot;class&quot;:&quot;interact-flex-row&quot;}},&quot;nodeType&quot;:&quot;DOM&quot;,&quot;type&quot;:&quot;node&quot;,&quot;instanceArgs&quot;:{&quot;namespace&quot;:&quot;html&quot;,&quot;tag&quot;:&quot;div&quot;},&quot;children&quot;:[{&quot;props&quot;:{&quot;attributes&quot;:{&quot;class&quot;:&quot;interact-flex-row-left&quot;}},&quot;nodeType&quot;:&quot;DOM&quot;,&quot;type&quot;:&quot;node&quot;,&quot;instanceArgs&quot;:{&quot;namespace&quot;:&quot;html&quot;,&quot;tag&quot;:&quot;div&quot;},&quot;children&quot;:[{&quot;props&quot;:{&quot;className&quot;:&quot;interact &quot;,&quot;style&quot;:{&quot;padding&quot;:&quot;5px 10px 0px 10px&quot;}},&quot;nodeType&quot;:&quot;DOM&quot;,&quot;type&quot;:&quot;node&quot;,&quot;instanceArgs&quot;:{&quot;namespace&quot;:&quot;html&quot;,&quot;tag&quot;:&quot;label&quot;},&quot;children&quot;:[&quot;Time&quot;]}]},{&quot;props&quot;:{&quot;attributes&quot;:{&quot;class&quot;:&quot;interact-flex-row-center&quot;}},&quot;nodeType&quot;:&quot;DOM&quot;,&quot;type&quot;:&quot;node&quot;,&quot;instanceArgs&quot;:{&quot;namespace&quot;:&quot;html&quot;,&quot;tag&quot;:&quot;div&quot;},&quot;children&quot;:[{&quot;props&quot;:{&quot;max&quot;:101,&quot;min&quot;:1,&quot;attributes&quot;:{&quot;type&quot;:&quot;range&quot;,&quot;data-bind&quot;:&quot;numericValue: index, valueUpdate: &#39;input&#39;, event: {change : function () {this.changes(this.changes()+1)}}&quot;,&quot;orient&quot;:&quot;horizontal&quot;},&quot;step&quot;:1,&quot;className&quot;:&quot;slider slider is-fullwidth&quot;,&quot;style&quot;:{}},&quot;nodeType&quot;:&quot;DOM&quot;,&quot;type&quot;:&quot;node&quot;,&quot;instanceArgs&quot;:{&quot;namespace&quot;:&quot;html&quot;,&quot;tag&quot;:&quot;input&quot;},&quot;children&quot;:[]}]},{&quot;props&quot;:{&quot;attributes&quot;:{&quot;class&quot;:&quot;interact-flex-row-right&quot;}},&quot;nodeType&quot;:&quot;DOM&quot;,&quot;type&quot;:&quot;node&quot;,&quot;instanceArgs&quot;:{&quot;namespace&quot;:&quot;html&quot;,&quot;tag&quot;:&quot;div&quot;},&quot;children&quot;:[{&quot;props&quot;:{&quot;attributes&quot;:{&quot;data-bind&quot;:&quot;text: formatted_value&quot;}},&quot;nodeType&quot;:&quot;DOM&quot;,&quot;type&quot;:&quot;node&quot;,&quot;instanceArgs&quot;:{&quot;namespace&quot;:&quot;html&quot;,&quot;tag&quot;:&quot;p&quot;},&quot;children&quot;:[]}]}]}]}]},{&quot;props&quot;:{},&quot;nodeType&quot;:&quot;Scope&quot;,&quot;type&quot;:&quot;node&quot;,&quot;instanceArgs&quot;:{&quot;imports&quot;:{&quot;data&quot;:[],&quot;type&quot;:&quot;async_block&quot;},&quot;id&quot;:&quot;scope-f76e1348-01f3-40b5-88ff-d80c7b95e1ee&quot;,&quot;handlers&quot;:{&quot;obs-output&quot;:[function (updated_htmlstr) {\n",
       "    var el = this.dom.querySelector(&quot;#out&quot;);\n",
       "    WebIO.propUtils.setInnerHtml(el, updated_htmlstr);\n",
       "}]},&quot;systemjs_options&quot;:null,&quot;observables&quot;:{&quot;obs-output&quot;:{&quot;sync&quot;:false,&quot;id&quot;:&quot;ob_24&quot;,&quot;value&quot;:&quot;&lt;div class=&#39;display:none&#39;&gt;&lt;/div&gt;&lt;unsafe-script style=&#39;display:none&#39;&gt;\\nWebIO.mount(this.previousSibling,{&amp;quot;props&amp;quot;:{&amp;quot;attributes&amp;quot;:{&amp;quot;class&amp;quot;:&amp;quot;interact-flex-row&amp;quot;}},&amp;quot;nodeType&amp;quot;:&amp;quot;DOM&amp;quot;,&amp;quot;type&amp;quot;:&amp;quot;node&amp;quot;,&amp;quot;instanceArgs&amp;quot;:{&amp;quot;namespace&amp;quot;:&amp;quot;html&amp;quot;,&amp;quot;tag&amp;quot;:&amp;quot;div&amp;quot;},&amp;quot;children&amp;quot;:[{&amp;quot;props&amp;quot;:{&amp;quot;setInnerHtml&amp;quot;:&amp;quot;&amp;lt;?xml version=\\\\&amp;quot;1.0\\\\&amp;quot; encoding=\\\\&amp;quot;utf-8\\\\&amp;quot;?&amp;gt;\\\\n&amp;lt;svg xmlns=\\\\&amp;quot;http://www.w3.org/2000/svg\\\\&amp;quot; xmlns:xlink=\\\\&amp;quot;http://www.w3.org/1999/xlink\\\\&amp;quot; width=\\\\&amp;quot;600\\\\&amp;quot; height=\\\\&amp;quot;400\\\\&amp;quot; viewBox=\\\\&amp;quot;0 0 2400 1600\\\\&amp;quot;&amp;gt;\\\\n&amp;lt;defs&amp;gt;\\\\n  &amp;lt;clipPath id=\\\\&amp;quot;clip6300\\\\&amp;quot;&amp;gt;\\\\n    &amp;lt;rect x=\\\\&amp;quot;0\\\\&amp;quot; y=\\\\&amp;quot;0\\\\&amp;quot; width=\\\\&amp;quot;2000\\\\&amp;quot; height=\\\\&amp;quot;2000\\\\&amp;quot;/&amp;gt;\\\\n  &amp;lt;/clipPath&amp;gt;\\\\n&amp;lt;/defs&amp;gt;\\\\n&amp;lt;defs&amp;gt;\\\\n  &amp;lt;clipPath id=\\\\&amp;quot;clip6301\\\\&amp;quot;&amp;gt;\\\\n    &amp;lt;rect x=\\\\&amp;quot;0\\\\&amp;quot; y=\\\\&amp;quot;0\\\\&amp;quot; width=\\\\&amp;quot;2400\\\\&amp;quot; height=\\\\&amp;quot;1600\\\\&amp;quot;/&amp;gt;\\\\n  &amp;lt;/clipPath&amp;gt;\\\\n&amp;lt;/defs&amp;gt;\\\\n&amp;lt;polygon clip-path=\\\\&amp;quot;url(#clip6301)\\\\&amp;quot; points=\\\\&amp;quot;\\\\n0,1600 2400,1600 2400,0 0,0 \\\\n  \\\\&amp;quot; fill=\\\\&amp;quot;#ffffff\\\\&amp;quot; fill-rule=\\\\&amp;quot;evenodd\\\\&amp;quot; fill-opacity=\\\\&amp;quot;1\\\\&amp;quot;/&amp;gt;\\\\n&amp;lt;defs&amp;gt;\\\\n  &amp;lt;clipPath id=\\\\&amp;quot;clip6302\\\\&amp;quot;&amp;gt;\\\\n    &amp;lt;rect x=\\\\&amp;quot;480\\\\&amp;quot; y=\\\\&amp;quot;0\\\\&amp;quot; width=\\\\&amp;quot;1681\\\\&amp;quot; height=\\\\&amp;quot;1600\\\\&amp;quot;/&amp;gt;\\\\n  &amp;lt;/clipPath&amp;gt;\\\\n&amp;lt;/defs&amp;gt;\\\\n&amp;lt;polygon clip-path=\\\\&amp;quot;url(#clip6301)\\\\&amp;quot; points=\\\\&amp;quot;\\\\n121.251,1503.47 2321.26,1503.47 2321.26,47.2441 121.251,47.2441 \\\\n  \\\\&amp;quot; fill=\\\\&amp;quot;#ffffff\\\\&amp;quot; fill-rule=\\\\&amp;quot;evenodd\\\\&amp;quot; fill-opacity=\\\\&amp;quot;1\\\\&amp;quot;/&amp;gt;\\\\n&amp;lt;defs&amp;gt;\\\\n  &amp;lt;clipPath id=\\\\&amp;quot;clip6303\\\\&amp;quot;&amp;gt;\\\\n    &amp;lt;rect x=\\\\&amp;quot;121\\\\&amp;quot; y=\\\\&amp;quot;47\\\\&amp;quot; width=\\\\&amp;quot;2201\\\\&amp;quot; height=\\\\&amp;quot;1457\\\\&amp;quot;/&amp;gt;\\\\n  &amp;lt;/clipPath&amp;gt;\\\\n&amp;lt;/defs&amp;gt;\\\\n&amp;lt;polyline clip-path=\\\\&amp;quot;url(#clip6303)\\\\&amp;quot; style=\\\\&amp;quot;stroke:#000000; stroke-width:2; stroke-opacity:0.1; fill:none\\\\&amp;quot; points=\\\\&amp;quot;\\\\n  178.419,1503.47 178.419,47.2441 \\\\n  \\\\&amp;quot;/&amp;gt;\\\\n&amp;lt;polyline clip-path=\\\\&amp;quot;url(#clip6303)\\\\&amp;quot; style=\\\\&amp;quot;stroke:#000000; stroke-width:2; stroke-opacity:0.1; fill:none\\\\&amp;quot; points=\\\\&amp;quot;\\\\n  595.861,1503.47 595.861,47.2441 \\\\n  \\\\&amp;quot;/&amp;gt;\\\\n&amp;lt;polyline clip-path=\\\\&amp;quot;url(#clip6303)\\\\&amp;quot; style=\\\\&amp;quot;stroke:#000000; stroke-width:2; stroke-opacity:0.1; fill:none\\\\&amp;quot; points=\\\\&amp;quot;\\\\n  1013.3,1503.47 1013.3,47.2441 \\\\n  \\\\&amp;quot;/&amp;gt;\\\\n&amp;lt;polyline clip-path=\\\\&amp;quot;url(#clip6303)\\\\&amp;quot; style=\\\\&amp;quot;stroke:#000000; stroke-width:2; stroke-opacity:0.1; fill:none\\\\&amp;quot; points=\\\\&amp;quot;\\\\n  1430.74,1503.47 1430.74,47.2441 \\\\n  \\\\&amp;quot;/&amp;gt;\\\\n&amp;lt;polyline clip-path=\\\\&amp;quot;url(#clip6303)\\\\&amp;quot; style=\\\\&amp;quot;stroke:#000000; stroke-width:2; stroke-opacity:0.1; fill:none\\\\&amp;quot; points=\\\\&amp;quot;\\\\n  1848.19,1503.47 1848.19,47.2441 \\\\n  \\\\&amp;quot;/&amp;gt;\\\\n&amp;lt;polyline clip-path=\\\\&amp;quot;url(#clip6303)\\\\&amp;quot; style=\\\\&amp;quot;stroke:#000000; stroke-width:2; stroke-opacity:0.1; fill:none\\\\&amp;quot; points=\\\\&amp;quot;\\\\n  2265.63,1503.47 2265.63,47.2441 \\\\n  \\\\&amp;quot;/&amp;gt;\\\\n&amp;lt;polyline clip-path=\\\\&amp;quot;url(#clip6303)\\\\&amp;quot; style=\\\\&amp;quot;stroke:#000000; stroke-width:2; stroke-opacity:0.1; fill:none\\\\&amp;quot; points=\\\\&amp;quot;\\\\n  121.251,1468.5 2321.26,1468.5 \\\\n  \\\\&amp;quot;/&amp;gt;\\\\n&amp;lt;polyline clip-path=\\\\&amp;quot;url(#clip6303)\\\\&amp;quot; style=\\\\&amp;quot;stroke:#000000; stroke-width:2; stroke-opacity:0.1; fill:none\\\\&amp;quot; points=\\\\&amp;quot;\\\\n  121.251,1235.13 2321.26,1235.13 \\\\n  \\\\&amp;quot;/&amp;gt;\\\\n&amp;lt;polyline clip-path=\\\\&amp;quot;url(#clip6303)\\\\&amp;quot; style=\\\\&amp;quot;stroke:#000000; stroke-width:2; stroke-opacity:0.1; fill:none\\\\&amp;quot; points=\\\\&amp;quot;\\\\n  121.251,1001.76 2321.26,1001.76 \\\\n  \\\\&amp;quot;/&amp;gt;\\\\n&amp;lt;polyline clip-path=\\\\&amp;quot;url(#clip6303)\\\\&amp;quot; style=\\\\&amp;quot;stroke:#000000; stroke-width:2; stroke-opacity:0.1; fill:none\\\\&amp;quot; points=\\\\&amp;quot;\\\\n  121.251,768.387 2321.26,768.387 \\\\n  \\\\&amp;quot;/&amp;gt;\\\\n&amp;lt;polyline clip-path=\\\\&amp;quot;url(#clip6303)\\\\&amp;quot; style=\\\\&amp;quot;stroke:#000000; stroke-width:2; stroke-opacity:0.1; fill:none\\\\&amp;quot; points=\\\\&amp;quot;\\\\n  121.251,535.017 2321.26,535.017 \\\\n  \\\\&amp;quot;/&amp;gt;\\\\n&amp;lt;polyline clip-path=\\\\&amp;quot;url(#clip6303)\\\\&amp;quot; style=\\\\&amp;quot;stroke:#000000; stroke-width:2; stroke-opacity:0.1; fill:none\\\\&amp;quot; points=\\\\&amp;quot;\\\\n  121.251,301.647 2321.26,301.647 \\\\n  \\\\&amp;quot;/&amp;gt;\\\\n&amp;lt;polyline clip-path=\\\\&amp;quot;url(#clip6303)\\\\&amp;quot; style=\\\\&amp;quot;stroke:#000000; stroke-width:2; stroke-opacity:0.1; fill:none\\\\&amp;quot; points=\\\\&amp;quot;\\\\n  121.251,68.2778 2321.26,68.2778 \\\\n  \\\\&amp;quot;/&amp;gt;\\\\n&amp;lt;polyline clip-path=\\\\&amp;quot;url(#clip6301)\\\\&amp;quot; style=\\\\&amp;quot;stroke:#000000; stroke-width:4; stroke-opacity:1; fill:none\\\\&amp;quot; points=\\\\&amp;quot;\\\\n  121.251,1503.47 2321.26,1503.47 \\\\n  \\\\&amp;quot;/&amp;gt;\\\\n&amp;lt;polyline clip-path=\\\\&amp;quot;url(#clip6301)\\\\&amp;quot; style=\\\\&amp;quot;stroke:#000000; stroke-width:4; stroke-opacity:1; fill:none\\\\&amp;quot; points=\\\\&amp;quot;\\\\n  121.251,1503.47 121.251,47.2441 \\\\n  \\\\&amp;quot;/&amp;gt;\\\\n&amp;lt;polyline clip-path=\\\\&amp;quot;url(#clip6301)\\\\&amp;quot; style=\\\\&amp;quot;stroke:#000000; stroke-width:4; stroke-opacity:1; fill:none\\\\&amp;quot; points=\\\\&amp;quot;\\\\n  178.419,1503.47 178.419,1481.63 \\\\n  \\\\&amp;quot;/&amp;gt;\\\\n&amp;lt;polyline clip-path=\\\\&amp;quot;url(#clip6301)\\\\&amp;quot; style=\\\\&amp;quot;stroke:#000000; stroke-width:4; stroke-opacity:1; fill:none\\\\&amp;quot; points=\\\\&amp;quot;\\\\n  595.861,1503.47 595.861,1481.63 \\\\n  \\\\&amp;quot;/&amp;gt;\\\\n&amp;lt;polyline clip-path=\\\\&amp;quot;url(#clip6301)\\\\&amp;quot; style=\\\\&amp;quot;stroke:#000000; stroke-width:4; stroke-opacity:1; fill:none\\\\&amp;quot; points=\\\\&amp;quot;\\\\n  1013.3,1503.47 1013.3,1481.63 \\\\n  \\\\&amp;quot;/&amp;gt;\\\\n&amp;lt;polyline clip-path=\\\\&amp;quot;url(#clip6301)\\\\&amp;quot; style=\\\\&amp;quot;stroke:#000000; stroke-width:4; stroke-opacity:1; fill:none\\\\&amp;quot; points=\\\\&amp;quot;\\\\n  1430.74,1503.47 1430.74,1481.63 \\\\n  \\\\&amp;quot;/&amp;gt;\\\\n&amp;lt;polyline clip-path=\\\\&amp;quot;url(#clip6301)\\\\&amp;quot; style=\\\\&amp;quot;stroke:#000000; stroke-width:4; stroke-opacity:1; fill:none\\\\&amp;quot; points=\\\\&amp;quot;\\\\n  1848.19,1503.47 1848.19,1481.63 \\\\n  \\\\&amp;quot;/&amp;gt;\\\\n&amp;lt;polyline clip-path=\\\\&amp;quot;url(#clip6301)\\\\&amp;quot; style=\\\\&amp;quot;stroke:#000000; stroke-width:4; stroke-opacity:1; fill:none\\\\&amp;quot; points=\\\\&amp;quot;\\\\n  2265.63,1503.47 2265.63,1481.63 \\\\n  \\\\&amp;quot;/&amp;gt;\\\\n&amp;lt;polyline clip-path=\\\\&amp;quot;url(#clip6301)\\\\&amp;quot; style=\\\\&amp;quot;stroke:#000000; stroke-width:4; stroke-opacity:1; fill:none\\\\&amp;quot; points=\\\\&amp;quot;\\\\n  121.251,1468.5 154.251,1468.5 \\\\n  \\\\&amp;quot;/&amp;gt;\\\\n&amp;lt;polyline clip-path=\\\\&amp;quot;url(#clip6301)\\\\&amp;quot; style=\\\\&amp;quot;stroke:#000000; stroke-width:4; stroke-opacity:1; fill:none\\\\&amp;quot; points=\\\\&amp;quot;\\\\n  121.251,1235.13 154.251,1235.13 \\\\n  \\\\&amp;quot;/&amp;gt;\\\\n&amp;lt;polyline clip-path=\\\\&amp;quot;url(#clip6301)\\\\&amp;quot; style=\\\\&amp;quot;stroke:#000000; stroke-width:4; stroke-opacity:1; fill:none\\\\&amp;quot; points=\\\\&amp;quot;\\\\n  121.251,1001.76 154.251,1001.76 \\\\n  \\\\&amp;quot;/&amp;gt;\\\\n&amp;lt;polyline clip-path=\\\\&amp;quot;url(#clip6301)\\\\&amp;quot; style=\\\\&amp;quot;stroke:#000000; stroke-width:4; stroke-opacity:1; fill:none\\\\&amp;quot; points=\\\\&amp;quot;\\\\n  121.251,768.387 154.251,768.387 \\\\n  \\\\&amp;quot;/&amp;gt;\\\\n&amp;lt;polyline clip-path=\\\\&amp;quot;url(#clip6301)\\\\&amp;quot; style=\\\\&amp;quot;stroke:#000000; stroke-width:4; stroke-opacity:1; fill:none\\\\&amp;quot; points=\\\\&amp;quot;\\\\n  121.251,535.017 154.251,535.017 \\\\n  \\\\&amp;quot;/&amp;gt;\\\\n&amp;lt;polyline clip-path=\\\\&amp;quot;url(#clip6301)\\\\&amp;quot; style=\\\\&amp;quot;stroke:#000000; stroke-width:4; stroke-opacity:1; fill:none\\\\&amp;quot; points=\\\\&amp;quot;\\\\n  121.251,301.647 154.251,301.647 \\\\n  \\\\&amp;quot;/&amp;gt;\\\\n&amp;lt;polyline clip-path=\\\\&amp;quot;url(#clip6301)\\\\&amp;quot; style=\\\\&amp;quot;stroke:#000000; stroke-width:4; stroke-opacity:1; fill:none\\\\&amp;quot; points=\\\\&amp;quot;\\\\n  121.251,68.2778 154.251,68.2778 \\\\n  \\\\&amp;quot;/&amp;gt;\\\\n&amp;lt;g clip-path=\\\\&amp;quot;url(#clip6301)\\\\&amp;quot;&amp;gt;\\\\n&amp;lt;text style=\\\\&amp;quot;fill:#000000; fill-opacity:1; font-family:Arial,Helvetica Neue,Helvetica,sans-serif; font-size:48px; text-anchor:middle;\\\\&amp;quot; transform=\\\\&amp;quot;rotate(0, 178.419, 1557.47)\\\\&amp;quot; x=\\\\&amp;quot;178.419\\\\&amp;quot; y=\\\\&amp;quot;1557.47\\\\&amp;quot;&amp;gt;0&amp;lt;/text&amp;gt;\\\\n&amp;lt;/g&amp;gt;\\\\n&amp;lt;g clip-path=\\\\&amp;quot;url(#clip6301)\\\\&amp;quot;&amp;gt;\\\\n&amp;lt;text style=\\\\&amp;quot;fill:#000000; fill-opacity:1; font-family:Arial,Helvetica Neue,Helvetica,sans-serif; font-size:48px; text-anchor:middle;\\\\&amp;quot; transform=\\\\&amp;quot;rotate(0, 595.861, 1557.47)\\\\&amp;quot; x=\\\\&amp;quot;595.861\\\\&amp;quot; y=\\\\&amp;quot;1557.47\\\\&amp;quot;&amp;gt;1&amp;lt;/text&amp;gt;\\\\n&amp;lt;/g&amp;gt;\\\\n&amp;lt;g clip-path=\\\\&amp;quot;url(#clip6301)\\\\&amp;quot;&amp;gt;\\\\n&amp;lt;text style=\\\\&amp;quot;fill:#000000; fill-opacity:1; font-family:Arial,Helvetica Neue,Helvetica,sans-serif; font-size:48px; text-anchor:middle;\\\\&amp;quot; transform=\\\\&amp;quot;rotate(0, 1013.3, 1557.47)\\\\&amp;quot; x=\\\\&amp;quot;1013.3\\\\&amp;quot; y=\\\\&amp;quot;1557.47\\\\&amp;quot;&amp;gt;2&amp;lt;/text&amp;gt;\\\\n&amp;lt;/g&amp;gt;\\\\n&amp;lt;g clip-path=\\\\&amp;quot;url(#clip6301)\\\\&amp;quot;&amp;gt;\\\\n&amp;lt;text style=\\\\&amp;quot;fill:#000000; fill-opacity:1; font-family:Arial,Helvetica Neue,Helvetica,sans-serif; font-size:48px; text-anchor:middle;\\\\&amp;quot; transform=\\\\&amp;quot;rotate(0, 1430.74, 1557.47)\\\\&amp;quot; x=\\\\&amp;quot;1430.74\\\\&amp;quot; y=\\\\&amp;quot;1557.47\\\\&amp;quot;&amp;gt;3&amp;lt;/text&amp;gt;\\\\n&amp;lt;/g&amp;gt;\\\\n&amp;lt;g clip-path=\\\\&amp;quot;url(#clip6301)\\\\&amp;quot;&amp;gt;\\\\n&amp;lt;text style=\\\\&amp;quot;fill:#000000; fill-opacity:1; font-family:Arial,Helvetica Neue,Helvetica,sans-serif; font-size:48px; text-anchor:middle;\\\\&amp;quot; transform=\\\\&amp;quot;rotate(0, 1848.19, 1557.47)\\\\&amp;quot; x=\\\\&amp;quot;1848.19\\\\&amp;quot; y=\\\\&amp;quot;1557.47\\\\&amp;quot;&amp;gt;4&amp;lt;/text&amp;gt;\\\\n&amp;lt;/g&amp;gt;\\\\n&amp;lt;g clip-path=\\\\&amp;quot;url(#clip6301)\\\\&amp;quot;&amp;gt;\\\\n&amp;lt;text style=\\\\&amp;quot;fill:#000000; fill-opacity:1; font-family:Arial,Helvetica Neue,Helvetica,sans-serif; font-size:48px; text-anchor:middle;\\\\&amp;quot; transform=\\\\&amp;quot;rotate(0, 2265.63, 1557.47)\\\\&amp;quot; x=\\\\&amp;quot;2265.63\\\\&amp;quot; y=\\\\&amp;quot;1557.47\\\\&amp;quot;&amp;gt;5&amp;lt;/text&amp;gt;\\\\n&amp;lt;/g&amp;gt;\\\\n&amp;lt;g clip-path=\\\\&amp;quot;url(#clip6301)\\\\&amp;quot;&amp;gt;\\\\n&amp;lt;text style=\\\\&amp;quot;fill:#000000; fill-opacity:1; font-family:Arial,Helvetica Neue,Helvetica,sans-serif; font-size:48px; text-anchor:end;\\\\&amp;quot; transform=\\\\&amp;quot;rotate(0, 97.2505, 1486)\\\\&amp;quot; x=\\\\&amp;quot;97.2505\\\\&amp;quot; y=\\\\&amp;quot;1486\\\\&amp;quot;&amp;gt;0&amp;lt;/text&amp;gt;\\\\n&amp;lt;/g&amp;gt;\\\\n&amp;lt;g clip-path=\\\\&amp;quot;url(#clip6301)\\\\&amp;quot;&amp;gt;\\\\n&amp;lt;text style=\\\\&amp;quot;fill:#000000; fill-opacity:1; font-family:Arial,Helvetica Neue,Helvetica,sans-serif; font-size:48px; text-anchor:end;\\\\&amp;quot; transform=\\\\&amp;quot;rotate(0, 97.2505, 1252.63)\\\\&amp;quot; x=\\\\&amp;quot;97.2505\\\\&amp;quot; y=\\\\&amp;quot;1252.63\\\\&amp;quot;&amp;gt;1&amp;lt;/text&amp;gt;\\\\n&amp;lt;/g&amp;gt;\\\\n&amp;lt;g clip-path=\\\\&amp;quot;url(#clip6301)\\\\&amp;quot;&amp;gt;\\\\n&amp;lt;text style=\\\\&amp;quot;fill:#000000; fill-opacity:1; font-family:Arial,Helvetica Neue,Helvetica,sans-serif; font-size:48px; text-anchor:end;\\\\&amp;quot; transform=\\\\&amp;quot;rotate(0, 97.2505, 1019.26)\\\\&amp;quot; x=\\\\&amp;quot;97.2505\\\\&amp;quot; y=\\\\&amp;quot;1019.26\\\\&amp;quot;&amp;gt;2&amp;lt;/text&amp;gt;\\\\n&amp;lt;/g&amp;gt;\\\\n&amp;lt;g clip-path=\\\\&amp;quot;url(#clip6301)\\\\&amp;quot;&amp;gt;\\\\n&amp;lt;text style=\\\\&amp;quot;fill:#000000; fill-opacity:1; font-family:Arial,Helvetica Neue,Helvetica,sans-serif; font-size:48px; text-anchor:end;\\\\&amp;quot; transform=\\\\&amp;quot;rotate(0, 97.2505, 785.887)\\\\&amp;quot; x=\\\\&amp;quot;97.2505\\\\&amp;quot; y=\\\\&amp;quot;785.887\\\\&amp;quot;&amp;gt;3&amp;lt;/text&amp;gt;\\\\n&amp;lt;/g&amp;gt;\\\\n&amp;lt;g clip-path=\\\\&amp;quot;url(#clip6301)\\\\&amp;quot;&amp;gt;\\\\n&amp;lt;text style=\\\\&amp;quot;fill:#000000; fill-opacity:1; font-family:Arial,Helvetica Neue,Helvetica,sans-serif; font-size:48px; text-anchor:end;\\\\&amp;quot; transform=\\\\&amp;quot;rotate(0, 97.2505, 552.517)\\\\&amp;quot; x=\\\\&amp;quot;97.2505\\\\&amp;quot; y=\\\\&amp;quot;552.517\\\\&amp;quot;&amp;gt;4&amp;lt;/text&amp;gt;\\\\n&amp;lt;/g&amp;gt;\\\\n&amp;lt;g clip-path=\\\\&amp;quot;url(#clip6301)\\\\&amp;quot;&amp;gt;\\\\n&amp;lt;text style=\\\\&amp;quot;fill:#000000; fill-opacity:1; font-family:Arial,Helvetica Neue,Helvetica,sans-serif; font-size:48px; text-anchor:end;\\\\&amp;quot; transform=\\\\&amp;quot;rotate(0, 97.2505, 319.147)\\\\&amp;quot; x=\\\\&amp;quot;97.2505\\\\&amp;quot; y=\\\\&amp;quot;319.147\\\\&amp;quot;&amp;gt;5&amp;lt;/text&amp;gt;\\\\n&amp;lt;/g&amp;gt;\\\\n&amp;lt;g clip-path=\\\\&amp;quot;url(#clip6301)\\\\&amp;quot;&amp;gt;\\\\n&amp;lt;text style=\\\\&amp;quot;fill:#000000; fill-opacity:1; font-family:Arial,Helvetica Neue,Helvetica,sans-serif; font-size:48px; text-anchor:end;\\\\&amp;quot; transform=\\\\&amp;quot;rotate(0, 97.2505, 85.7778)\\\\&amp;quot; x=\\\\&amp;quot;97.2505\\\\&amp;quot; y=\\\\&amp;quot;85.7778\\\\&amp;quot;&amp;gt;6&amp;lt;/text&amp;gt;\\\\n&amp;lt;/g&amp;gt;\\\\n&amp;lt;polyline clip-path=\\\\&amp;quot;url(#clip6303)\\\\&amp;quot; style=\\\\&amp;quot;stroke:#009af9; stroke-width:4; stroke-opacity:1; fill:none\\\\&amp;quot; points=\\\\&amp;quot;\\\\n  183.515,1462.26 188.611,1456.04 193.707,1449.86 198.802,1443.72 245.921,1392.03 293.039,1355.57 340.157,1336.8 387.275,1329.67 443.908,1319.94 500.54,1291.06 \\\\n  548.422,1246.74 596.303,1190.32 648.317,1129.61 700.33,1084.24 748.281,1061.65 796.232,1052.95 847.641,1045.84 899.051,1025.95 958.613,976.845 1018.18,907.273 \\\\n  1071.11,846.401 1124.04,802.617 1170.46,782.697 1216.87,774.97 1267.48,767.665 1318.09,747.385 1368.99,706.437 1419.9,648.853 1476.18,581.916 1532.47,530.838 \\\\n  1586.02,505.577 1639.58,496.779 1695.26,487.336 1750.94,459.579 1797.82,417.014 1844.69,362.256 1901.92,295.373 1959.14,247.222 2012.94,225.579 2066.73,218.099 \\\\n  2109.82,210.52 2152.92,192.156 2196.01,158.826 2239.1,112.427 2245.73,104.535 2252.36,96.5331 2259,88.4582 \\\\n  \\\\&amp;quot;/&amp;gt;\\\\n&amp;lt;polygon clip-path=\\\\&amp;quot;url(#clip6301)\\\\&amp;quot; points=\\\\&amp;quot;\\\\n1958.43,251.724 2249.26,251.724 2249.26,130.764 1958.43,130.764 \\\\n  \\\\&amp;quot; fill=\\\\&amp;quot;#ffffff\\\\&amp;quot; fill-rule=\\\\&amp;quot;evenodd\\\\&amp;quot; fill-opacity=\\\\&amp;quot;1\\\\&amp;quot;/&amp;gt;\\\\n&amp;lt;polyline clip-path=\\\\&amp;quot;url(#clip6301)\\\\&amp;quot; style=\\\\&amp;quot;stroke:#000000; stroke-width:4; stroke-opacity:1; fill:none\\\\&amp;quot; points=\\\\&amp;quot;\\\\n  1958.43,251.724 2249.26,251.724 2249.26,130.764 1958.43,130.764 1958.43,251.724 \\\\n  \\\\&amp;quot;/&amp;gt;\\\\n&amp;lt;polyline clip-path=\\\\&amp;quot;url(#clip6301)\\\\&amp;quot; style=\\\\&amp;quot;stroke:#009af9; stroke-width:4; stroke-opacity:1; fill:none\\\\&amp;quot; points=\\\\&amp;quot;\\\\n  1982.43,191.244 2126.43,191.244 \\\\n  \\\\&amp;quot;/&amp;gt;\\\\n&amp;lt;g clip-path=\\\\&amp;quot;url(#clip6301)\\\\&amp;quot;&amp;gt;\\\\n&amp;lt;text style=\\\\&amp;quot;fill:#000000; fill-opacity:1; font-family:Arial,Helvetica Neue,Helvetica,sans-serif; font-size:48px; text-anchor:start;\\\\&amp;quot; transform=\\\\&amp;quot;rotate(0, 2150.43, 208.744)\\\\&amp;quot; x=\\\\&amp;quot;2150.43\\\\&amp;quot; y=\\\\&amp;quot;208.744\\\\&amp;quot;&amp;gt;y1&amp;lt;/text&amp;gt;\\\\n&amp;lt;/g&amp;gt;\\\\n&amp;lt;/svg&amp;gt;\\\\n&amp;quot;},&amp;quot;nodeType&amp;quot;:&amp;quot;DOM&amp;quot;,&amp;quot;type&amp;quot;:&amp;quot;node&amp;quot;,&amp;quot;instanceArgs&amp;quot;:{&amp;quot;namespace&amp;quot;:&amp;quot;html&amp;quot;,&amp;quot;tag&amp;quot;:&amp;quot;div&amp;quot;},&amp;quot;children&amp;quot;:[]}]})&lt;/unsafe-script&gt;&quot;}}},&quot;children&quot;:[{&quot;props&quot;:{&quot;id&quot;:&quot;out&quot;,&quot;setInnerHtml&quot;:&quot;&lt;div class=&#39;display:none&#39;&gt;&lt;/div&gt;&lt;unsafe-script style=&#39;display:none&#39;&gt;\\nWebIO.mount(this.previousSibling,{&amp;quot;props&amp;quot;:{&amp;quot;attributes&amp;quot;:{&amp;quot;class&amp;quot;:&amp;quot;interact-flex-row&amp;quot;}},&amp;quot;nodeType&amp;quot;:&amp;quot;DOM&amp;quot;,&amp;quot;type&amp;quot;:&amp;quot;node&amp;quot;,&amp;quot;instanceArgs&amp;quot;:{&amp;quot;namespace&amp;quot;:&amp;quot;html&amp;quot;,&amp;quot;tag&amp;quot;:&amp;quot;div&amp;quot;},&amp;quot;children&amp;quot;:[{&amp;quot;props&amp;quot;:{&amp;quot;setInnerHtml&amp;quot;:&amp;quot;&amp;lt;?xml version=\\\\&amp;quot;1.0\\\\&amp;quot; encoding=\\\\&amp;quot;utf-8\\\\&amp;quot;?&amp;gt;\\\\n&amp;lt;svg xmlns=\\\\&amp;quot;http://www.w3.org/2000/svg\\\\&amp;quot; xmlns:xlink=\\\\&amp;quot;http://www.w3.org/1999/xlink\\\\&amp;quot; width=\\\\&amp;quot;600\\\\&amp;quot; height=\\\\&amp;quot;400\\\\&amp;quot; viewBox=\\\\&amp;quot;0 0 2400 1600\\\\&amp;quot;&amp;gt;\\\\n&amp;lt;defs&amp;gt;\\\\n  &amp;lt;clipPath id=\\\\&amp;quot;clip6300\\\\&amp;quot;&amp;gt;\\\\n    &amp;lt;rect x=\\\\&amp;quot;0\\\\&amp;quot; y=\\\\&amp;quot;0\\\\&amp;quot; width=\\\\&amp;quot;2000\\\\&amp;quot; height=\\\\&amp;quot;2000\\\\&amp;quot;/&amp;gt;\\\\n  &amp;lt;/clipPath&amp;gt;\\\\n&amp;lt;/defs&amp;gt;\\\\n&amp;lt;defs&amp;gt;\\\\n  &amp;lt;clipPath id=\\\\&amp;quot;clip6301\\\\&amp;quot;&amp;gt;\\\\n    &amp;lt;rect x=\\\\&amp;quot;0\\\\&amp;quot; y=\\\\&amp;quot;0\\\\&amp;quot; width=\\\\&amp;quot;2400\\\\&amp;quot; height=\\\\&amp;quot;1600\\\\&amp;quot;/&amp;gt;\\\\n  &amp;lt;/clipPath&amp;gt;\\\\n&amp;lt;/defs&amp;gt;\\\\n&amp;lt;polygon clip-path=\\\\&amp;quot;url(#clip6301)\\\\&amp;quot; points=\\\\&amp;quot;\\\\n0,1600 2400,1600 2400,0 0,0 \\\\n  \\\\&amp;quot; fill=\\\\&amp;quot;#ffffff\\\\&amp;quot; fill-rule=\\\\&amp;quot;evenodd\\\\&amp;quot; fill-opacity=\\\\&amp;quot;1\\\\&amp;quot;/&amp;gt;\\\\n&amp;lt;defs&amp;gt;\\\\n  &amp;lt;clipPath id=\\\\&amp;quot;clip6302\\\\&amp;quot;&amp;gt;\\\\n    &amp;lt;rect x=\\\\&amp;quot;480\\\\&amp;quot; y=\\\\&amp;quot;0\\\\&amp;quot; width=\\\\&amp;quot;1681\\\\&amp;quot; height=\\\\&amp;quot;1600\\\\&amp;quot;/&amp;gt;\\\\n  &amp;lt;/clipPath&amp;gt;\\\\n&amp;lt;/defs&amp;gt;\\\\n&amp;lt;polygon clip-path=\\\\&amp;quot;url(#clip6301)\\\\&amp;quot; points=\\\\&amp;quot;\\\\n121.251,1503.47 2321.26,1503.47 2321.26,47.2441 121.251,47.2441 \\\\n  \\\\&amp;quot; fill=\\\\&amp;quot;#ffffff\\\\&amp;quot; fill-rule=\\\\&amp;quot;evenodd\\\\&amp;quot; fill-opacity=\\\\&amp;quot;1\\\\&amp;quot;/&amp;gt;\\\\n&amp;lt;defs&amp;gt;\\\\n  &amp;lt;clipPath id=\\\\&amp;quot;clip6303\\\\&amp;quot;&amp;gt;\\\\n    &amp;lt;rect x=\\\\&amp;quot;121\\\\&amp;quot; y=\\\\&amp;quot;47\\\\&amp;quot; width=\\\\&amp;quot;2201\\\\&amp;quot; height=\\\\&amp;quot;1457\\\\&amp;quot;/&amp;gt;\\\\n  &amp;lt;/clipPath&amp;gt;\\\\n&amp;lt;/defs&amp;gt;\\\\n&amp;lt;polyline clip-path=\\\\&amp;quot;url(#clip6303)\\\\&amp;quot; style=\\\\&amp;quot;stroke:#000000; stroke-width:2; stroke-opacity:0.1; fill:none\\\\&amp;quot; points=\\\\&amp;quot;\\\\n  178.419,1503.47 178.419,47.2441 \\\\n  \\\\&amp;quot;/&amp;gt;\\\\n&amp;lt;polyline clip-path=\\\\&amp;quot;url(#clip6303)\\\\&amp;quot; style=\\\\&amp;quot;stroke:#000000; stroke-width:2; stroke-opacity:0.1; fill:none\\\\&amp;quot; points=\\\\&amp;quot;\\\\n  595.861,1503.47 595.861,47.2441 \\\\n  \\\\&amp;quot;/&amp;gt;\\\\n&amp;lt;polyline clip-path=\\\\&amp;quot;url(#clip6303)\\\\&amp;quot; style=\\\\&amp;quot;stroke:#000000; stroke-width:2; stroke-opacity:0.1; fill:none\\\\&amp;quot; points=\\\\&amp;quot;\\\\n  1013.3,1503.47 1013.3,47.2441 \\\\n  \\\\&amp;quot;/&amp;gt;\\\\n&amp;lt;polyline clip-path=\\\\&amp;quot;url(#clip6303)\\\\&amp;quot; style=\\\\&amp;quot;stroke:#000000; stroke-width:2; stroke-opacity:0.1; fill:none\\\\&amp;quot; points=\\\\&amp;quot;\\\\n  1430.74,1503.47 1430.74,47.2441 \\\\n  \\\\&amp;quot;/&amp;gt;\\\\n&amp;lt;polyline clip-path=\\\\&amp;quot;url(#clip6303)\\\\&amp;quot; style=\\\\&amp;quot;stroke:#000000; stroke-width:2; stroke-opacity:0.1; fill:none\\\\&amp;quot; points=\\\\&amp;quot;\\\\n  1848.19,1503.47 1848.19,47.2441 \\\\n  \\\\&amp;quot;/&amp;gt;\\\\n&amp;lt;polyline clip-path=\\\\&amp;quot;url(#clip6303)\\\\&amp;quot; style=\\\\&amp;quot;stroke:#000000; stroke-width:2; stroke-opacity:0.1; fill:none\\\\&amp;quot; points=\\\\&amp;quot;\\\\n  2265.63,1503.47 2265.63,47.2441 \\\\n  \\\\&amp;quot;/&amp;gt;\\\\n&amp;lt;polyline clip-path=\\\\&amp;quot;url(#clip6303)\\\\&amp;quot; style=\\\\&amp;quot;stroke:#000000; stroke-width:2; stroke-opacity:0.1; fill:none\\\\&amp;quot; points=\\\\&amp;quot;\\\\n  121.251,1468.5 2321.26,1468.5 \\\\n  \\\\&amp;quot;/&amp;gt;\\\\n&amp;lt;polyline clip-path=\\\\&amp;quot;url(#clip6303)\\\\&amp;quot; style=\\\\&amp;quot;stroke:#000000; stroke-width:2; stroke-opacity:0.1; fill:none\\\\&amp;quot; points=\\\\&amp;quot;\\\\n  121.251,1235.13 2321.26,1235.13 \\\\n  \\\\&amp;quot;/&amp;gt;\\\\n&amp;lt;polyline clip-path=\\\\&amp;quot;url(#clip6303)\\\\&amp;quot; style=\\\\&amp;quot;stroke:#000000; stroke-width:2; stroke-opacity:0.1; fill:none\\\\&amp;quot; points=\\\\&amp;quot;\\\\n  121.251,1001.76 2321.26,1001.76 \\\\n  \\\\&amp;quot;/&amp;gt;\\\\n&amp;lt;polyline clip-path=\\\\&amp;quot;url(#clip6303)\\\\&amp;quot; style=\\\\&amp;quot;stroke:#000000; stroke-width:2; stroke-opacity:0.1; fill:none\\\\&amp;quot; points=\\\\&amp;quot;\\\\n  121.251,768.387 2321.26,768.387 \\\\n  \\\\&amp;quot;/&amp;gt;\\\\n&amp;lt;polyline clip-path=\\\\&amp;quot;url(#clip6303)\\\\&amp;quot; style=\\\\&amp;quot;stroke:#000000; stroke-width:2; stroke-opacity:0.1; fill:none\\\\&amp;quot; points=\\\\&amp;quot;\\\\n  121.251,535.017 2321.26,535.017 \\\\n  \\\\&amp;quot;/&amp;gt;\\\\n&amp;lt;polyline clip-path=\\\\&amp;quot;url(#clip6303)\\\\&amp;quot; style=\\\\&amp;quot;stroke:#000000; stroke-width:2; stroke-opacity:0.1; fill:none\\\\&amp;quot; points=\\\\&amp;quot;\\\\n  121.251,301.647 2321.26,301.647 \\\\n  \\\\&amp;quot;/&amp;gt;\\\\n&amp;lt;polyline clip-path=\\\\&amp;quot;url(#clip6303)\\\\&amp;quot; style=\\\\&amp;quot;stroke:#000000; stroke-width:2; stroke-opacity:0.1; fill:none\\\\&amp;quot; points=\\\\&amp;quot;\\\\n  121.251,68.2778 2321.26,68.2778 \\\\n  \\\\&amp;quot;/&amp;gt;\\\\n&amp;lt;polyline clip-path=\\\\&amp;quot;url(#clip6301)\\\\&amp;quot; style=\\\\&amp;quot;stroke:#000000; stroke-width:4; stroke-opacity:1; fill:none\\\\&amp;quot; points=\\\\&amp;quot;\\\\n  121.251,1503.47 2321.26,1503.47 \\\\n  \\\\&amp;quot;/&amp;gt;\\\\n&amp;lt;polyline clip-path=\\\\&amp;quot;url(#clip6301)\\\\&amp;quot; style=\\\\&amp;quot;stroke:#000000; stroke-width:4; stroke-opacity:1; fill:none\\\\&amp;quot; points=\\\\&amp;quot;\\\\n  121.251,1503.47 121.251,47.2441 \\\\n  \\\\&amp;quot;/&amp;gt;\\\\n&amp;lt;polyline clip-path=\\\\&amp;quot;url(#clip6301)\\\\&amp;quot; style=\\\\&amp;quot;stroke:#000000; stroke-width:4; stroke-opacity:1; fill:none\\\\&amp;quot; points=\\\\&amp;quot;\\\\n  178.419,1503.47 178.419,1481.63 \\\\n  \\\\&amp;quot;/&amp;gt;\\\\n&amp;lt;polyline clip-path=\\\\&amp;quot;url(#clip6301)\\\\&amp;quot; style=\\\\&amp;quot;stroke:#000000; stroke-width:4; stroke-opacity:1; fill:none\\\\&amp;quot; points=\\\\&amp;quot;\\\\n  595.861,1503.47 595.861,1481.63 \\\\n  \\\\&amp;quot;/&amp;gt;\\\\n&amp;lt;polyline clip-path=\\\\&amp;quot;url(#clip6301)\\\\&amp;quot; style=\\\\&amp;quot;stroke:#000000; stroke-width:4; stroke-opacity:1; fill:none\\\\&amp;quot; points=\\\\&amp;quot;\\\\n  1013.3,1503.47 1013.3,1481.63 \\\\n  \\\\&amp;quot;/&amp;gt;\\\\n&amp;lt;polyline clip-path=\\\\&amp;quot;url(#clip6301)\\\\&amp;quot; style=\\\\&amp;quot;stroke:#000000; stroke-width:4; stroke-opacity:1; fill:none\\\\&amp;quot; points=\\\\&amp;quot;\\\\n  1430.74,1503.47 1430.74,1481.63 \\\\n  \\\\&amp;quot;/&amp;gt;\\\\n&amp;lt;polyline clip-path=\\\\&amp;quot;url(#clip6301)\\\\&amp;quot; style=\\\\&amp;quot;stroke:#000000; stroke-width:4; stroke-opacity:1; fill:none\\\\&amp;quot; points=\\\\&amp;quot;\\\\n  1848.19,1503.47 1848.19,1481.63 \\\\n  \\\\&amp;quot;/&amp;gt;\\\\n&amp;lt;polyline clip-path=\\\\&amp;quot;url(#clip6301)\\\\&amp;quot; style=\\\\&amp;quot;stroke:#000000; stroke-width:4; stroke-opacity:1; fill:none\\\\&amp;quot; points=\\\\&amp;quot;\\\\n  2265.63,1503.47 2265.63,1481.63 \\\\n  \\\\&amp;quot;/&amp;gt;\\\\n&amp;lt;polyline clip-path=\\\\&amp;quot;url(#clip6301)\\\\&amp;quot; style=\\\\&amp;quot;stroke:#000000; stroke-width:4; stroke-opacity:1; fill:none\\\\&amp;quot; points=\\\\&amp;quot;\\\\n  121.251,1468.5 154.251,1468.5 \\\\n  \\\\&amp;quot;/&amp;gt;\\\\n&amp;lt;polyline clip-path=\\\\&amp;quot;url(#clip6301)\\\\&amp;quot; style=\\\\&amp;quot;stroke:#000000; stroke-width:4; stroke-opacity:1; fill:none\\\\&amp;quot; points=\\\\&amp;quot;\\\\n  121.251,1235.13 154.251,1235.13 \\\\n  \\\\&amp;quot;/&amp;gt;\\\\n&amp;lt;polyline clip-path=\\\\&amp;quot;url(#clip6301)\\\\&amp;quot; style=\\\\&amp;quot;stroke:#000000; stroke-width:4; stroke-opacity:1; fill:none\\\\&amp;quot; points=\\\\&amp;quot;\\\\n  121.251,1001.76 154.251,1001.76 \\\\n  \\\\&amp;quot;/&amp;gt;\\\\n&amp;lt;polyline clip-path=\\\\&amp;quot;url(#clip6301)\\\\&amp;quot; style=\\\\&amp;quot;stroke:#000000; stroke-width:4; stroke-opacity:1; fill:none\\\\&amp;quot; points=\\\\&amp;quot;\\\\n  121.251,768.387 154.251,768.387 \\\\n  \\\\&amp;quot;/&amp;gt;\\\\n&amp;lt;polyline clip-path=\\\\&amp;quot;url(#clip6301)\\\\&amp;quot; style=\\\\&amp;quot;stroke:#000000; stroke-width:4; stroke-opacity:1; fill:none\\\\&amp;quot; points=\\\\&amp;quot;\\\\n  121.251,535.017 154.251,535.017 \\\\n  \\\\&amp;quot;/&amp;gt;\\\\n&amp;lt;polyline clip-path=\\\\&amp;quot;url(#clip6301)\\\\&amp;quot; style=\\\\&amp;quot;stroke:#000000; stroke-width:4; stroke-opacity:1; fill:none\\\\&amp;quot; points=\\\\&amp;quot;\\\\n  121.251,301.647 154.251,301.647 \\\\n  \\\\&amp;quot;/&amp;gt;\\\\n&amp;lt;polyline clip-path=\\\\&amp;quot;url(#clip6301)\\\\&amp;quot; style=\\\\&amp;quot;stroke:#000000; stroke-width:4; stroke-opacity:1; fill:none\\\\&amp;quot; points=\\\\&amp;quot;\\\\n  121.251,68.2778 154.251,68.2778 \\\\n  \\\\&amp;quot;/&amp;gt;\\\\n&amp;lt;g clip-path=\\\\&amp;quot;url(#clip6301)\\\\&amp;quot;&amp;gt;\\\\n&amp;lt;text style=\\\\&amp;quot;fill:#000000; fill-opacity:1; font-family:Arial,Helvetica Neue,Helvetica,sans-serif; font-size:48px; text-anchor:middle;\\\\&amp;quot; transform=\\\\&amp;quot;rotate(0, 178.419, 1557.47)\\\\&amp;quot; x=\\\\&amp;quot;178.419\\\\&amp;quot; y=\\\\&amp;quot;1557.47\\\\&amp;quot;&amp;gt;0&amp;lt;/text&amp;gt;\\\\n&amp;lt;/g&amp;gt;\\\\n&amp;lt;g clip-path=\\\\&amp;quot;url(#clip6301)\\\\&amp;quot;&amp;gt;\\\\n&amp;lt;text style=\\\\&amp;quot;fill:#000000; fill-opacity:1; font-family:Arial,Helvetica Neue,Helvetica,sans-serif; font-size:48px; text-anchor:middle;\\\\&amp;quot; transform=\\\\&amp;quot;rotate(0, 595.861, 1557.47)\\\\&amp;quot; x=\\\\&amp;quot;595.861\\\\&amp;quot; y=\\\\&amp;quot;1557.47\\\\&amp;quot;&amp;gt;1&amp;lt;/text&amp;gt;\\\\n&amp;lt;/g&amp;gt;\\\\n&amp;lt;g clip-path=\\\\&amp;quot;url(#clip6301)\\\\&amp;quot;&amp;gt;\\\\n&amp;lt;text style=\\\\&amp;quot;fill:#000000; fill-opacity:1; font-family:Arial,Helvetica Neue,Helvetica,sans-serif; font-size:48px; text-anchor:middle;\\\\&amp;quot; transform=\\\\&amp;quot;rotate(0, 1013.3, 1557.47)\\\\&amp;quot; x=\\\\&amp;quot;1013.3\\\\&amp;quot; y=\\\\&amp;quot;1557.47\\\\&amp;quot;&amp;gt;2&amp;lt;/text&amp;gt;\\\\n&amp;lt;/g&amp;gt;\\\\n&amp;lt;g clip-path=\\\\&amp;quot;url(#clip6301)\\\\&amp;quot;&amp;gt;\\\\n&amp;lt;text style=\\\\&amp;quot;fill:#000000; fill-opacity:1; font-family:Arial,Helvetica Neue,Helvetica,sans-serif; font-size:48px; text-anchor:middle;\\\\&amp;quot; transform=\\\\&amp;quot;rotate(0, 1430.74, 1557.47)\\\\&amp;quot; x=\\\\&amp;quot;1430.74\\\\&amp;quot; y=\\\\&amp;quot;1557.47\\\\&amp;quot;&amp;gt;3&amp;lt;/text&amp;gt;\\\\n&amp;lt;/g&amp;gt;\\\\n&amp;lt;g clip-path=\\\\&amp;quot;url(#clip6301)\\\\&amp;quot;&amp;gt;\\\\n&amp;lt;text style=\\\\&amp;quot;fill:#000000; fill-opacity:1; font-family:Arial,Helvetica Neue,Helvetica,sans-serif; font-size:48px; text-anchor:middle;\\\\&amp;quot; transform=\\\\&amp;quot;rotate(0, 1848.19, 1557.47)\\\\&amp;quot; x=\\\\&amp;quot;1848.19\\\\&amp;quot; y=\\\\&amp;quot;1557.47\\\\&amp;quot;&amp;gt;4&amp;lt;/text&amp;gt;\\\\n&amp;lt;/g&amp;gt;\\\\n&amp;lt;g clip-path=\\\\&amp;quot;url(#clip6301)\\\\&amp;quot;&amp;gt;\\\\n&amp;lt;text style=\\\\&amp;quot;fill:#000000; fill-opacity:1; font-family:Arial,Helvetica Neue,Helvetica,sans-serif; font-size:48px; text-anchor:middle;\\\\&amp;quot; transform=\\\\&amp;quot;rotate(0, 2265.63, 1557.47)\\\\&amp;quot; x=\\\\&amp;quot;2265.63\\\\&amp;quot; y=\\\\&amp;quot;1557.47\\\\&amp;quot;&amp;gt;5&amp;lt;/text&amp;gt;\\\\n&amp;lt;/g&amp;gt;\\\\n&amp;lt;g clip-path=\\\\&amp;quot;url(#clip6301)\\\\&amp;quot;&amp;gt;\\\\n&amp;lt;text style=\\\\&amp;quot;fill:#000000; fill-opacity:1; font-family:Arial,Helvetica Neue,Helvetica,sans-serif; font-size:48px; text-anchor:end;\\\\&amp;quot; transform=\\\\&amp;quot;rotate(0, 97.2505, 1486)\\\\&amp;quot; x=\\\\&amp;quot;97.2505\\\\&amp;quot; y=\\\\&amp;quot;1486\\\\&amp;quot;&amp;gt;0&amp;lt;/text&amp;gt;\\\\n&amp;lt;/g&amp;gt;\\\\n&amp;lt;g clip-path=\\\\&amp;quot;url(#clip6301)\\\\&amp;quot;&amp;gt;\\\\n&amp;lt;text style=\\\\&amp;quot;fill:#000000; fill-opacity:1; font-family:Arial,Helvetica Neue,Helvetica,sans-serif; font-size:48px; text-anchor:end;\\\\&amp;quot; transform=\\\\&amp;quot;rotate(0, 97.2505, 1252.63)\\\\&amp;quot; x=\\\\&amp;quot;97.2505\\\\&amp;quot; y=\\\\&amp;quot;1252.63\\\\&amp;quot;&amp;gt;1&amp;lt;/text&amp;gt;\\\\n&amp;lt;/g&amp;gt;\\\\n&amp;lt;g clip-path=\\\\&amp;quot;url(#clip6301)\\\\&amp;quot;&amp;gt;\\\\n&amp;lt;text style=\\\\&amp;quot;fill:#000000; fill-opacity:1; font-family:Arial,Helvetica Neue,Helvetica,sans-serif; font-size:48px; text-anchor:end;\\\\&amp;quot; transform=\\\\&amp;quot;rotate(0, 97.2505, 1019.26)\\\\&amp;quot; x=\\\\&amp;quot;97.2505\\\\&amp;quot; y=\\\\&amp;quot;1019.26\\\\&amp;quot;&amp;gt;2&amp;lt;/text&amp;gt;\\\\n&amp;lt;/g&amp;gt;\\\\n&amp;lt;g clip-path=\\\\&amp;quot;url(#clip6301)\\\\&amp;quot;&amp;gt;\\\\n&amp;lt;text style=\\\\&amp;quot;fill:#000000; fill-opacity:1; font-family:Arial,Helvetica Neue,Helvetica,sans-serif; font-size:48px; text-anchor:end;\\\\&amp;quot; transform=\\\\&amp;quot;rotate(0, 97.2505, 785.887)\\\\&amp;quot; x=\\\\&amp;quot;97.2505\\\\&amp;quot; y=\\\\&amp;quot;785.887\\\\&amp;quot;&amp;gt;3&amp;lt;/text&amp;gt;\\\\n&amp;lt;/g&amp;gt;\\\\n&amp;lt;g clip-path=\\\\&amp;quot;url(#clip6301)\\\\&amp;quot;&amp;gt;\\\\n&amp;lt;text style=\\\\&amp;quot;fill:#000000; fill-opacity:1; font-family:Arial,Helvetica Neue,Helvetica,sans-serif; font-size:48px; text-anchor:end;\\\\&amp;quot; transform=\\\\&amp;quot;rotate(0, 97.2505, 552.517)\\\\&amp;quot; x=\\\\&amp;quot;97.2505\\\\&amp;quot; y=\\\\&amp;quot;552.517\\\\&amp;quot;&amp;gt;4&amp;lt;/text&amp;gt;\\\\n&amp;lt;/g&amp;gt;\\\\n&amp;lt;g clip-path=\\\\&amp;quot;url(#clip6301)\\\\&amp;quot;&amp;gt;\\\\n&amp;lt;text style=\\\\&amp;quot;fill:#000000; fill-opacity:1; font-family:Arial,Helvetica Neue,Helvetica,sans-serif; font-size:48px; text-anchor:end;\\\\&amp;quot; transform=\\\\&amp;quot;rotate(0, 97.2505, 319.147)\\\\&amp;quot; x=\\\\&amp;quot;97.2505\\\\&amp;quot; y=\\\\&amp;quot;319.147\\\\&amp;quot;&amp;gt;5&amp;lt;/text&amp;gt;\\\\n&amp;lt;/g&amp;gt;\\\\n&amp;lt;g clip-path=\\\\&amp;quot;url(#clip6301)\\\\&amp;quot;&amp;gt;\\\\n&amp;lt;text style=\\\\&amp;quot;fill:#000000; fill-opacity:1; font-family:Arial,Helvetica Neue,Helvetica,sans-serif; font-size:48px; text-anchor:end;\\\\&amp;quot; transform=\\\\&amp;quot;rotate(0, 97.2505, 85.7778)\\\\&amp;quot; x=\\\\&amp;quot;97.2505\\\\&amp;quot; y=\\\\&amp;quot;85.7778\\\\&amp;quot;&amp;gt;6&amp;lt;/text&amp;gt;\\\\n&amp;lt;/g&amp;gt;\\\\n&amp;lt;polyline clip-path=\\\\&amp;quot;url(#clip6303)\\\\&amp;quot; style=\\\\&amp;quot;stroke:#009af9; stroke-width:4; stroke-opacity:1; fill:none\\\\&amp;quot; points=\\\\&amp;quot;\\\\n  183.515,1462.26 188.611,1456.04 193.707,1449.86 198.802,1443.72 245.921,1392.03 293.039,1355.57 340.157,1336.8 387.275,1329.67 443.908,1319.94 500.54,1291.06 \\\\n  548.422,1246.74 596.303,1190.32 648.317,1129.61 700.33,1084.24 748.281,1061.65 796.232,1052.95 847.641,1045.84 899.051,1025.95 958.613,976.845 1018.18,907.273 \\\\n  1071.11,846.401 1124.04,802.617 1170.46,782.697 1216.87,774.97 1267.48,767.665 1318.09,747.385 1368.99,706.437 1419.9,648.853 1476.18,581.916 1532.47,530.838 \\\\n  1586.02,505.577 1639.58,496.779 1695.26,487.336 1750.94,459.579 1797.82,417.014 1844.69,362.256 1901.92,295.373 1959.14,247.222 2012.94,225.579 2066.73,218.099 \\\\n  2109.82,210.52 2152.92,192.156 2196.01,158.826 2239.1,112.427 2245.73,104.535 2252.36,96.5331 2259,88.4582 \\\\n  \\\\&amp;quot;/&amp;gt;\\\\n&amp;lt;polygon clip-path=\\\\&amp;quot;url(#clip6301)\\\\&amp;quot; points=\\\\&amp;quot;\\\\n1958.43,251.724 2249.26,251.724 2249.26,130.764 1958.43,130.764 \\\\n  \\\\&amp;quot; fill=\\\\&amp;quot;#ffffff\\\\&amp;quot; fill-rule=\\\\&amp;quot;evenodd\\\\&amp;quot; fill-opacity=\\\\&amp;quot;1\\\\&amp;quot;/&amp;gt;\\\\n&amp;lt;polyline clip-path=\\\\&amp;quot;url(#clip6301)\\\\&amp;quot; style=\\\\&amp;quot;stroke:#000000; stroke-width:4; stroke-opacity:1; fill:none\\\\&amp;quot; points=\\\\&amp;quot;\\\\n  1958.43,251.724 2249.26,251.724 2249.26,130.764 1958.43,130.764 1958.43,251.724 \\\\n  \\\\&amp;quot;/&amp;gt;\\\\n&amp;lt;polyline clip-path=\\\\&amp;quot;url(#clip6301)\\\\&amp;quot; style=\\\\&amp;quot;stroke:#009af9; stroke-width:4; stroke-opacity:1; fill:none\\\\&amp;quot; points=\\\\&amp;quot;\\\\n  1982.43,191.244 2126.43,191.244 \\\\n  \\\\&amp;quot;/&amp;gt;\\\\n&amp;lt;g clip-path=\\\\&amp;quot;url(#clip6301)\\\\&amp;quot;&amp;gt;\\\\n&amp;lt;text style=\\\\&amp;quot;fill:#000000; fill-opacity:1; font-family:Arial,Helvetica Neue,Helvetica,sans-serif; font-size:48px; text-anchor:start;\\\\&amp;quot; transform=\\\\&amp;quot;rotate(0, 2150.43, 208.744)\\\\&amp;quot; x=\\\\&amp;quot;2150.43\\\\&amp;quot; y=\\\\&amp;quot;208.744\\\\&amp;quot;&amp;gt;y1&amp;lt;/text&amp;gt;\\\\n&amp;lt;/g&amp;gt;\\\\n&amp;lt;/svg&amp;gt;\\\\n&amp;quot;},&amp;quot;nodeType&amp;quot;:&amp;quot;DOM&amp;quot;,&amp;quot;type&amp;quot;:&amp;quot;node&amp;quot;,&amp;quot;instanceArgs&amp;quot;:{&amp;quot;namespace&amp;quot;:&amp;quot;html&amp;quot;,&amp;quot;tag&amp;quot;:&amp;quot;div&amp;quot;},&amp;quot;children&amp;quot;:[]}]})&lt;/unsafe-script&gt;&quot;},&quot;nodeType&quot;:&quot;DOM&quot;,&quot;type&quot;:&quot;node&quot;,&quot;instanceArgs&quot;:{&quot;namespace&quot;:&quot;html&quot;,&quot;tag&quot;:&quot;div&quot;},&quot;children&quot;:[]}]}]})</unsafe-script>\n",
       "</div>"
      ],
      "text/plain": [
       "Widget{:manipulate,Any}(OrderedDict{Symbol,Any}(:Time=>Widget{:slider,Float64}(OrderedDict{Symbol,Any}(:changes=>Observable{Int64} with 1 listeners. Value:\n",
       "0,:index=>Observable{Any} with 2 listeners. Value:\n",
       "51,:formatted_vals=>Observable{Any} with 1 listeners. Value:\n",
       "[\"0.0\", \"0.1\", \"0.2\", \"0.3\", \"0.4\", \"0.5\", \"0.6\", \"0.7\", \"0.8\", \"0.9\"  …  \"9.1\", \"9.2\", \"9.3\", \"9.4\", \"9.5\", \"9.6\", \"9.7\", \"9.8\", \"9.9\", \"10.0\"],:formatted_value=>Observable{String} with 1 listeners. Value:\n",
       "\"5.0\",:value=>Observable{Float64} with 2 listeners. Value:\n",
       "5.0), Observable{Float64} with 2 listeners. Value:\n",
       "5.0, Scope(\"knockout-component-a53c4e5f-f087-4387-9a24-3bb6f65f6b96\", Node{DOM}(DOM(:html, :div), Any[Node{DOM}(DOM(:html, :div), Any[Node{DOM}(DOM(:html, :label), Any[\"Time\"], Dict{Symbol,Any}(:className=>\"interact \",:style=>Dict{Any,Any}(:padding=>\"5px 10px 0px 10px\")), 1)], Dict{Symbol,Any}(:attributes=>Dict(\"class\"=>\"interact-flex-row-left\")), 2), Node{DOM}(DOM(:html, :div), Any[Node{DOM}(DOM(:html, :input), Any[], Dict{Symbol,Any}(:max=>101,:min=>1,:attributes=>Dict{Any,Any}(:type=>\"range\",Symbol(\"data-bind\")=>\"numericValue: index, valueUpdate: 'input', event: {change : function () {this.changes(this.changes()+1)}}\",\"orient\"=>\"horizontal\"),:step=>1,:className=>\"slider slider is-fullwidth\",:style=>Dict{Any,Any}()), 0)], Dict{Symbol,Any}(:attributes=>Dict(\"class\"=>\"interact-flex-row-center\")), 1), Node{DOM}(DOM(:html, :div), Any[Node{DOM}(DOM(:html, :p), Any[], Dict{Symbol,Any}(:attributes=>Dict(\"data-bind\"=>\"text: formatted_value\")), 0)], Dict{Symbol,Any}(:attributes=>Dict(\"class\"=>\"interact-flex-row-right\")), 1)], Dict{Symbol,Any}(:attributes=>Dict(\"class\"=>\"interact-flex-row\")), 7), Dict{String,Tuple{Observables.AbstractObservable,Union{Nothing, Bool}}}(\"formatted_vals\"=>(Observable{Any} with 1 listeners. Value:\n",
       "[\"0.0\", \"0.1\", \"0.2\", \"0.3\", \"0.4\", \"0.5\", \"0.6\", \"0.7\", \"0.8\", \"0.9\"  …  \"9.1\", \"9.2\", \"9.3\", \"9.4\", \"9.5\", \"9.6\", \"9.7\", \"9.8\", \"9.9\", \"10.0\"], nothing),\"changes\"=>(Observable{Int64} with 1 listeners. Value:\n",
       "0, nothing),\"formatted_value\"=>(Observable{String} with 1 listeners. Value:\n",
       "\"5.0\", nothing),\"index\"=>(Observable{Any} with 2 listeners. Value:\n",
       "51, nothing)), Set(String[]), nothing, Any[\"knockout\"=>\"C:\\\\Users\\\\luiss\\\\.julia\\\\packages\\\\Knockout\\\\JIqpG\\\\src\\\\..\\\\assets\\\\knockout.js\", \"knockout_punches\"=>\"C:\\\\Users\\\\luiss\\\\.julia\\\\packages\\\\Knockout\\\\JIqpG\\\\src\\\\..\\\\assets\\\\knockout_punches.js\", \"C:\\\\Users\\\\luiss\\\\.julia\\\\packages\\\\InteractBase\\\\PTCUD\\\\src\\\\..\\\\assets\\\\all.js\", \"C:\\\\Users\\\\luiss\\\\.julia\\\\packages\\\\InteractBase\\\\PTCUD\\\\src\\\\..\\\\assets\\\\style.css\", \"C:\\\\Users\\\\luiss\\\\.julia\\\\packages\\\\InteractBulma\\\\PH56C\\\\src\\\\..\\\\assets\\\\main.css\"], Dict{Any,Any}(\"formatted_vals\"=>Any[JSString(\"(function (val){return (val!=this.model[\\\"formatted_vals\\\"]()) ? (this.valueFromJulia[\\\"formatted_vals\\\"]=true, this.model[\\\"formatted_vals\\\"](val)) : undefined})\")],\"_promises\"=>Dict{Any,Any}(\"importsLoaded\"=>Any[JSString(\"function (ko, koPunches) {\\n    ko.punches.enableAll();\\n    ko.bindingHandlers.numericValue = {\\n        init : function(element, valueAccessor, allBindings, data, context) {\\n            var stringified = ko.observable(ko.unwrap(valueAccessor()));\\n            stringified.subscribe(function(value) {\\n                var val = parseFloat(value);\\n                if (!isNaN(val)) {\\n                    valueAccessor()(val);\\n                }\\n            })\\n            valueAccessor().subscribe(function(value) {\\n                var str = JSON.stringify(value);\\n                if ((str == \\\"0\\\") && ([\\\"-0\\\", \\\"-0.\\\"].indexOf(stringified()) >= 0))\\n                     return;\\n                 if ([\\\"null\\\", \\\"\\\"].indexOf(str) >= 0)\\n                     return;\\n                stringified(str);\\n            })\\n            ko.applyBindingsToNode(element, { value: stringified, valueUpdate: allBindings.get('valueUpdate')}, context);\\n        }\\n    };\\n    var json_data = JSON.parse(\\\"{\\\\\\\"formatted_vals\\\\\\\":[\\\\\\\"0.0\\\\\\\",\\\\\\\"0.1\\\\\\\",\\\\\\\"0.2\\\\\\\",\\\\\\\"0.3\\\\\\\",\\\\\\\"0.4\\\\\\\",\\\\\\\"0.5\\\\\\\",\\\\\\\"0.6\\\\\\\",\\\\\\\"0.7\\\\\\\",\\\\\\\"0.8\\\\\\\",\\\\\\\"0.9\\\\\\\",\\\\\\\"1.0\\\\\\\",\\\\\\\"1.1\\\\\\\",\\\\\\\"1.2\\\\\\\",\\\\\\\"1.3\\\\\\\",\\\\\\\"1.4\\\\\\\",\\\\\\\"1.5\\\\\\\",\\\\\\\"1.6\\\\\\\",\\\\\\\"1.7\\\\\\\",\\\\\\\"1.8\\\\\\\",\\\\\\\"1.9\\\\\\\",\\\\\\\"2.0\\\\\\\",\\\\\\\"2.1\\\\\\\",\\\\\\\"2.2\\\\\\\",\\\\\\\"2.3\\\\\\\",\\\\\\\"2.4\\\\\\\",\\\\\\\"2.5\\\\\\\",\\\\\\\"2.6\\\\\\\",\\\\\\\"2.7\\\\\\\",\\\\\\\"2.8\\\\\\\",\\\\\\\"2.9\\\\\\\",\\\\\\\"3.0\\\\\\\",\\\\\\\"3.1\\\\\\\",\\\\\\\"3.2\\\\\\\",\\\\\\\"3.3\\\\\\\",\\\\\\\"3.4\\\\\\\",\\\\\\\"3.5\\\\\\\",\\\\\\\"3.6\\\\\\\",\\\\\\\"3.7\\\\\\\",\\\\\\\"3.8\\\\\\\",\\\\\\\"3.9\\\\\\\",\\\\\\\"4.0\\\\\\\",\\\\\\\"4.1\\\\\\\",\\\\\\\"4.2\\\\\\\",\\\\\\\"4.3\\\\\\\",\\\\\\\"4.4\\\\\\\",\\\\\\\"4.5\\\\\\\",\\\\\\\"4.6\\\\\\\",\\\\\\\"4.7\\\\\\\",\\\\\\\"4.8\\\\\\\",\\\\\\\"4.9\\\\\\\",\\\\\\\"5.0\\\\\\\",\\\\\\\"5.1\\\\\\\",\\\\\\\"5.2\\\\\\\",\\\\\\\"5.3\\\\\\\",\\\\\\\"5.4\\\\\\\",\\\\\\\"5.5\\\\\\\",\\\\\\\"5.6\\\\\\\",\\\\\\\"5.7\\\\\\\",\\\\\\\"5.8\\\\\\\",\\\\\\\"5.9\\\\\\\",\\\\\\\"6.0\\\\\\\",\\\\\\\"6.1\\\\\\\",\\\\\\\"6.2\\\\\\\",\\\\\\\"6.3\\\\\\\",\\\\\\\"6.4\\\\\\\",\\\\\\\"6.5\\\\\\\",\\\\\\\"6.6\\\\\\\",\\\\\\\"6.7\\\\\\\",\\\\\\\"6.8\\\\\\\",\\\\\\\"6.9\\\\\\\",\\\\\\\"7.0\\\\\\\",\\\\\\\"7.1\\\\\\\",\\\\\\\"7.2\\\\\\\",\\\\\\\"7.3\\\\\\\",\\\\\\\"7.4\\\\\\\",\\\\\\\"7.5\\\\\\\",\\\\\\\"7.6\\\\\\\",\\\\\\\"7.7\\\\\\\",\\\\\\\"7.8\\\\\\\",\\\\\\\"7.9\\\\\\\",\\\\\\\"8.0\\\\\\\",\\\\\\\"8.1\\\\\\\",\\\\\\\"8.2\\\\\\\",\\\\\\\"8.3\\\\\\\",\\\\\\\"8.4\\\\\\\",\\\\\\\"8.5\\\\\\\",\\\\\\\"8.6\\\\\\\",\\\\\\\"8.7\\\\\\\",\\\\\\\"8.8\\\\\\\",\\\\\\\"8.9\\\\\\\",\\\\\\\"9.0\\\\\\\",\\\\\\\"9.1\\\\\\\",\\\\\\\"9.2\\\\\\\",\\\\\\\"9.3\\\\\\\",\\\\\\\"9.4\\\\\\\",\\\\\\\"9.5\\\\\\\",\\\\\\\"9.6\\\\\\\",\\\\\\\"9.7\\\\\\\",\\\\\\\"9.8\\\\\\\",\\\\\\\"9.9\\\\\\\",\\\\\\\"10.0\\\\\\\"],\\\\\\\"changes\\\\\\\":0,\\\\\\\"formatted_value\\\\\\\":\\\\\\\"5.0\\\\\\\",\\\\\\\"index\\\\\\\":51}\\\");\\n    var self = this;\\n    function AppViewModel() {\\n        for (var key in json_data) {\\n            var el = json_data[key];\\n            this[key] = Array.isArray(el) ? ko.observableArray(el) : ko.observable(el);\\n        }\\n        \\n        \\n        [this[\\\"formatted_vals\\\"].subscribe((function (val){!(this.valueFromJulia[\\\"formatted_vals\\\"]) ? (WebIO.setval({\\\"name\\\":\\\"formatted_vals\\\",\\\"scope\\\":\\\"knockout-component-a53c4e5f-f087-4387-9a24-3bb6f65f6b96\\\",\\\"id\\\":\\\"ob_19\\\",\\\"type\\\":\\\"observable\\\"},val)) : undefined; return this.valueFromJulia[\\\"formatted_vals\\\"]=false}),self),this[\\\"changes\\\"].subscribe((function (val){!(this.valueFromJulia[\\\"changes\\\"]) ? (WebIO.setval({\\\"name\\\":\\\"changes\\\",\\\"scope\\\":\\\"knockout-component-a53c4e5f-f087-4387-9a24-3bb6f65f6b96\\\",\\\"id\\\":\\\"ob_21\\\",\\\"type\\\":\\\"observable\\\"},val)) : undefined; return this.valueFromJulia[\\\"changes\\\"]=false}),self),this[\\\"formatted_value\\\"].subscribe((function (val){!(this.valueFromJulia[\\\"formatted_value\\\"]) ? (WebIO.setval({\\\"name\\\":\\\"formatted_value\\\",\\\"scope\\\":\\\"knockout-component-a53c4e5f-f087-4387-9a24-3bb6f65f6b96\\\",\\\"id\\\":\\\"ob_20\\\",\\\"type\\\":\\\"observable\\\"},val)) : undefined; return this.valueFromJulia[\\\"formatted_value\\\"]=false}),self),this[\\\"index\\\"].subscribe((function (val){!(this.valueFromJulia[\\\"index\\\"]) ? (WebIO.setval({\\\"name\\\":\\\"index\\\",\\\"scope\\\":\\\"knockout-component-a53c4e5f-f087-4387-9a24-3bb6f65f6b96\\\",\\\"id\\\":\\\"ob_18\\\",\\\"type\\\":\\\"observable\\\"},val)) : undefined; return this.valueFromJulia[\\\"index\\\"]=false}),self)]\\n        \\n    }\\n    self.model = new AppViewModel();\\n    self.valueFromJulia = {};\\n    for (var key in json_data) {\\n        self.valueFromJulia[key] = false;\\n    }\\n    ko.applyBindings(self.model, self.dom);\\n}\\n\")]),\"changes\"=>Any[JSString(\"(function (val){return (val!=this.model[\\\"changes\\\"]()) ? (this.valueFromJulia[\\\"changes\\\"]=true, this.model[\\\"changes\\\"](val)) : undefined})\")],\"formatted_value\"=>Any[JSString(\"(function (val){return (val!=this.model[\\\"formatted_value\\\"]()) ? (this.valueFromJulia[\\\"formatted_value\\\"]=true, this.model[\\\"formatted_value\\\"](val)) : undefined})\")],\"index\"=>Any[JSString(\"(function (val){return (val!=this.model[\\\"index\\\"]()) ? (this.valueFromJulia[\\\"index\\\"]=true, this.model[\\\"index\\\"](val)) : undefined})\"), JSString(\"(function (val){return WebIO.setval({\\\"name\\\":\\\"formatted_value\\\",\\\"scope\\\":\\\"knockout-component-a53c4e5f-f087-4387-9a24-3bb6f65f6b96\\\",\\\"id\\\":\\\"ob_20\\\",\\\"type\\\":\\\"observable\\\"},WebIO.getval({\\\"name\\\":\\\"formatted_vals\\\",\\\"scope\\\":\\\"knockout-component-a53c4e5f-f087-4387-9a24-3bb6f65f6b96\\\",\\\"id\\\":\\\"ob_19\\\",\\\"type\\\":\\\"observable\\\"})[(WebIO.getval({\\\"name\\\":\\\"index\\\",\\\"scope\\\":\\\"knockout-component-a53c4e5f-f087-4387-9a24-3bb6f65f6b96\\\",\\\"id\\\":\\\"ob_18\\\",\\\"type\\\":\\\"observable\\\"})-1)])})\")]), ConnectionPool(Channel{Any}(sz_max:9223372036854775807,sz_curr:4), Set(AbstractConnection[]), Channel{AbstractConnection}(sz_max:32,sz_curr:0))), ##56#57{#dom#15{##dom#13#14{Dict{Any,Any},DOM}},typeof(scope)}(#dom#15{##dom#13#14{Dict{Any,Any},DOM}}(##dom#13#14{Dict{Any,Any},DOM}(Dict{Any,Any}(:className=>\"field\"), DOM(:html, :div))), scope))), Observable{Any} with 0 listeners. Value:\n",
       "Plot{Plots.GRBackend() n=1}, nothing, getfield(InteractBase, Symbol(\"##142#143\"))())"
      ]
     },
     "execution_count": 50,
     "metadata": {},
     "output_type": "execute_result"
    }
   ],
   "source": [
    "using Interact; Colors\n",
    "@manipulate for Time = 0:0.1:10\n",
    "    plot([t -> sin(2*pi*t)/(2*pi)+C*t],0,Time)\n",
    "end"
   ]
  },
  {
   "cell_type": "markdown",
   "metadata": {},
   "source": [
    "Now we have an interactive plot!"
   ]
  },
  {
   "cell_type": "markdown",
   "metadata": {},
   "source": [
    "$$\\sim$$"
   ]
  },
  {
   "cell_type": "markdown",
   "metadata": {},
   "source": [
    "# Using `DifferentialEquations.jl`"
   ]
  },
  {
   "cell_type": "markdown",
   "metadata": {},
   "source": [
    "Although the solution we derived using separation of variables is correct, it becomes inconvenient to have to manually solve our differential equations. Luckily, we have the convenient alternative of using the `DifferentialEquations.jl` package. Let's go ahead an initialize it."
   ]
  },
  {
   "cell_type": "code",
   "execution_count": 7,
   "metadata": {},
   "outputs": [],
   "source": [
    "using DifferentialEquations"
   ]
  },
  {
   "cell_type": "markdown",
   "metadata": {},
   "source": [
    "In order to initialize our desired differential equation within Julia, we simply assign it to the \"variable\" `f(u,p,t)`:"
   ]
  },
  {
   "cell_type": "code",
   "execution_count": 62,
   "metadata": {},
   "outputs": [
    {
     "data": {
      "text/plain": [
       "f (generic function with 1 method)"
      ]
     },
     "execution_count": 62,
     "metadata": {},
     "output_type": "execute_result"
    }
   ],
   "source": [
    "f(u,p,t) = sin(2.0*pi*u)"
   ]
  },
  {
   "cell_type": "markdown",
   "metadata": {},
   "source": [
    "Here, we have no concerns regarding parameters (`p` variable), and we define our $t$-span (`t`) immediately after, so only `u` appears in our declaration. In addition to defining our time interval of interest, we must also provide an initial condition (we'll just use the one above again, i.e. $X(0) = 0$)."
   ]
  },
  {
   "cell_type": "code",
   "execution_count": 63,
   "metadata": {},
   "outputs": [],
   "source": [
    "u0 = 0.0;\n",
    "tspan = (0.0,10.0);"
   ]
  },
  {
   "cell_type": "markdown",
   "metadata": {},
   "source": [
    "The `DifferentialEquations` package allows us to define the type of differential equation we're solving. In this case, we have a *first order linear homogeneous differential equation*, so we define our \"problem\" as follows:"
   ]
  },
  {
   "cell_type": "code",
   "execution_count": 64,
   "metadata": {},
   "outputs": [
    {
     "data": {
      "text/plain": [
       "\u001b[36mODEProblem\u001b[0m with uType \u001b[36mFloat64\u001b[0m and tType \u001b[36mFloat64\u001b[0m. In-place: \u001b[36mfalse\u001b[0m\n",
       "timespan: (0.0, 10.0)\n",
       "u0: 0.0"
      ]
     },
     "execution_count": 64,
     "metadata": {},
     "output_type": "execute_result"
    }
   ],
   "source": [
    "prob = ODEProblem(f,u0,tspan)"
   ]
  },
  {
   "cell_type": "markdown",
   "metadata": {},
   "source": [
    "Here, all of our variables pop up, which makes since since we would need all three of *these* parameters if we were to solve by separation of varables, as we did previously. Moving on, our solution can be obtained as follows:"
   ]
  },
  {
   "cell_type": "code",
   "execution_count": 65,
   "metadata": {},
   "outputs": [],
   "source": [
    "solution = solve(prob,saveat=0.1);"
   ]
  },
  {
   "cell_type": "markdown",
   "metadata": {},
   "source": [
    "As we can note from our output (omitted for brevity), `sol` is a function containing arrays of our $t$ and $X(t)$ values. Important to note is the `saveat` parameter, which defines the stepsize at which the `DifferentialEquations` package 'saves' the $X(t)$ values. Since we wanted a stepsize of $\\Delta t = 0.1$, we assign a value of `0.1`. We can now plot our lovely graph:"
   ]
  },
  {
   "cell_type": "code",
   "execution_count": 66,
   "metadata": {},
   "outputs": [
    {
     "data": {
      "image/svg+xml": [
       "<?xml version=\"1.0\" encoding=\"utf-8\"?>\n",
       "<svg xmlns=\"http://www.w3.org/2000/svg\" xmlns:xlink=\"http://www.w3.org/1999/xlink\" width=\"600\" height=\"400\" viewBox=\"0 0 2400 1600\">\n",
       "<defs>\n",
       "  <clipPath id=\"clip6900\">\n",
       "    <rect x=\"0\" y=\"0\" width=\"2000\" height=\"2000\"/>\n",
       "  </clipPath>\n",
       "</defs>\n",
       "<defs>\n",
       "  <clipPath id=\"clip6901\">\n",
       "    <rect x=\"0\" y=\"0\" width=\"2400\" height=\"1600\"/>\n",
       "  </clipPath>\n",
       "</defs>\n",
       "<polygon clip-path=\"url(#clip6901)\" points=\"\n",
       "0,1600 2400,1600 2400,0 0,0 \n",
       "  \" fill=\"#ffffff\" fill-rule=\"evenodd\" fill-opacity=\"1\"/>\n",
       "<defs>\n",
       "  <clipPath id=\"clip6902\">\n",
       "    <rect x=\"480\" y=\"0\" width=\"1681\" height=\"1600\"/>\n",
       "  </clipPath>\n",
       "</defs>\n",
       "<polygon clip-path=\"url(#clip6901)\" points=\"\n",
       "188.156,1440.48 2321.26,1440.48 2321.26,47.2441 188.156,47.2441 \n",
       "  \" fill=\"#ffffff\" fill-rule=\"evenodd\" fill-opacity=\"1\"/>\n",
       "<defs>\n",
       "  <clipPath id=\"clip6903\">\n",
       "    <rect x=\"188\" y=\"47\" width=\"2134\" height=\"1394\"/>\n",
       "  </clipPath>\n",
       "</defs>\n",
       "<polyline clip-path=\"url(#clip6903)\" style=\"stroke:#000000; stroke-width:2; stroke-opacity:0.1; fill:none\" points=\"\n",
       "  188.156,1440.48 188.156,47.2441 \n",
       "  \"/>\n",
       "<polyline clip-path=\"url(#clip6903)\" style=\"stroke:#000000; stroke-width:2; stroke-opacity:0.1; fill:none\" points=\"\n",
       "  614.777,1440.48 614.777,47.2441 \n",
       "  \"/>\n",
       "<polyline clip-path=\"url(#clip6903)\" style=\"stroke:#000000; stroke-width:2; stroke-opacity:0.1; fill:none\" points=\"\n",
       "  1041.4,1440.48 1041.4,47.2441 \n",
       "  \"/>\n",
       "<polyline clip-path=\"url(#clip6903)\" style=\"stroke:#000000; stroke-width:2; stroke-opacity:0.1; fill:none\" points=\"\n",
       "  1468.02,1440.48 1468.02,47.2441 \n",
       "  \"/>\n",
       "<polyline clip-path=\"url(#clip6903)\" style=\"stroke:#000000; stroke-width:2; stroke-opacity:0.1; fill:none\" points=\"\n",
       "  1894.64,1440.48 1894.64,47.2441 \n",
       "  \"/>\n",
       "<polyline clip-path=\"url(#clip6903)\" style=\"stroke:#000000; stroke-width:2; stroke-opacity:0.1; fill:none\" points=\"\n",
       "  2321.26,1440.48 2321.26,47.2441 \n",
       "  \"/>\n",
       "<polyline clip-path=\"url(#clip6903)\" style=\"stroke:#000000; stroke-width:2; stroke-opacity:0.1; fill:none\" points=\"\n",
       "  188.156,1401.05 2321.26,1401.05 \n",
       "  \"/>\n",
       "<polyline clip-path=\"url(#clip6903)\" style=\"stroke:#000000; stroke-width:2; stroke-opacity:0.1; fill:none\" points=\"\n",
       "  188.156,1155.59 2321.26,1155.59 \n",
       "  \"/>\n",
       "<polyline clip-path=\"url(#clip6903)\" style=\"stroke:#000000; stroke-width:2; stroke-opacity:0.1; fill:none\" points=\"\n",
       "  188.156,910.12 2321.26,910.12 \n",
       "  \"/>\n",
       "<polyline clip-path=\"url(#clip6903)\" style=\"stroke:#000000; stroke-width:2; stroke-opacity:0.1; fill:none\" points=\"\n",
       "  188.156,664.654 2321.26,664.654 \n",
       "  \"/>\n",
       "<polyline clip-path=\"url(#clip6903)\" style=\"stroke:#000000; stroke-width:2; stroke-opacity:0.1; fill:none\" points=\"\n",
       "  188.156,419.188 2321.26,419.188 \n",
       "  \"/>\n",
       "<polyline clip-path=\"url(#clip6903)\" style=\"stroke:#000000; stroke-width:2; stroke-opacity:0.1; fill:none\" points=\"\n",
       "  188.156,173.722 2321.26,173.722 \n",
       "  \"/>\n",
       "<polyline clip-path=\"url(#clip6901)\" style=\"stroke:#000000; stroke-width:4; stroke-opacity:1; fill:none\" points=\"\n",
       "  188.156,1440.48 2321.26,1440.48 \n",
       "  \"/>\n",
       "<polyline clip-path=\"url(#clip6901)\" style=\"stroke:#000000; stroke-width:4; stroke-opacity:1; fill:none\" points=\"\n",
       "  188.156,1440.48 188.156,47.2441 \n",
       "  \"/>\n",
       "<polyline clip-path=\"url(#clip6901)\" style=\"stroke:#000000; stroke-width:4; stroke-opacity:1; fill:none\" points=\"\n",
       "  188.156,1440.48 188.156,1419.58 \n",
       "  \"/>\n",
       "<polyline clip-path=\"url(#clip6901)\" style=\"stroke:#000000; stroke-width:4; stroke-opacity:1; fill:none\" points=\"\n",
       "  614.777,1440.48 614.777,1419.58 \n",
       "  \"/>\n",
       "<polyline clip-path=\"url(#clip6901)\" style=\"stroke:#000000; stroke-width:4; stroke-opacity:1; fill:none\" points=\"\n",
       "  1041.4,1440.48 1041.4,1419.58 \n",
       "  \"/>\n",
       "<polyline clip-path=\"url(#clip6901)\" style=\"stroke:#000000; stroke-width:4; stroke-opacity:1; fill:none\" points=\"\n",
       "  1468.02,1440.48 1468.02,1419.58 \n",
       "  \"/>\n",
       "<polyline clip-path=\"url(#clip6901)\" style=\"stroke:#000000; stroke-width:4; stroke-opacity:1; fill:none\" points=\"\n",
       "  1894.64,1440.48 1894.64,1419.58 \n",
       "  \"/>\n",
       "<polyline clip-path=\"url(#clip6901)\" style=\"stroke:#000000; stroke-width:4; stroke-opacity:1; fill:none\" points=\"\n",
       "  2321.26,1440.48 2321.26,1419.58 \n",
       "  \"/>\n",
       "<polyline clip-path=\"url(#clip6901)\" style=\"stroke:#000000; stroke-width:4; stroke-opacity:1; fill:none\" points=\"\n",
       "  188.156,1401.05 220.153,1401.05 \n",
       "  \"/>\n",
       "<polyline clip-path=\"url(#clip6901)\" style=\"stroke:#000000; stroke-width:4; stroke-opacity:1; fill:none\" points=\"\n",
       "  188.156,1155.59 220.153,1155.59 \n",
       "  \"/>\n",
       "<polyline clip-path=\"url(#clip6901)\" style=\"stroke:#000000; stroke-width:4; stroke-opacity:1; fill:none\" points=\"\n",
       "  188.156,910.12 220.153,910.12 \n",
       "  \"/>\n",
       "<polyline clip-path=\"url(#clip6901)\" style=\"stroke:#000000; stroke-width:4; stroke-opacity:1; fill:none\" points=\"\n",
       "  188.156,664.654 220.153,664.654 \n",
       "  \"/>\n",
       "<polyline clip-path=\"url(#clip6901)\" style=\"stroke:#000000; stroke-width:4; stroke-opacity:1; fill:none\" points=\"\n",
       "  188.156,419.188 220.153,419.188 \n",
       "  \"/>\n",
       "<polyline clip-path=\"url(#clip6901)\" style=\"stroke:#000000; stroke-width:4; stroke-opacity:1; fill:none\" points=\"\n",
       "  188.156,173.722 220.153,173.722 \n",
       "  \"/>\n",
       "<g clip-path=\"url(#clip6901)\">\n",
       "<text style=\"fill:#000000; fill-opacity:1; font-family:Arial,Helvetica Neue,Helvetica,sans-serif; font-size:48px; text-anchor:middle;\" transform=\"rotate(0, 188.156, 1494.48)\" x=\"188.156\" y=\"1494.48\">0</text>\n",
       "</g>\n",
       "<g clip-path=\"url(#clip6901)\">\n",
       "<text style=\"fill:#000000; fill-opacity:1; font-family:Arial,Helvetica Neue,Helvetica,sans-serif; font-size:48px; text-anchor:middle;\" transform=\"rotate(0, 614.777, 1494.48)\" x=\"614.777\" y=\"1494.48\">2</text>\n",
       "</g>\n",
       "<g clip-path=\"url(#clip6901)\">\n",
       "<text style=\"fill:#000000; fill-opacity:1; font-family:Arial,Helvetica Neue,Helvetica,sans-serif; font-size:48px; text-anchor:middle;\" transform=\"rotate(0, 1041.4, 1494.48)\" x=\"1041.4\" y=\"1494.48\">4</text>\n",
       "</g>\n",
       "<g clip-path=\"url(#clip6901)\">\n",
       "<text style=\"fill:#000000; fill-opacity:1; font-family:Arial,Helvetica Neue,Helvetica,sans-serif; font-size:48px; text-anchor:middle;\" transform=\"rotate(0, 1468.02, 1494.48)\" x=\"1468.02\" y=\"1494.48\">6</text>\n",
       "</g>\n",
       "<g clip-path=\"url(#clip6901)\">\n",
       "<text style=\"fill:#000000; fill-opacity:1; font-family:Arial,Helvetica Neue,Helvetica,sans-serif; font-size:48px; text-anchor:middle;\" transform=\"rotate(0, 1894.64, 1494.48)\" x=\"1894.64\" y=\"1494.48\">8</text>\n",
       "</g>\n",
       "<g clip-path=\"url(#clip6901)\">\n",
       "<text style=\"fill:#000000; fill-opacity:1; font-family:Arial,Helvetica Neue,Helvetica,sans-serif; font-size:48px; text-anchor:middle;\" transform=\"rotate(0, 2321.26, 1494.48)\" x=\"2321.26\" y=\"1494.48\">10</text>\n",
       "</g>\n",
       "<g clip-path=\"url(#clip6901)\">\n",
       "<text style=\"fill:#000000; fill-opacity:1; font-family:Arial,Helvetica Neue,Helvetica,sans-serif; font-size:48px; text-anchor:end;\" transform=\"rotate(0, 164.156, 1418.55)\" x=\"164.156\" y=\"1418.55\">0.00</text>\n",
       "</g>\n",
       "<g clip-path=\"url(#clip6901)\">\n",
       "<text style=\"fill:#000000; fill-opacity:1; font-family:Arial,Helvetica Neue,Helvetica,sans-serif; font-size:48px; text-anchor:end;\" transform=\"rotate(0, 164.156, 1173.09)\" x=\"164.156\" y=\"1173.09\">0.05</text>\n",
       "</g>\n",
       "<g clip-path=\"url(#clip6901)\">\n",
       "<text style=\"fill:#000000; fill-opacity:1; font-family:Arial,Helvetica Neue,Helvetica,sans-serif; font-size:48px; text-anchor:end;\" transform=\"rotate(0, 164.156, 927.62)\" x=\"164.156\" y=\"927.62\">0.10</text>\n",
       "</g>\n",
       "<g clip-path=\"url(#clip6901)\">\n",
       "<text style=\"fill:#000000; fill-opacity:1; font-family:Arial,Helvetica Neue,Helvetica,sans-serif; font-size:48px; text-anchor:end;\" transform=\"rotate(0, 164.156, 682.154)\" x=\"164.156\" y=\"682.154\">0.15</text>\n",
       "</g>\n",
       "<g clip-path=\"url(#clip6901)\">\n",
       "<text style=\"fill:#000000; fill-opacity:1; font-family:Arial,Helvetica Neue,Helvetica,sans-serif; font-size:48px; text-anchor:end;\" transform=\"rotate(0, 164.156, 436.688)\" x=\"164.156\" y=\"436.688\">0.20</text>\n",
       "</g>\n",
       "<g clip-path=\"url(#clip6901)\">\n",
       "<text style=\"fill:#000000; fill-opacity:1; font-family:Arial,Helvetica Neue,Helvetica,sans-serif; font-size:48px; text-anchor:end;\" transform=\"rotate(0, 164.156, 191.222)\" x=\"164.156\" y=\"191.222\">0.25</text>\n",
       "</g>\n",
       "<g clip-path=\"url(#clip6901)\">\n",
       "<text style=\"fill:#000000; fill-opacity:1; font-family:Arial,Helvetica Neue,Helvetica,sans-serif; font-size:66px; text-anchor:middle;\" transform=\"rotate(0, 1254.71, 1590.4)\" x=\"1254.71\" y=\"1590.4\">t</text>\n",
       "</g>\n",
       "<polyline clip-path=\"url(#clip6903)\" style=\"stroke:#009af9; stroke-width:12; stroke-opacity:1; fill:none\" points=\"\n",
       "  188.156,1401.05 209.487,891.902 230.818,534.816 252.149,328.202 273.481,216.094 294.812,156.171 316.143,124.201 337.474,107.126 358.805,97.9817 380.136,93.1104 \n",
       "  401.467,90.482 422.798,89.0959 444.129,88.3324 465.46,87.9436 486.791,87.7222 508.122,87.6031 529.453,87.5519 550.784,87.514 572.115,87.4911 593.446,87.4859 \n",
       "  614.777,87.4858 636.108,87.4779 657.439,87.4723 678.77,87.4727 700.101,87.4776 721.432,87.4797 742.763,87.4721 764.094,87.4634 785.425,87.4612 806.756,87.4678 \n",
       "  828.087,87.4799 849.418,87.4887 870.749,87.4764 892.081,87.4314 913.412,87.3942 934.743,87.3916 956.074,87.4303 977.405,87.4963 998.736,87.5552 1020.07,87.5515 \n",
       "  1041.4,87.372 1062.73,87.1511 1084.06,87.0709 1105.39,87.2013 1126.72,87.4994 1148.05,87.8095 1169.38,87.8634 1190.72,87.3821 1212.05,86.8159 1233.38,86.6754 \n",
       "  1254.71,87.0994 1276.04,87.8545 1297.37,88.3345 1318.7,87.8101 1340.03,87.0084 1361.36,86.7318 1382.69,87.1887 1404.03,88.0172 1425.36,88.2861 1446.69,87.6042 \n",
       "  1468.02,87.0664 1489.35,87.0988 1510.68,87.6296 1532.01,88.0894 1553.34,87.7479 1574.67,87.287 1596,87.1685 1617.34,87.4519 1638.67,87.8456 1660,87.7642 \n",
       "  1681.33,87.3976 1702.66,87.2123 1723.99,87.3414 1745.32,87.6617 1766.65,87.7933 1787.98,87.5088 1809.32,87.2562 1830.65,87.2503 1851.98,87.4894 1873.31,87.7561 \n",
       "  1894.64,87.6626 1915.97,87.3579 1937.3,87.2002 1958.63,87.3124 1979.96,87.6086 2001.29,87.7936 2022.63,87.5545 2043.96,87.2551 2065.29,87.1812 2086.62,87.39 \n",
       "  2107.95,87.7179 2129.28,87.7809 2150.61,87.4502 2171.94,87.1811 2193.27,87.2002 2214.6,87.495 2235.94,87.8142 2257.27,87.743 2278.6,87.6036 2299.93,87.5484 \n",
       "  2321.26,87.5277 \n",
       "  \"/>\n",
       "<polygon clip-path=\"url(#clip6901)\" points=\"\n",
       "1910.3,251.724 2249.26,251.724 2249.26,130.764 1910.3,130.764 \n",
       "  \" fill=\"#ffffff\" fill-rule=\"evenodd\" fill-opacity=\"1\"/>\n",
       "<polyline clip-path=\"url(#clip6901)\" style=\"stroke:#000000; stroke-width:4; stroke-opacity:1; fill:none\" points=\"\n",
       "  1910.3,251.724 2249.26,251.724 2249.26,130.764 1910.3,130.764 1910.3,251.724 \n",
       "  \"/>\n",
       "<polyline clip-path=\"url(#clip6901)\" style=\"stroke:#009af9; stroke-width:12; stroke-opacity:1; fill:none\" points=\"\n",
       "  1934.3,191.244 2078.3,191.244 \n",
       "  \"/>\n",
       "<g clip-path=\"url(#clip6901)\">\n",
       "<text style=\"fill:#000000; fill-opacity:1; font-family:Arial,Helvetica Neue,Helvetica,sans-serif; font-size:48px; text-anchor:start;\" transform=\"rotate(0, 2102.3, 208.744)\" x=\"2102.3\" y=\"208.744\">u1(t)</text>\n",
       "</g>\n",
       "</svg>\n"
      ]
     },
     "execution_count": 66,
     "metadata": {},
     "output_type": "execute_result"
    }
   ],
   "source": [
    "plot(sol)"
   ]
  },
  {
   "cell_type": "markdown",
   "metadata": {},
   "source": [
    "We can also compare our solutions to each other as follows:"
   ]
  },
  {
   "cell_type": "code",
   "execution_count": 67,
   "metadata": {},
   "outputs": [
    {
     "data": {
      "image/svg+xml": [
       "<?xml version=\"1.0\" encoding=\"utf-8\"?>\n",
       "<svg xmlns=\"http://www.w3.org/2000/svg\" xmlns:xlink=\"http://www.w3.org/1999/xlink\" width=\"600\" height=\"400\" viewBox=\"0 0 2400 1600\">\n",
       "<defs>\n",
       "  <clipPath id=\"clip7100\">\n",
       "    <rect x=\"0\" y=\"0\" width=\"2000\" height=\"2000\"/>\n",
       "  </clipPath>\n",
       "</defs>\n",
       "<defs>\n",
       "  <clipPath id=\"clip7101\">\n",
       "    <rect x=\"0\" y=\"0\" width=\"2400\" height=\"1600\"/>\n",
       "  </clipPath>\n",
       "</defs>\n",
       "<polygon clip-path=\"url(#clip7101)\" points=\"\n",
       "0,1600 2400,1600 2400,0 0,0 \n",
       "  \" fill=\"#ffffff\" fill-rule=\"evenodd\" fill-opacity=\"1\"/>\n",
       "<defs>\n",
       "  <clipPath id=\"clip7102\">\n",
       "    <rect x=\"480\" y=\"0\" width=\"1681\" height=\"1600\"/>\n",
       "  </clipPath>\n",
       "</defs>\n",
       "<polygon clip-path=\"url(#clip7101)\" points=\"\n",
       "188.156,1440.48 2321.26,1440.48 2321.26,47.2441 188.156,47.2441 \n",
       "  \" fill=\"#ffffff\" fill-rule=\"evenodd\" fill-opacity=\"1\"/>\n",
       "<defs>\n",
       "  <clipPath id=\"clip7103\">\n",
       "    <rect x=\"188\" y=\"47\" width=\"2134\" height=\"1394\"/>\n",
       "  </clipPath>\n",
       "</defs>\n",
       "<polyline clip-path=\"url(#clip7103)\" style=\"stroke:#000000; stroke-width:2; stroke-opacity:0.1; fill:none\" points=\"\n",
       "  188.156,1440.48 188.156,47.2441 \n",
       "  \"/>\n",
       "<polyline clip-path=\"url(#clip7103)\" style=\"stroke:#000000; stroke-width:2; stroke-opacity:0.1; fill:none\" points=\"\n",
       "  614.777,1440.48 614.777,47.2441 \n",
       "  \"/>\n",
       "<polyline clip-path=\"url(#clip7103)\" style=\"stroke:#000000; stroke-width:2; stroke-opacity:0.1; fill:none\" points=\"\n",
       "  1041.4,1440.48 1041.4,47.2441 \n",
       "  \"/>\n",
       "<polyline clip-path=\"url(#clip7103)\" style=\"stroke:#000000; stroke-width:2; stroke-opacity:0.1; fill:none\" points=\"\n",
       "  1468.02,1440.48 1468.02,47.2441 \n",
       "  \"/>\n",
       "<polyline clip-path=\"url(#clip7103)\" style=\"stroke:#000000; stroke-width:2; stroke-opacity:0.1; fill:none\" points=\"\n",
       "  1894.64,1440.48 1894.64,47.2441 \n",
       "  \"/>\n",
       "<polyline clip-path=\"url(#clip7103)\" style=\"stroke:#000000; stroke-width:2; stroke-opacity:0.1; fill:none\" points=\"\n",
       "  2321.26,1440.48 2321.26,47.2441 \n",
       "  \"/>\n",
       "<polyline clip-path=\"url(#clip7103)\" style=\"stroke:#000000; stroke-width:2; stroke-opacity:0.1; fill:none\" points=\"\n",
       "  188.156,1401.05 2321.26,1401.05 \n",
       "  \"/>\n",
       "<polyline clip-path=\"url(#clip7103)\" style=\"stroke:#000000; stroke-width:2; stroke-opacity:0.1; fill:none\" points=\"\n",
       "  188.156,1124.84 2321.26,1124.84 \n",
       "  \"/>\n",
       "<polyline clip-path=\"url(#clip7103)\" style=\"stroke:#000000; stroke-width:2; stroke-opacity:0.1; fill:none\" points=\"\n",
       "  188.156,848.633 2321.26,848.633 \n",
       "  \"/>\n",
       "<polyline clip-path=\"url(#clip7103)\" style=\"stroke:#000000; stroke-width:2; stroke-opacity:0.1; fill:none\" points=\"\n",
       "  188.156,572.424 2321.26,572.424 \n",
       "  \"/>\n",
       "<polyline clip-path=\"url(#clip7103)\" style=\"stroke:#000000; stroke-width:2; stroke-opacity:0.1; fill:none\" points=\"\n",
       "  188.156,296.215 2321.26,296.215 \n",
       "  \"/>\n",
       "<polyline clip-path=\"url(#clip7101)\" style=\"stroke:#000000; stroke-width:4; stroke-opacity:1; fill:none\" points=\"\n",
       "  188.156,1440.48 2321.26,1440.48 \n",
       "  \"/>\n",
       "<polyline clip-path=\"url(#clip7101)\" style=\"stroke:#000000; stroke-width:4; stroke-opacity:1; fill:none\" points=\"\n",
       "  188.156,1440.48 188.156,47.2441 \n",
       "  \"/>\n",
       "<polyline clip-path=\"url(#clip7101)\" style=\"stroke:#000000; stroke-width:4; stroke-opacity:1; fill:none\" points=\"\n",
       "  188.156,1440.48 188.156,1419.58 \n",
       "  \"/>\n",
       "<polyline clip-path=\"url(#clip7101)\" style=\"stroke:#000000; stroke-width:4; stroke-opacity:1; fill:none\" points=\"\n",
       "  614.777,1440.48 614.777,1419.58 \n",
       "  \"/>\n",
       "<polyline clip-path=\"url(#clip7101)\" style=\"stroke:#000000; stroke-width:4; stroke-opacity:1; fill:none\" points=\"\n",
       "  1041.4,1440.48 1041.4,1419.58 \n",
       "  \"/>\n",
       "<polyline clip-path=\"url(#clip7101)\" style=\"stroke:#000000; stroke-width:4; stroke-opacity:1; fill:none\" points=\"\n",
       "  1468.02,1440.48 1468.02,1419.58 \n",
       "  \"/>\n",
       "<polyline clip-path=\"url(#clip7101)\" style=\"stroke:#000000; stroke-width:4; stroke-opacity:1; fill:none\" points=\"\n",
       "  1894.64,1440.48 1894.64,1419.58 \n",
       "  \"/>\n",
       "<polyline clip-path=\"url(#clip7101)\" style=\"stroke:#000000; stroke-width:4; stroke-opacity:1; fill:none\" points=\"\n",
       "  2321.26,1440.48 2321.26,1419.58 \n",
       "  \"/>\n",
       "<polyline clip-path=\"url(#clip7101)\" style=\"stroke:#000000; stroke-width:4; stroke-opacity:1; fill:none\" points=\"\n",
       "  188.156,1401.05 220.153,1401.05 \n",
       "  \"/>\n",
       "<polyline clip-path=\"url(#clip7101)\" style=\"stroke:#000000; stroke-width:4; stroke-opacity:1; fill:none\" points=\"\n",
       "  188.156,1124.84 220.153,1124.84 \n",
       "  \"/>\n",
       "<polyline clip-path=\"url(#clip7101)\" style=\"stroke:#000000; stroke-width:4; stroke-opacity:1; fill:none\" points=\"\n",
       "  188.156,848.633 220.153,848.633 \n",
       "  \"/>\n",
       "<polyline clip-path=\"url(#clip7101)\" style=\"stroke:#000000; stroke-width:4; stroke-opacity:1; fill:none\" points=\"\n",
       "  188.156,572.424 220.153,572.424 \n",
       "  \"/>\n",
       "<polyline clip-path=\"url(#clip7101)\" style=\"stroke:#000000; stroke-width:4; stroke-opacity:1; fill:none\" points=\"\n",
       "  188.156,296.215 220.153,296.215 \n",
       "  \"/>\n",
       "<g clip-path=\"url(#clip7101)\">\n",
       "<text style=\"fill:#000000; fill-opacity:1; font-family:Arial,Helvetica Neue,Helvetica,sans-serif; font-size:48px; text-anchor:middle;\" transform=\"rotate(0, 188.156, 1494.48)\" x=\"188.156\" y=\"1494.48\">0</text>\n",
       "</g>\n",
       "<g clip-path=\"url(#clip7101)\">\n",
       "<text style=\"fill:#000000; fill-opacity:1; font-family:Arial,Helvetica Neue,Helvetica,sans-serif; font-size:48px; text-anchor:middle;\" transform=\"rotate(0, 614.777, 1494.48)\" x=\"614.777\" y=\"1494.48\">2</text>\n",
       "</g>\n",
       "<g clip-path=\"url(#clip7101)\">\n",
       "<text style=\"fill:#000000; fill-opacity:1; font-family:Arial,Helvetica Neue,Helvetica,sans-serif; font-size:48px; text-anchor:middle;\" transform=\"rotate(0, 1041.4, 1494.48)\" x=\"1041.4\" y=\"1494.48\">4</text>\n",
       "</g>\n",
       "<g clip-path=\"url(#clip7101)\">\n",
       "<text style=\"fill:#000000; fill-opacity:1; font-family:Arial,Helvetica Neue,Helvetica,sans-serif; font-size:48px; text-anchor:middle;\" transform=\"rotate(0, 1468.02, 1494.48)\" x=\"1468.02\" y=\"1494.48\">6</text>\n",
       "</g>\n",
       "<g clip-path=\"url(#clip7101)\">\n",
       "<text style=\"fill:#000000; fill-opacity:1; font-family:Arial,Helvetica Neue,Helvetica,sans-serif; font-size:48px; text-anchor:middle;\" transform=\"rotate(0, 1894.64, 1494.48)\" x=\"1894.64\" y=\"1494.48\">8</text>\n",
       "</g>\n",
       "<g clip-path=\"url(#clip7101)\">\n",
       "<text style=\"fill:#000000; fill-opacity:1; font-family:Arial,Helvetica Neue,Helvetica,sans-serif; font-size:48px; text-anchor:middle;\" transform=\"rotate(0, 2321.26, 1494.48)\" x=\"2321.26\" y=\"1494.48\">10</text>\n",
       "</g>\n",
       "<g clip-path=\"url(#clip7101)\">\n",
       "<text style=\"fill:#000000; fill-opacity:1; font-family:Arial,Helvetica Neue,Helvetica,sans-serif; font-size:48px; text-anchor:end;\" transform=\"rotate(0, 164.156, 1418.55)\" x=\"164.156\" y=\"1418.55\">0.0</text>\n",
       "</g>\n",
       "<g clip-path=\"url(#clip7101)\">\n",
       "<text style=\"fill:#000000; fill-opacity:1; font-family:Arial,Helvetica Neue,Helvetica,sans-serif; font-size:48px; text-anchor:end;\" transform=\"rotate(0, 164.156, 1142.34)\" x=\"164.156\" y=\"1142.34\">2.5</text>\n",
       "</g>\n",
       "<g clip-path=\"url(#clip7101)\">\n",
       "<text style=\"fill:#000000; fill-opacity:1; font-family:Arial,Helvetica Neue,Helvetica,sans-serif; font-size:48px; text-anchor:end;\" transform=\"rotate(0, 164.156, 866.133)\" x=\"164.156\" y=\"866.133\">5.0</text>\n",
       "</g>\n",
       "<g clip-path=\"url(#clip7101)\">\n",
       "<text style=\"fill:#000000; fill-opacity:1; font-family:Arial,Helvetica Neue,Helvetica,sans-serif; font-size:48px; text-anchor:end;\" transform=\"rotate(0, 164.156, 589.924)\" x=\"164.156\" y=\"589.924\">7.5</text>\n",
       "</g>\n",
       "<g clip-path=\"url(#clip7101)\">\n",
       "<text style=\"fill:#000000; fill-opacity:1; font-family:Arial,Helvetica Neue,Helvetica,sans-serif; font-size:48px; text-anchor:end;\" transform=\"rotate(0, 164.156, 313.715)\" x=\"164.156\" y=\"313.715\">10.0</text>\n",
       "</g>\n",
       "<g clip-path=\"url(#clip7101)\">\n",
       "<text style=\"fill:#000000; fill-opacity:1; font-family:Arial,Helvetica Neue,Helvetica,sans-serif; font-size:66px; text-anchor:middle;\" transform=\"rotate(0, 1254.71, 1590.4)\" x=\"1254.71\" y=\"1590.4\">t</text>\n",
       "</g>\n",
       "<polyline clip-path=\"url(#clip7103)\" style=\"stroke:#009af9; stroke-width:4; stroke-opacity:1; fill:none\" stroke-dasharray=\"2, 4\" points=\"\n",
       "  188.156,1401.05 209.487,1377.57 230.818,1358.04 252.149,1344.9 273.481,1338.14 294.812,1335.33 316.143,1332.52 337.474,1325.77 358.805,1312.62 380.136,1293.09 \n",
       "  401.467,1269.61 422.798,1246.13 444.129,1226.6 465.46,1213.46 486.791,1206.7 508.122,1203.89 529.453,1201.09 550.784,1194.33 572.115,1181.19 593.446,1161.66 \n",
       "  614.777,1138.18 636.108,1114.7 657.439,1095.17 678.77,1082.02 700.101,1075.27 721.432,1072.46 742.763,1069.65 764.094,1062.89 785.425,1049.75 806.756,1030.22 \n",
       "  828.087,1006.74 849.418,983.259 870.749,963.728 892.081,950.584 913.412,943.828 934.743,941.02 956.074,938.212 977.405,931.456 998.736,918.312 1020.07,898.78 \n",
       "  1041.4,875.301 1062.73,851.822 1084.06,832.29 1105.39,819.146 1126.72,812.39 1148.05,809.582 1169.38,806.774 1190.72,800.018 1212.05,786.874 1233.38,767.343 \n",
       "  1254.71,743.863 1276.04,720.384 1297.37,700.852 1318.7,687.709 1340.03,680.953 1361.36,678.145 1382.69,675.336 1404.03,668.58 1425.36,655.437 1446.69,635.905 \n",
       "  1468.02,612.426 1489.35,588.946 1510.68,569.415 1532.01,556.271 1553.34,549.515 1574.67,546.707 1596,543.899 1617.34,537.143 1638.67,523.999 1660,504.468 \n",
       "  1681.33,480.988 1702.66,457.509 1723.99,437.977 1745.32,424.833 1766.65,418.077 1787.98,415.269 1809.32,412.461 1830.65,405.705 1851.98,392.561 1873.31,373.03 \n",
       "  1894.64,349.551 1915.97,326.071 1937.3,306.54 1958.63,293.396 1979.96,286.64 2001.29,283.832 2022.63,281.024 2043.96,274.268 2065.29,261.124 2086.62,241.592 \n",
       "  2107.95,218.113 2129.28,194.634 2150.61,175.102 2171.94,161.958 2193.27,155.202 2214.6,152.394 2235.94,149.586 2257.27,142.83 2278.6,129.686 2299.93,110.155 \n",
       "  2321.26,86.6754 \n",
       "  \"/>\n",
       "<polyline clip-path=\"url(#clip7103)\" style=\"stroke:#e26f46; stroke-width:4; stroke-opacity:1; fill:none\" stroke-dasharray=\"2, 4\" points=\"\n",
       "  188.156,1401.05 209.487,1389.59 230.818,1381.56 252.149,1376.91 273.481,1374.38 294.812,1373.04 316.143,1372.32 337.474,1371.93 358.805,1371.73 380.136,1371.62 \n",
       "  401.467,1371.56 422.798,1371.53 444.129,1371.51 465.46,1371.5 486.791,1371.5 508.122,1371.49 529.453,1371.49 550.784,1371.49 572.115,1371.49 593.446,1371.49 \n",
       "  614.777,1371.49 636.108,1371.49 657.439,1371.49 678.77,1371.49 700.101,1371.49 721.432,1371.49 742.763,1371.49 764.094,1371.49 785.425,1371.49 806.756,1371.49 \n",
       "  828.087,1371.49 849.418,1371.49 870.749,1371.49 892.081,1371.49 913.412,1371.49 934.743,1371.49 956.074,1371.49 977.405,1371.49 998.736,1371.49 1020.07,1371.49 \n",
       "  1041.4,1371.49 1062.73,1371.48 1084.06,1371.48 1105.39,1371.48 1126.72,1371.49 1148.05,1371.5 1169.38,1371.5 1190.72,1371.49 1212.05,1371.47 1233.38,1371.47 \n",
       "  1254.71,1371.48 1276.04,1371.5 1297.37,1371.51 1318.7,1371.5 1340.03,1371.48 1361.36,1371.47 1382.69,1371.48 1404.03,1371.5 1425.36,1371.51 1446.69,1371.49 \n",
       "  1468.02,1371.48 1489.35,1371.48 1510.68,1371.49 1532.01,1371.5 1553.34,1371.5 1574.67,1371.49 1596,1371.48 1617.34,1371.49 1638.67,1371.5 1660,1371.5 \n",
       "  1681.33,1371.49 1702.66,1371.48 1723.99,1371.49 1745.32,1371.49 1766.65,1371.5 1787.98,1371.49 1809.32,1371.48 1830.65,1371.48 1851.98,1371.49 1873.31,1371.5 \n",
       "  1894.64,1371.49 1915.97,1371.49 1937.3,1371.48 1958.63,1371.49 1979.96,1371.49 2001.29,1371.5 2022.63,1371.49 2043.96,1371.48 2065.29,1371.48 2086.62,1371.49 \n",
       "  2107.95,1371.49 2129.28,1371.5 2150.61,1371.49 2171.94,1371.48 2193.27,1371.48 2214.6,1371.49 2235.94,1371.5 2257.27,1371.5 2278.6,1371.49 2299.93,1371.49 \n",
       "  2321.26,1371.49 \n",
       "  \"/>\n",
       "<polygon clip-path=\"url(#clip7101)\" points=\"\n",
       "1565.18,312.204 2249.26,312.204 2249.26,130.764 1565.18,130.764 \n",
       "  \" fill=\"#ffffff\" fill-rule=\"evenodd\" fill-opacity=\"1\"/>\n",
       "<polyline clip-path=\"url(#clip7101)\" style=\"stroke:#000000; stroke-width:4; stroke-opacity:1; fill:none\" points=\"\n",
       "  1565.18,312.204 2249.26,312.204 2249.26,130.764 1565.18,130.764 1565.18,312.204 \n",
       "  \"/>\n",
       "<polyline clip-path=\"url(#clip7101)\" style=\"stroke:#009af9; stroke-width:4; stroke-opacity:1; fill:none\" stroke-dasharray=\"2, 4\" points=\"\n",
       "  1589.18,191.244 1733.18,191.244 \n",
       "  \"/>\n",
       "<g clip-path=\"url(#clip7101)\">\n",
       "<text style=\"fill:#000000; fill-opacity:1; font-family:Arial,Helvetica Neue,Helvetica,sans-serif; font-size:48px; text-anchor:start;\" transform=\"rotate(0, 1757.18, 208.744)\" x=\"1757.18\" y=\"208.744\">Manual solution</text>\n",
       "</g>\n",
       "<polyline clip-path=\"url(#clip7101)\" style=\"stroke:#e26f46; stroke-width:4; stroke-opacity:1; fill:none\" stroke-dasharray=\"2, 4\" points=\"\n",
       "  1589.18,251.724 1733.18,251.724 \n",
       "  \"/>\n",
       "<g clip-path=\"url(#clip7101)\">\n",
       "<text style=\"fill:#000000; fill-opacity:1; font-family:Arial,Helvetica Neue,Helvetica,sans-serif; font-size:48px; text-anchor:start;\" transform=\"rotate(0, 1757.18, 269.224)\" x=\"1757.18\" y=\"269.224\">DifferentialEquations</text>\n",
       "</g>\n",
       "</svg>\n"
      ]
     },
     "execution_count": 67,
     "metadata": {},
     "output_type": "execute_result"
    }
   ],
   "source": [
    "plot(t_list,X_list,lw=1,linestyle=:dot,label=\"Manual solution\")\n",
    "plot!(sol,lw=1,linestyle=:dot,label=\"DifferentialEquations\")"
   ]
  }
 ],
 "metadata": {
  "kernelspec": {
   "display_name": "Julia 1.1.0",
   "language": "julia",
   "name": "julia-1.1"
  },
  "language_info": {
   "file_extension": ".jl",
   "mimetype": "application/julia",
   "name": "julia",
   "version": "1.1.0"
  }
 },
 "nbformat": 4,
 "nbformat_minor": 2
}
